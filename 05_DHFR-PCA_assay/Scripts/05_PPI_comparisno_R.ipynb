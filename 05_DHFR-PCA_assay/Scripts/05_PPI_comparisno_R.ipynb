{
 "cells": [
  {
   "cell_type": "code",
   "execution_count": 2,
   "id": "bf051cc9-59c7-496d-9903-f7d63d12f8ae",
   "metadata": {},
   "outputs": [
    {
     "name": "stderr",
     "output_type": "stream",
     "text": [
      "\n",
      " 次のパッケージを付け加えます: ‘dplyr’ \n",
      "\n",
      "\n",
      " 以下のオブジェクトは ‘package:stats’ からマスクされています:\n",
      "\n",
      "    filter, lag\n",
      "\n",
      "\n",
      " 以下のオブジェクトは ‘package:base’ からマスクされています:\n",
      "\n",
      "    intersect, setdiff, setequal, union\n",
      "\n",
      "\n",
      " 要求されたパッケージ gridExtra をロード中です \n",
      "\n",
      "\n",
      " 次のパッケージを付け加えます: ‘gridExtra’ \n",
      "\n",
      "\n",
      " 以下のオブジェクトは ‘package:dplyr’ からマスクされています:\n",
      "\n",
      "    combine\n",
      "\n",
      "\n",
      "── \u001b[1mAttaching core tidyverse packages\u001b[22m ──────────────────────── tidyverse 2.0.0 ──\n",
      "\u001b[32m✔\u001b[39m \u001b[34mforcats  \u001b[39m 1.0.0     \u001b[32m✔\u001b[39m \u001b[34mstringr  \u001b[39m 1.5.0\n",
      "\u001b[32m✔\u001b[39m \u001b[34mlubridate\u001b[39m 1.9.2     \u001b[32m✔\u001b[39m \u001b[34mtibble   \u001b[39m 3.2.1\n",
      "\u001b[32m✔\u001b[39m \u001b[34mpurrr    \u001b[39m 1.0.1     \u001b[32m✔\u001b[39m \u001b[34mtidyr    \u001b[39m 1.3.0\n",
      "\u001b[32m✔\u001b[39m \u001b[34mreadr    \u001b[39m 2.1.4     \n",
      "── \u001b[1mConflicts\u001b[22m ────────────────────────────────────────── tidyverse_conflicts() ──\n",
      "\u001b[31m✖\u001b[39m \u001b[34mgridExtra\u001b[39m::\u001b[32mcombine()\u001b[39m masks \u001b[34mdplyr\u001b[39m::combine()\n",
      "\u001b[31m✖\u001b[39m \u001b[34mdplyr\u001b[39m::\u001b[32mfilter()\u001b[39m      masks \u001b[34mstats\u001b[39m::filter()\n",
      "\u001b[31m✖\u001b[39m \u001b[34mdplyr\u001b[39m::\u001b[32mlag()\u001b[39m         masks \u001b[34mstats\u001b[39m::lag()\n",
      "\u001b[36mℹ\u001b[39m Use the conflicted package (\u001b[3m\u001b[34m<http://conflicted.r-lib.org/>\u001b[39m\u001b[23m) to force all conflicts to become errors\n"
     ]
    }
   ],
   "source": [
    "library(ggplot2)\n",
    "library(reshape2)\n",
    "library(dplyr)\n",
    "library(egg)\n",
    "library(grid)\n",
    "library(tidyverse)\n",
    "library(ggExtra)"
   ]
  },
  {
   "cell_type": "code",
   "execution_count": 3,
   "id": "00984614-099e-4891-af07-f9311653351c",
   "metadata": {},
   "outputs": [],
   "source": [
    "data = read.csv(\"../Input/20230614_parsed_PPI_data.csv\")"
   ]
  },
  {
   "cell_type": "code",
   "execution_count": 4,
   "id": "4b8513bb-6a8d-4a6e-8a49-44d0ae646f82",
   "metadata": {},
   "outputs": [
    {
     "data": {
      "text/html": [
       "<style>\n",
       ".list-inline {list-style: none; margin:0; padding: 0}\n",
       ".list-inline>li {display: inline-block}\n",
       ".list-inline>li:not(:last-child)::after {content: \"\\00b7\"; padding: 0 .5ex}\n",
       "</style>\n",
       "<ol class=list-inline><li>'Anc'</li><li>'AB'</li><li>'A'</li><li>'Vehicle'</li><li>'B'</li></ol>\n"
      ],
      "text/latex": [
       "\\begin{enumerate*}\n",
       "\\item 'Anc'\n",
       "\\item 'AB'\n",
       "\\item 'A'\n",
       "\\item 'Vehicle'\n",
       "\\item 'B'\n",
       "\\end{enumerate*}\n"
      ],
      "text/markdown": [
       "1. 'Anc'\n",
       "2. 'AB'\n",
       "3. 'A'\n",
       "4. 'Vehicle'\n",
       "5. 'B'\n",
       "\n",
       "\n"
      ],
      "text/plain": [
       "[1] \"Anc\"     \"AB\"      \"A\"       \"Vehicle\" \"B\"      "
      ]
     },
     "metadata": {},
     "output_type": "display_data"
    }
   ],
   "source": [
    "unique(data$State)"
   ]
  },
  {
   "cell_type": "code",
   "execution_count": 5,
   "id": "a9a166ae-ec8d-4c3b-bb90-fb623393f25f",
   "metadata": {},
   "outputs": [
    {
     "data": {
      "text/html": [
       "<style>\n",
       ".list-inline {list-style: none; margin:0; padding: 0}\n",
       ".list-inline>li {display: inline-block}\n",
       ".list-inline>li:not(:last-child)::after {content: \"\\00b7\"; padding: 0 .5ex}\n",
       "</style>\n",
       "<ol class=list-inline><li>'T.delbrueckii'</li><li>'V.polyspora'</li><li>'S.bayanusvar.uvarum'</li><li>'S.mikatae'</li><li>'S.kudriavzevii'</li><li>'K.africana'</li><li>'T.blattae'</li><li>'Vehicle'</li><li>'N.dairenensis'</li><li>'N.castellii'</li><li>'K.naganishii'</li><li>'Z.rouxii'</li><li>'C.glabrata'</li><li>'T.phaffii'</li><li>'S.cerevisiae'</li></ol>\n"
      ],
      "text/latex": [
       "\\begin{enumerate*}\n",
       "\\item 'T.delbrueckii'\n",
       "\\item 'V.polyspora'\n",
       "\\item 'S.bayanusvar.uvarum'\n",
       "\\item 'S.mikatae'\n",
       "\\item 'S.kudriavzevii'\n",
       "\\item 'K.africana'\n",
       "\\item 'T.blattae'\n",
       "\\item 'Vehicle'\n",
       "\\item 'N.dairenensis'\n",
       "\\item 'N.castellii'\n",
       "\\item 'K.naganishii'\n",
       "\\item 'Z.rouxii'\n",
       "\\item 'C.glabrata'\n",
       "\\item 'T.phaffii'\n",
       "\\item 'S.cerevisiae'\n",
       "\\end{enumerate*}\n"
      ],
      "text/markdown": [
       "1. 'T.delbrueckii'\n",
       "2. 'V.polyspora'\n",
       "3. 'S.bayanusvar.uvarum'\n",
       "4. 'S.mikatae'\n",
       "5. 'S.kudriavzevii'\n",
       "6. 'K.africana'\n",
       "7. 'T.blattae'\n",
       "8. 'Vehicle'\n",
       "9. 'N.dairenensis'\n",
       "10. 'N.castellii'\n",
       "11. 'K.naganishii'\n",
       "12. 'Z.rouxii'\n",
       "13. 'C.glabrata'\n",
       "14. 'T.phaffii'\n",
       "15. 'S.cerevisiae'\n",
       "\n",
       "\n"
      ],
      "text/plain": [
       " [1] \"T.delbrueckii\"       \"V.polyspora\"         \"S.bayanusvar.uvarum\"\n",
       " [4] \"S.mikatae\"           \"S.kudriavzevii\"      \"K.africana\"         \n",
       " [7] \"T.blattae\"           \"Vehicle\"             \"N.dairenensis\"      \n",
       "[10] \"N.castellii\"         \"K.naganishii\"        \"Z.rouxii\"           \n",
       "[13] \"C.glabrata\"          \"T.phaffii\"           \"S.cerevisiae\"       "
      ]
     },
     "metadata": {},
     "output_type": "display_data"
    }
   ],
   "source": [
    "unique(data$Ortholog.Species)"
   ]
  },
  {
   "cell_type": "code",
   "execution_count": 6,
   "id": "8e584deb-c2ae-4920-b22c-fc2f5532f233",
   "metadata": {},
   "outputs": [
    {
     "data": {
      "text/html": [
       "1675"
      ],
      "text/latex": [
       "1675"
      ],
      "text/markdown": [
       "1675"
      ],
      "text/plain": [
       "[1] 1675"
      ]
     },
     "metadata": {},
     "output_type": "display_data"
    },
    {
     "data": {
      "text/html": [
       "1613"
      ],
      "text/latex": [
       "1613"
      ],
      "text/markdown": [
       "1613"
      ],
      "text/plain": [
       "[1] 1613"
      ]
     },
     "metadata": {},
     "output_type": "display_data"
    }
   ],
   "source": [
    "nrow(data)\n",
    "data = data %>% filter(PPI.Scer != \"NA\")%>% filter(PPI.Scer != 0)\n",
    "nrow(data)"
   ]
  },
  {
   "cell_type": "code",
   "execution_count": 7,
   "id": "ca3fe6e5-302b-4e1a-94ba-de1de25f0a0b",
   "metadata": {},
   "outputs": [
    {
     "data": {
      "text/html": [
       "<style>\n",
       ".list-inline {list-style: none; margin:0; padding: 0}\n",
       ".list-inline>li {display: inline-block}\n",
       ".list-inline>li:not(:last-child)::after {content: \"\\00b7\"; padding: 0 .5ex}\n",
       "</style>\n",
       "<ol class=list-inline><li>'T.delbrueckii'</li><li>'V.polyspora'</li><li>'S.bayanusvar.uvarum'</li><li>'S.mikatae'</li><li>'S.kudriavzevii'</li><li>'K.africana'</li><li>'T.blattae'</li><li>'Vehicle'</li><li>'N.dairenensis'</li><li>'N.castellii'</li><li>'K.naganishii'</li><li>'Z.rouxii'</li><li>'C.glabrata'</li><li>'T.phaffii'</li><li>'S.cerevisiae'</li></ol>\n"
      ],
      "text/latex": [
       "\\begin{enumerate*}\n",
       "\\item 'T.delbrueckii'\n",
       "\\item 'V.polyspora'\n",
       "\\item 'S.bayanusvar.uvarum'\n",
       "\\item 'S.mikatae'\n",
       "\\item 'S.kudriavzevii'\n",
       "\\item 'K.africana'\n",
       "\\item 'T.blattae'\n",
       "\\item 'Vehicle'\n",
       "\\item 'N.dairenensis'\n",
       "\\item 'N.castellii'\n",
       "\\item 'K.naganishii'\n",
       "\\item 'Z.rouxii'\n",
       "\\item 'C.glabrata'\n",
       "\\item 'T.phaffii'\n",
       "\\item 'S.cerevisiae'\n",
       "\\end{enumerate*}\n"
      ],
      "text/markdown": [
       "1. 'T.delbrueckii'\n",
       "2. 'V.polyspora'\n",
       "3. 'S.bayanusvar.uvarum'\n",
       "4. 'S.mikatae'\n",
       "5. 'S.kudriavzevii'\n",
       "6. 'K.africana'\n",
       "7. 'T.blattae'\n",
       "8. 'Vehicle'\n",
       "9. 'N.dairenensis'\n",
       "10. 'N.castellii'\n",
       "11. 'K.naganishii'\n",
       "12. 'Z.rouxii'\n",
       "13. 'C.glabrata'\n",
       "14. 'T.phaffii'\n",
       "15. 'S.cerevisiae'\n",
       "\n",
       "\n"
      ],
      "text/plain": [
       " [1] \"T.delbrueckii\"       \"V.polyspora\"         \"S.bayanusvar.uvarum\"\n",
       " [4] \"S.mikatae\"           \"S.kudriavzevii\"      \"K.africana\"         \n",
       " [7] \"T.blattae\"           \"Vehicle\"             \"N.dairenensis\"      \n",
       "[10] \"N.castellii\"         \"K.naganishii\"        \"Z.rouxii\"           \n",
       "[13] \"C.glabrata\"          \"T.phaffii\"           \"S.cerevisiae\"       "
      ]
     },
     "metadata": {},
     "output_type": "display_data"
    }
   ],
   "source": [
    "unique(data$Ortholog.Species)"
   ]
  },
  {
   "cell_type": "code",
   "execution_count": 8,
   "id": "b7113710-3659-429e-b987-aafab49c703e",
   "metadata": {},
   "outputs": [],
   "source": [
    "data$State = factor(data$State,levels=c(\"Anc\",\"AB\",\"A\",\"B\",\"Vehicle\"))\n"
   ]
  },
  {
   "cell_type": "code",
   "execution_count": 9,
   "id": "f315e9ee-c95a-4664-a9c8-69e7d2cc97b0",
   "metadata": {},
   "outputs": [
    {
     "data": {
      "text/html": [
       "<table class=\"dataframe\">\n",
       "<caption>A data.frame: 6 × 18</caption>\n",
       "<thead>\n",
       "\t<tr><th></th><th scope=col>PPI_partner.Gene</th><th scope=col>PPI_partner.ORF</th><th scope=col>Ortholog.Species</th><th scope=col>State</th><th scope=col>PPI.NA</th><th scope=col>Ortholog.GeneA</th><th scope=col>Ortholog.GeneB</th><th scope=col>Ortholog.GeneAnc</th><th scope=col>PPI.Ortholog.GeneA</th><th scope=col>PPI.Ortholog.GeneB</th><th scope=col>PPI.Ortholog.Anc</th><th scope=col>PPI.A_div_B</th><th scope=col>PPI.Scer</th><th scope=col>PPI.Vehicle</th><th scope=col>MaxPPI</th><th scope=col>AvePPI</th><th scope=col>RelPPI</th><th scope=col>RelPPIMax</th></tr>\n",
       "\t<tr><th></th><th scope=col>&lt;chr&gt;</th><th scope=col>&lt;chr&gt;</th><th scope=col>&lt;chr&gt;</th><th scope=col>&lt;fct&gt;</th><th scope=col>&lt;chr&gt;</th><th scope=col>&lt;chr&gt;</th><th scope=col>&lt;chr&gt;</th><th scope=col>&lt;chr&gt;</th><th scope=col>&lt;dbl&gt;</th><th scope=col>&lt;dbl&gt;</th><th scope=col>&lt;dbl&gt;</th><th scope=col>&lt;dbl&gt;</th><th scope=col>&lt;dbl&gt;</th><th scope=col>&lt;dbl&gt;</th><th scope=col>&lt;dbl&gt;</th><th scope=col>&lt;dbl&gt;</th><th scope=col>&lt;dbl&gt;</th><th scope=col>&lt;dbl&gt;</th></tr>\n",
       "</thead>\n",
       "<tbody>\n",
       "\t<tr><th scope=row>1</th><td>YLR027C</td><td>AAT2</td><td>T.delbrueckii      </td><td>Anc</td><td>No</td><td>            </td><td>            </td><td>TDEL0E05230</td><td>      NA</td><td>      NA</td><td>51992.75</td><td>    1.000000</td><td>10368.75</td><td>4043</td><td>51992.75</td><td>51992.75</td><td>5.014370</td><td>5.014370</td></tr>\n",
       "\t<tr><th scope=row>2</th><td>YLR027C</td><td>AAT2</td><td>V.polyspora        </td><td>AB </td><td>No</td><td>Kpol_1002.53</td><td>Kpol_1033.51</td><td>           </td><td>29039.75</td><td>15932.00</td><td>      NA</td><td>    1.822731</td><td>10368.75</td><td>4043</td><td>29039.75</td><td>22485.88</td><td>2.168620</td><td>2.800699</td></tr>\n",
       "\t<tr><th scope=row>3</th><td>YLR027C</td><td>AAT2</td><td>S.bayanusvar.uvarum</td><td>A  </td><td>No</td><td>Suva_16.102 </td><td>            </td><td>           </td><td>25431.25</td><td>      NA</td><td>      NA</td><td>25431.250000</td><td>10368.75</td><td>4043</td><td>25431.25</td><td>25431.25</td><td>2.452682</td><td>2.452682</td></tr>\n",
       "\t<tr><th scope=row>4</th><td>YLR027C</td><td>AAT2</td><td>S.mikatae          </td><td>A  </td><td>No</td><td>Smik_6.409  </td><td>            </td><td>           </td><td>10516.75</td><td>      NA</td><td>      NA</td><td>10516.750000</td><td>10368.75</td><td>4043</td><td>10516.75</td><td>10516.75</td><td>1.014274</td><td>1.014274</td></tr>\n",
       "\t<tr><th scope=row>5</th><td>YLR027C</td><td>AAT2</td><td>S.kudriavzevii     </td><td>A  </td><td>No</td><td>Skud_16.75  </td><td>            </td><td>           </td><td>10875.50</td><td>      NA</td><td>      NA</td><td>10875.500000</td><td>10368.75</td><td>4043</td><td>10875.50</td><td>10875.50</td><td>1.048873</td><td>1.048873</td></tr>\n",
       "\t<tr><th scope=row>6</th><td>YLR027C</td><td>AAT2</td><td>K.africana         </td><td>AB </td><td>No</td><td>KAFR0K00320 </td><td>KAFR0C02290 </td><td>           </td><td>73575.50</td><td>31606.75</td><td>      NA</td><td>    2.327841</td><td>10368.75</td><td>4043</td><td>73575.50</td><td>52591.12</td><td>5.072080</td><td>7.095889</td></tr>\n",
       "</tbody>\n",
       "</table>\n"
      ],
      "text/latex": [
       "A data.frame: 6 × 18\n",
       "\\begin{tabular}{r|llllllllllllllllll}\n",
       "  & PPI\\_partner.Gene & PPI\\_partner.ORF & Ortholog.Species & State & PPI.NA & Ortholog.GeneA & Ortholog.GeneB & Ortholog.GeneAnc & PPI.Ortholog.GeneA & PPI.Ortholog.GeneB & PPI.Ortholog.Anc & PPI.A\\_div\\_B & PPI.Scer & PPI.Vehicle & MaxPPI & AvePPI & RelPPI & RelPPIMax\\\\\n",
       "  & <chr> & <chr> & <chr> & <fct> & <chr> & <chr> & <chr> & <chr> & <dbl> & <dbl> & <dbl> & <dbl> & <dbl> & <dbl> & <dbl> & <dbl> & <dbl> & <dbl>\\\\\n",
       "\\hline\n",
       "\t1 & YLR027C & AAT2 & T.delbrueckii       & Anc & No &              &              & TDEL0E05230 &       NA &       NA & 51992.75 &     1.000000 & 10368.75 & 4043 & 51992.75 & 51992.75 & 5.014370 & 5.014370\\\\\n",
       "\t2 & YLR027C & AAT2 & V.polyspora         & AB  & No & Kpol\\_1002.53 & Kpol\\_1033.51 &             & 29039.75 & 15932.00 &       NA &     1.822731 & 10368.75 & 4043 & 29039.75 & 22485.88 & 2.168620 & 2.800699\\\\\n",
       "\t3 & YLR027C & AAT2 & S.bayanusvar.uvarum & A   & No & Suva\\_16.102  &              &             & 25431.25 &       NA &       NA & 25431.250000 & 10368.75 & 4043 & 25431.25 & 25431.25 & 2.452682 & 2.452682\\\\\n",
       "\t4 & YLR027C & AAT2 & S.mikatae           & A   & No & Smik\\_6.409   &              &             & 10516.75 &       NA &       NA & 10516.750000 & 10368.75 & 4043 & 10516.75 & 10516.75 & 1.014274 & 1.014274\\\\\n",
       "\t5 & YLR027C & AAT2 & S.kudriavzevii      & A   & No & Skud\\_16.75   &              &             & 10875.50 &       NA &       NA & 10875.500000 & 10368.75 & 4043 & 10875.50 & 10875.50 & 1.048873 & 1.048873\\\\\n",
       "\t6 & YLR027C & AAT2 & K.africana          & AB  & No & KAFR0K00320  & KAFR0C02290  &             & 73575.50 & 31606.75 &       NA &     2.327841 & 10368.75 & 4043 & 73575.50 & 52591.12 & 5.072080 & 7.095889\\\\\n",
       "\\end{tabular}\n"
      ],
      "text/markdown": [
       "\n",
       "A data.frame: 6 × 18\n",
       "\n",
       "| <!--/--> | PPI_partner.Gene &lt;chr&gt; | PPI_partner.ORF &lt;chr&gt; | Ortholog.Species &lt;chr&gt; | State &lt;fct&gt; | PPI.NA &lt;chr&gt; | Ortholog.GeneA &lt;chr&gt; | Ortholog.GeneB &lt;chr&gt; | Ortholog.GeneAnc &lt;chr&gt; | PPI.Ortholog.GeneA &lt;dbl&gt; | PPI.Ortholog.GeneB &lt;dbl&gt; | PPI.Ortholog.Anc &lt;dbl&gt; | PPI.A_div_B &lt;dbl&gt; | PPI.Scer &lt;dbl&gt; | PPI.Vehicle &lt;dbl&gt; | MaxPPI &lt;dbl&gt; | AvePPI &lt;dbl&gt; | RelPPI &lt;dbl&gt; | RelPPIMax &lt;dbl&gt; |\n",
       "|---|---|---|---|---|---|---|---|---|---|---|---|---|---|---|---|---|---|---|\n",
       "| 1 | YLR027C | AAT2 | T.delbrueckii       | Anc | No | <!----> | <!----> | TDEL0E05230 |       NA |       NA | 51992.75 |     1.000000 | 10368.75 | 4043 | 51992.75 | 51992.75 | 5.014370 | 5.014370 |\n",
       "| 2 | YLR027C | AAT2 | V.polyspora         | AB  | No | Kpol_1002.53 | Kpol_1033.51 | <!----> | 29039.75 | 15932.00 |       NA |     1.822731 | 10368.75 | 4043 | 29039.75 | 22485.88 | 2.168620 | 2.800699 |\n",
       "| 3 | YLR027C | AAT2 | S.bayanusvar.uvarum | A   | No | Suva_16.102  | <!----> | <!----> | 25431.25 |       NA |       NA | 25431.250000 | 10368.75 | 4043 | 25431.25 | 25431.25 | 2.452682 | 2.452682 |\n",
       "| 4 | YLR027C | AAT2 | S.mikatae           | A   | No | Smik_6.409   | <!----> | <!----> | 10516.75 |       NA |       NA | 10516.750000 | 10368.75 | 4043 | 10516.75 | 10516.75 | 1.014274 | 1.014274 |\n",
       "| 5 | YLR027C | AAT2 | S.kudriavzevii      | A   | No | Skud_16.75   | <!----> | <!----> | 10875.50 |       NA |       NA | 10875.500000 | 10368.75 | 4043 | 10875.50 | 10875.50 | 1.048873 | 1.048873 |\n",
       "| 6 | YLR027C | AAT2 | K.africana          | AB  | No | KAFR0K00320  | KAFR0C02290  | <!----> | 73575.50 | 31606.75 |       NA |     2.327841 | 10368.75 | 4043 | 73575.50 | 52591.12 | 5.072080 | 7.095889 |\n",
       "\n"
      ],
      "text/plain": [
       "  PPI_partner.Gene PPI_partner.ORF Ortholog.Species    State PPI.NA\n",
       "1 YLR027C          AAT2            T.delbrueckii       Anc   No    \n",
       "2 YLR027C          AAT2            V.polyspora         AB    No    \n",
       "3 YLR027C          AAT2            S.bayanusvar.uvarum A     No    \n",
       "4 YLR027C          AAT2            S.mikatae           A     No    \n",
       "5 YLR027C          AAT2            S.kudriavzevii      A     No    \n",
       "6 YLR027C          AAT2            K.africana          AB    No    \n",
       "  Ortholog.GeneA Ortholog.GeneB Ortholog.GeneAnc PPI.Ortholog.GeneA\n",
       "1                               TDEL0E05230            NA          \n",
       "2 Kpol_1002.53   Kpol_1033.51                    29039.75          \n",
       "3 Suva_16.102                                    25431.25          \n",
       "4 Smik_6.409                                     10516.75          \n",
       "5 Skud_16.75                                     10875.50          \n",
       "6 KAFR0K00320    KAFR0C02290                     73575.50          \n",
       "  PPI.Ortholog.GeneB PPI.Ortholog.Anc PPI.A_div_B  PPI.Scer PPI.Vehicle\n",
       "1       NA           51992.75             1.000000 10368.75 4043       \n",
       "2 15932.00                 NA             1.822731 10368.75 4043       \n",
       "3       NA                 NA         25431.250000 10368.75 4043       \n",
       "4       NA                 NA         10516.750000 10368.75 4043       \n",
       "5       NA                 NA         10875.500000 10368.75 4043       \n",
       "6 31606.75                 NA             2.327841 10368.75 4043       \n",
       "  MaxPPI   AvePPI   RelPPI   RelPPIMax\n",
       "1 51992.75 51992.75 5.014370 5.014370 \n",
       "2 29039.75 22485.88 2.168620 2.800699 \n",
       "3 25431.25 25431.25 2.452682 2.452682 \n",
       "4 10516.75 10516.75 1.014274 1.014274 \n",
       "5 10875.50 10875.50 1.048873 1.048873 \n",
       "6 73575.50 52591.12 5.072080 7.095889 "
      ]
     },
     "metadata": {},
     "output_type": "display_data"
    }
   ],
   "source": [
    "data = data %>% mutate(MaxPPI=pmax(PPI.Ortholog.GeneA,PPI.Ortholog.GeneB,PPI.Ortholog.Anc, na.rm = TRUE))\n",
    "#data = data %>% rowwise() %>% mutate(SumPPI=sum(PPI.Ortholog.GeneA,PPI.Ortholog.GeneB,PPI.Ortholog.Anc, na.rm = TRUE))\n",
    "data$AvePPI = rowMeans(data[,9:11], na.rm=TRUE)\n",
    "\n",
    "#data = data %>% filter(AvePPI != \"NaN\")\n",
    "\n",
    "data$RelPPI = data$AvePPI/data$PPI.Scer\n",
    "data$RelPPIMax = data$MaxPPI/data$PPI.Scer\n",
    "#unique(data$Ortholog.Species)\n",
    "head(data)"
   ]
  },
  {
   "cell_type": "code",
   "execution_count": 10,
   "id": "1ced2ff1-dcbd-451f-8d14-e4913d3570e7",
   "metadata": {},
   "outputs": [],
   "source": [
    "#data %>% filter(Ortholog.Species==\"Vehicle\")"
   ]
  },
  {
   "cell_type": "code",
   "execution_count": 11,
   "id": "a3c21bd8-8075-4763-ab58-be9103300ef3",
   "metadata": {},
   "outputs": [
    {
     "name": "stderr",
     "output_type": "stream",
     "text": [
      "Warning message:\n",
      "“\u001b[1m\u001b[22mThe `size` argument of `element_line()` is deprecated as of ggplot2 3.4.0.\n",
      "\u001b[36mℹ\u001b[39m Please use the `linewidth` argument instead.”\n",
      "Warning message:\n",
      "“\u001b[1m\u001b[22mRemoved 1 rows containing missing values (`geom_point()`).”\n"
     ]
    }
   ],
   "source": [
    "# Scatter plot of PPI score vs Scer\n",
    "data_complete= data %>% filter(PPI.NA==\"No\")\n",
    "\n",
    "# With Vwhicle\n",
    "data_v = data_complete %>% filter(State==\"Vehicle\")\n",
    "for (species in unique(data_v$Ortholog.Species) ){\n",
    "data_sp= data_v %>% filter(Ortholog.Species==species)\n",
    "\n",
    "scatter  = ggplot(data=data_sp,aes(x=log10(PPI.Scer+1),y=log10(PPI.Ortholog.Anc+1))) + \n",
    "                       geom_hline(yintercept=log10(10001),linetype=\"dashed\",color=\"#ababab\",alpha=0.5)+\n",
    "            geom_vline(xintercept=log10(10001),linetype=\"dashed\",color=\"#ababab\",alpha=0.5)+\n",
    "            geom_abline(slope=1.0,linetype=\"dashed\",color=\"#000000\",alpha=0.5)+\n",
    " geom_point(alpha=0.5,size=1,shape=1,color=\"#000000\")+\n",
    "            scale_y_continuous(expand=c(0,0),limits=c(1.75,6.25)) +  \n",
    "            scale_x_continuous(expand=c(0,0),limits=c(1.75,6.25)) + \n",
    "            theme(\n",
    "                    legend.position='none',\n",
    "                    legend.key = element_blank(),\n",
    "                    strip.background = element_rect(color=\"#FFFFFF\",fill=\"#FFFFFF\"),\n",
    "                    panel.grid.minor = element_blank(),\n",
    "                    panel.grid.major = element_blank(),\n",
    "                    panel.spacing = unit(0.75, \"lines\"),\n",
    "                    panel.background = element_blank(),\n",
    "                    aspect.ratio=1.0,\n",
    "                    axis.ticks =element_line(color = \"#000000\", size = 0.5),\n",
    "                    axis.text.x = element_text(color=\"#000000\",size=9.5),\n",
    "                    axis.text.y = element_text(color=\"#000000\",size=9.5),\n",
    "                    panel.border = element_rect(color=\"#000000\", fill = NA,linewidth=1.0),\n",
    "                    axis.title=element_text(size=12)\n",
    "                )+ \n",
    "        xlab(bquote(~Log[10]~ ~italic(Scer)~ 'PPI score'))+\n",
    "         ylab(bquote(~Log[10]~ 'PPI score'))+\n",
    "    facet_wrap(~Ortholog.Species,strip.position=\"top\")\n",
    "\n",
    "    p <- set_panel_size(scatter,width  = unit(2.5, \"cm\"),height = unit(2.5, \"cm\"))\n",
    "    #grid.newpage()\n",
    "    #grid.draw(p)\n",
    "    ggsave(plot=p,paste(\"../Output/\",species,\"_vsScer_scatter.pdf\" ,sep=\"\"),width=unit(3,\"cm\"),height=unit(3,\"cm\"))\n",
    "}\n",
    "\n"
   ]
  },
  {
   "cell_type": "code",
   "execution_count": 12,
   "id": "9f42a286-093c-441d-8a22-8468dfb8cb17",
   "metadata": {},
   "outputs": [
    {
     "name": "stderr",
     "output_type": "stream",
     "text": [
      "Warning message:\n",
      "“\u001b[1m\u001b[22mRemoved 1 rows containing missing values (`geom_point()`).”\n",
      "Warning message:\n",
      "“\u001b[1m\u001b[22mRemoved 2 rows containing missing values (`geom_point()`).”\n"
     ]
    }
   ],
   "source": [
    "# Scatter plot of PPI score vs Scer\n",
    "data_complete= data %>% filter(PPI.NA==\"No\")\n",
    "\n",
    "# With Vwhicle\n",
    "data_v = data_complete %>% filter(State==\"Anc\")\n",
    "for (species in unique(data_v$Ortholog.Species) ){\n",
    "data_sp= data_v %>% filter(Ortholog.Species==species)\n",
    "\n",
    "scatter  = ggplot(data=data_sp,aes(x=log10(PPI.Scer+1),y=log10(PPI.Ortholog.Anc+1))) + \n",
    "            geom_hline(yintercept=log10(10001),linetype=\"dashed\",color=\"#ababab\",alpha=0.5)+\n",
    "            geom_vline(xintercept=log10(10001),linetype=\"dashed\",color=\"#ababab\",alpha=0.5)+\n",
    "            geom_abline(slope=1.0,linetype=\"dashed\",color=\"#000000\",alpha=0.5)+\n",
    "            geom_point(alpha=0.5,size=1,shape=1,color=\"#000000\")+\n",
    "            scale_y_continuous(expand=c(0,0),limits=c(1.75,6.25)) +  \n",
    "            scale_x_continuous(expand=c(0,0),limits=c(1.75,6.25)) + \n",
    "            theme(\n",
    "                    legend.position='none',\n",
    "                    legend.key = element_blank(),\n",
    "                    strip.background = element_rect(color=\"#FFFFFF\",fill=\"#FFFFFF\"),\n",
    "                    panel.grid.minor = element_blank(),\n",
    "                    panel.grid.major = element_blank(),\n",
    "                    panel.spacing = unit(0.75, \"lines\"),\n",
    "                    panel.background = element_blank(),\n",
    "                    aspect.ratio=1.0,\n",
    "                    axis.ticks =element_line(color = \"#000000\", size = 0.5),\n",
    "                    axis.text.x = element_text(color=\"#000000\",size=9.5),\n",
    "                    axis.text.y = element_text(color=\"#000000\",size=9.5),\n",
    "                    panel.border = element_rect(color=\"#000000\", fill = NA,linewidth=1.0),\n",
    "                    axis.title=element_text(size=12)\n",
    "                )+ \n",
    "        xlab(bquote(~Log[10]~ ~italic(Scer)~ 'PPI score'))+\n",
    "         ylab(bquote(~Log[10]~ 'PPI score'))+\n",
    "    facet_wrap(~Ortholog.Species,strip.position=\"top\")\n",
    "\n",
    "    p <- set_panel_size(scatter,width  = unit(2.5, \"cm\"),height = unit(2.5, \"cm\"))\n",
    "    #grid.newpage()\n",
    "    #grid.draw(p)\n",
    "    ggsave(plot=p,paste(\"../Output/\",species,\"_vsScer_scatter.pdf\" ,sep=\"\"),width=unit(3,\"cm\"),height=unit(3,\"cm\"))\n",
    "}\n",
    "\n"
   ]
  },
  {
   "cell_type": "code",
   "execution_count": 13,
   "id": "80641b98-6936-42cb-8943-ff0d51771c30",
   "metadata": {},
   "outputs": [
    {
     "name": "stderr",
     "output_type": "stream",
     "text": [
      "Warning message:\n",
      "“\u001b[1m\u001b[22mRemoved 1 rows containing missing values (`geom_point()`).”\n"
     ]
    }
   ],
   "source": [
    "# Scatter plot of PPI score vs Scer\n",
    "data_complete= data %>% filter(PPI.NA==\"No\")\n",
    "\n",
    "# With Copy A\n",
    "data_A = data_complete %>% filter(State==\"A\")\n",
    "for (species in unique(data_A$Ortholog.Species) ){\n",
    "data_sp= data_A %>% filter(Ortholog.Species==species)%>% filter(PPI.NA==\"No\")\n",
    "\n",
    "scatter  = ggplot(data=data_sp,aes(x=log10(PPI.Scer+1),y=log10(PPI.Ortholog.GeneA+1))) + \n",
    "                       geom_hline(yintercept=log10(10001),linetype=\"dashed\",color=\"#ababab\",alpha=0.5)+\n",
    "            geom_vline(xintercept=log10(10001),linetype=\"dashed\",color=\"#ababab\",alpha=0.5)+\n",
    "            geom_abline(slope=1.0,linetype=\"dashed\",color=\"#000000\",alpha=0.5)+\n",
    " geom_point(alpha=0.5,size=1,shape=1,color=\"#000000\")+\n",
    "            scale_y_continuous(expand=c(0,0),limits=c(1.75,6.25)) +  \n",
    "            scale_x_continuous(expand=c(0,0),limits=c(1.75,6.25)) + \n",
    "            theme(\n",
    "                    legend.position='none',\n",
    "                    legend.key = element_blank(),\n",
    "                    strip.background = element_rect(color=\"#FFFFFF\",fill=\"#FFFFFF\"),\n",
    "                    panel.grid.minor = element_blank(),\n",
    "                    panel.grid.major = element_blank(),\n",
    "                    panel.spacing = unit(0.75, \"lines\"),\n",
    "                    panel.background = element_blank(),\n",
    "                    aspect.ratio=1.0,\n",
    "                    axis.ticks =element_line(color = \"#000000\", size = 0.5),\n",
    "                    axis.text.x = element_text(color=\"#000000\",size=9.5),\n",
    "                    axis.text.y = element_text(color=\"#000000\",size=9.5),\n",
    "                    panel.border = element_rect(color=\"#000000\", fill = NA,linewidth=1.0),\n",
    "                    axis.title=element_text(size=12)\n",
    "                )+ \n",
    "        xlab(bquote(~Log[10]~ ~italic(Scer)~ 'PPI score'))+\n",
    "         ylab(bquote(~Log[10]~ 'PPI score'))+\n",
    "    facet_wrap(~Ortholog.Species,strip.position=\"top\")\n",
    "\n",
    "    p <- set_panel_size(scatter,width  = unit(2.5, \"cm\"),height = unit(2.5, \"cm\"))\n",
    "    #grid.newpage()\n",
    "    #grid.draw(p)\n",
    "    ggsave(plot=p,paste(\"../Output/\",species,\"_vsScer_scatter.pdf\" ,sep=\"\"),width=unit(3,\"cm\"),height=unit(3,\"cm\"))\n",
    "}\n",
    "\n"
   ]
  },
  {
   "cell_type": "code",
   "execution_count": 14,
   "id": "b284319c-4111-42a3-b6a7-b422d8f7bf4c",
   "metadata": {},
   "outputs": [
    {
     "name": "stderr",
     "output_type": "stream",
     "text": [
      "Warning message:\n",
      "“\u001b[1m\u001b[22mRemoved 2 rows containing missing values (`geom_point()`).”\n"
     ]
    }
   ],
   "source": [
    "# Scatter plot of PPI score vs Scer\n",
    "data_complete= data %>% filter(PPI.NA==\"No\")\n",
    "\n",
    "# With Copy B\n",
    "data_B = data_complete %>% filter(State==\"B\")\n",
    "for (species in unique(data_B$Ortholog.Species) ){\n",
    "data_sp= data_B %>% filter(Ortholog.Species==species)%>% filter(PPI.NA==\"No\")\n",
    "\n",
    "scatter  = ggplot(data=data_sp,aes(x=log10(PPI.Scer+1),y=log10(PPI.Ortholog.GeneB+1))) + \n",
    "                      geom_hline(yintercept=log10(10001),linetype=\"dashed\",color=\"#ababab\",alpha=0.5)+\n",
    "            geom_vline(xintercept=log10(10001),linetype=\"dashed\",color=\"#ababab\",alpha=0.5)+\n",
    "            geom_abline(slope=1.0,linetype=\"dashed\",color=\"#000000\",alpha=0.5)+\n",
    "  geom_point(alpha=0.5,size=1,shape=1,color=\"#000000\")+\n",
    "            scale_y_continuous(expand=c(0,0),limits=c(1.75,6.25)) +  \n",
    "            scale_x_continuous(expand=c(0,0),limits=c(1.75,6.25)) + \n",
    "            theme(\n",
    "                    legend.position='none',\n",
    "                    legend.key = element_blank(),\n",
    "                    strip.background = element_rect(color=\"#FFFFFF\",fill=\"#FFFFFF\"),\n",
    "                    panel.grid.minor = element_blank(),\n",
    "                    panel.grid.major = element_blank(),\n",
    "                    panel.spacing = unit(0.75, \"lines\"),\n",
    "                    panel.background = element_blank(),\n",
    "                    aspect.ratio=1.0,\n",
    "                    axis.ticks =element_line(color = \"#000000\", size = 0.5),\n",
    "                    axis.text.x = element_text(color=\"#000000\",size=9.5),\n",
    "                    axis.text.y = element_text(color=\"#000000\",size=9.5),\n",
    "                    panel.border = element_rect(color=\"#000000\", fill = NA,linewidth=1.0),\n",
    "                    axis.title=element_text(size=12)\n",
    "                )+ \n",
    "        xlab(bquote(~Log[10]~ ~italic(Scer)~ 'PPI score'))+\n",
    "         ylab(bquote(~Log[10]~ 'PPI score'))+\n",
    "    facet_wrap(~Ortholog.Species,strip.position=\"top\")\n",
    "\n",
    "    p <- set_panel_size(scatter,width  = unit(2.5, \"cm\"),height = unit(2.5, \"cm\"))\n",
    "    #grid.newpage()\n",
    "    #grid.draw(p)\n",
    "    ggsave(plot=p,paste(\"../Output/\",species,\"_vsScer_scatter.pdf\" ,sep=\"\"),width=unit(3,\"cm\"),height=unit(3,\"cm\"))\n",
    "}\n",
    "\n"
   ]
  },
  {
   "cell_type": "code",
   "execution_count": 46,
   "id": "55afc361-7572-4d4c-bf5b-e9e1261a1403",
   "metadata": {},
   "outputs": [
    {
     "name": "stderr",
     "output_type": "stream",
     "text": [
      "Warning message:\n",
      "“\u001b[1m\u001b[22mRemoved 6 rows containing missing values (`geom_point()`).”\n",
      "Warning message:\n",
      "“\u001b[1m\u001b[22mRemoved 5 rows containing missing values (`geom_point()`).”\n",
      "Warning message:\n",
      "“\u001b[1m\u001b[22mRemoved 5 rows containing missing values (`geom_point()`).”\n",
      "Warning message:\n",
      "“\u001b[1m\u001b[22mRemoved 2 rows containing missing values (`geom_point()`).”\n",
      "Warning message:\n",
      "“\u001b[1m\u001b[22mRemoved 5 rows containing missing values (`geom_point()`).”\n",
      "Warning message:\n",
      "“\u001b[1m\u001b[22mRemoved 6 rows containing missing values (`geom_point()`).”\n",
      "Warning message:\n",
      "“\u001b[1m\u001b[22mRemoved 5 rows containing missing values (`geom_point()`).”\n",
      "Warning message:\n",
      "“\u001b[1m\u001b[22mRemoved 2 rows containing missing values (`geom_point()`).”\n"
     ]
    }
   ],
   "source": [
    "# Scatter plot of PPI score vs Scer\n",
    "data_complete= data %>% filter(PPI.NA==\"No\")\n",
    "\n",
    "# With Copy AB\n",
    "data_A = data_complete %>% filter(State==\"AB\")\n",
    "for (species in unique(data_A$Ortholog.Species) ){\n",
    "data_sp= data_A %>% filter(Ortholog.Species==species)%>% filter(PPI.NA==\"No\")\n",
    "\n",
    "scatter  = ggplot(data=data_sp,aes(x=log10(PPI.Scer+1),y=log10(PPI.Ortholog.GeneA+1))) + \n",
    "                 geom_hline(yintercept=log10(10001),linetype=\"dashed\",color=\"#ababab\",alpha=0.5)+\n",
    "            geom_vline(xintercept=log10(10001),linetype=\"dashed\",color=\"#ababab\",alpha=0.5)+\n",
    "            geom_abline(slope=1.0,linetype=\"dashed\",color=\"#000000\",alpha=0.5)+\n",
    "       geom_point(alpha=0.5,size=1,shape=1,color=\"#000000\")+\n",
    "            scale_y_continuous(expand=c(0,0),limits=c(1.75,6.25)) +  \n",
    "            scale_x_continuous(expand=c(0,0),limits=c(1.75,6.25)) + \n",
    "            theme(\n",
    "                    legend.position='none',\n",
    "                    legend.key = element_blank(),\n",
    "                    strip.background = element_rect(color=\"#FFFFFF\",fill=\"#FFFFFF\"),\n",
    "                    panel.grid.minor = element_blank(),\n",
    "                    panel.grid.major = element_blank(),\n",
    "                    panel.spacing = unit(0.75, \"lines\"),\n",
    "                    panel.background = element_blank(),\n",
    "                    aspect.ratio=1.0,\n",
    "                    axis.ticks =element_line(color = \"#000000\", size = 0.5),\n",
    "                    axis.text.x = element_text(color=\"#000000\",size=9.5),\n",
    "                    axis.text.y = element_text(color=\"#000000\",size=9.5),\n",
    "                    panel.border = element_rect(color=\"#000000\", fill = NA,linewidth=1.0),\n",
    "                    axis.title=element_text(size=12)\n",
    "                )+ \n",
    "        xlab(bquote(~Log[10]~ ~italic(Scer)~ 'PPI score'))+\n",
    "         ylab(bquote(~Log[10]~ 'PPI score'))+\n",
    "    facet_wrap(~Ortholog.Species,strip.position=\"top\")\n",
    "\n",
    "    p <- set_panel_size(scatter,width  = unit(2.5, \"cm\"),height = unit(2.5, \"cm\"))\n",
    "    #grid.newpage()\n",
    "    #grid.draw(p)\n",
    "    ggsave(plot=p,paste(\"../Output/\",species,\"_vsScer_scatter_A.pdf\" ,sep=\"\"),width=unit(3,\"cm\"),height=unit(3,\"cm\"))\n",
    "}\n",
    "\n",
    "data_B = data_complete %>% filter(State==\"AB\")\n",
    "for (species in unique(data_B$Ortholog.Species) ){\n",
    "data_sp= data_B %>% filter(Ortholog.Species==species)%>% filter(PPI.NA==\"No\")\n",
    "\n",
    "scatter  = ggplot(data=data_sp,aes(x=log10(PPI.Scer+1),y=log10(PPI.Ortholog.GeneB+1))) + \n",
    "                      geom_hline(yintercept=log10(10001),linetype=\"dashed\",color=\"#ababab\",alpha=0.5)+\n",
    "            geom_vline(xintercept=log10(10001),linetype=\"dashed\",color=\"#ababab\",alpha=0.5)+\n",
    "            geom_abline(slope=1.0,linetype=\"dashed\",color=\"#000000\",alpha=0.5)+\n",
    "  geom_point(alpha=0.5,size=1,shape=1,color=\"#000000\")+\n",
    "            scale_y_continuous(expand=c(0,0),limits=c(1.75,6.25)) +  \n",
    "            scale_x_continuous(expand=c(0,0),limits=c(1.75,6.25)) + \n",
    "            theme(\n",
    "                    legend.position='none',\n",
    "                    legend.key = element_blank(),\n",
    "                    strip.background = element_rect(color=\"#FFFFFF\",fill=\"#FFFFFF\"),\n",
    "                    panel.grid.minor = element_blank(),\n",
    "                    panel.grid.major = element_blank(),\n",
    "                    panel.spacing = unit(0.75, \"lines\"),\n",
    "                    panel.background = element_blank(),\n",
    "                    aspect.ratio=1.0,\n",
    "                    axis.ticks =element_line(color = \"#000000\", size = 0.5),\n",
    "                    axis.text.x = element_text(color=\"#000000\",size=9.5),\n",
    "                    axis.text.y = element_text(color=\"#000000\",size=9.5),\n",
    "                    panel.border = element_rect(color=\"#000000\", fill = NA,linewidth=1.0),\n",
    "                    axis.title=element_text(size=12)\n",
    "                )+ \n",
    "        xlab(bquote(~Log[10]~ ~italic(Scer)~ 'PPI score'))+\n",
    "         ylab(bquote(~Log[10]~ 'PPI score'))+\n",
    "    facet_wrap(~Ortholog.Species,strip.position=\"top\")\n",
    "\n",
    "    p <- set_panel_size(scatter,width  = unit(2.5, \"cm\"),height = unit(2.5, \"cm\"))\n",
    "    #grid.newpage()\n",
    "    #grid.draw(p)\n",
    "    ggsave(plot=p,paste(\"../Output/\",species,\"_vsScer_scatter_B.pdf\" ,sep=\"\"),width=unit(3,\"cm\"),height=unit(3,\"cm\"))\n",
    "}\n",
    "\n",
    "\n",
    "data_AB = data_complete %>% filter(State==\"AB\")\n",
    "for (species in unique(data_AB$Ortholog.Species) ){\n",
    "data_sp= data_AB %>% filter(Ortholog.Species==species)%>% filter(PPI.NA==\"No\")\n",
    "\n",
    "scatter  = ggplot(data=data_sp,aes(x=log10(PPI.Ortholog.GeneA+1),y=log10(PPI.Ortholog.GeneB+1))) + \n",
    "                        geom_hline(yintercept=log10(10001),linetype=\"dashed\",color=\"#ababab\",alpha=0.5)+\n",
    "            geom_vline(xintercept=log10(10001),linetype=\"dashed\",color=\"#ababab\",alpha=0.5)+\n",
    "            geom_abline(slope=1.0,linetype=\"dashed\",color=\"#000000\",alpha=0.5)+\n",
    "geom_point(alpha=0.5,size=1,shape=1,color=\"#000000\")+\n",
    "            scale_y_continuous(expand=c(0,0),limits=c(1.75,6.25)) +  \n",
    "            scale_x_continuous(expand=c(0,0),limits=c(1.75,6.25)) + \n",
    "            theme(\n",
    "                    legend.position='none',\n",
    "                    legend.key = element_blank(),\n",
    "                    strip.background = element_rect(color=\"#FFFFFF\",fill=\"#FFFFFF\"),\n",
    "                    panel.grid.minor = element_blank(),\n",
    "                    panel.grid.major = element_blank(),\n",
    "                    panel.spacing = unit(0.75, \"lines\"),\n",
    "                    panel.background = element_blank(),\n",
    "                    aspect.ratio=1.0,\n",
    "                    axis.ticks =element_line(color = \"#000000\", size = 0.5),\n",
    "                    axis.text.x = element_text(color=\"#000000\",size=9.5),\n",
    "                    axis.text.y = element_text(color=\"#000000\",size=9.5),\n",
    "                    panel.border = element_rect(color=\"#000000\", fill = NA,linewidth=1.0),\n",
    "                    axis.title=element_text(size=12)\n",
    "                )+ \n",
    "        xlab(bquote(~Log[10]~ 'PPI score A'))+\n",
    "         ylab(bquote(~Log[10]~ 'PPI score B'))+\n",
    "    facet_wrap(~Ortholog.Species,strip.position=\"top\")\n",
    "\n",
    "    p <- set_panel_size(scatter,width  = unit(2.5, \"cm\"),height = unit(2.5, \"cm\"))\n",
    "    #grid.newpage()\n",
    "    #grid.draw(p)\n",
    "    ggsave(plot=p,paste(\"../Output/\",species,\"_scatter_AvsB.pdf\" ,sep=\"\"),width=unit(3,\"cm\"),height=unit(3,\"cm\"))\n",
    "}\n",
    "\n"
   ]
  },
  {
   "cell_type": "code",
   "execution_count": 15,
   "id": "14625c9a-f1c7-4998-b4c2-535ff1a58f8b",
   "metadata": {},
   "outputs": [
    {
     "data": {
      "text/html": [
       "<table class=\"dataframe\">\n",
       "<caption>A data.frame: 6 × 18</caption>\n",
       "<thead>\n",
       "\t<tr><th></th><th scope=col>PPI_partner.Gene</th><th scope=col>PPI_partner.ORF</th><th scope=col>Ortholog.Species</th><th scope=col>State</th><th scope=col>PPI.NA</th><th scope=col>Ortholog.GeneA</th><th scope=col>Ortholog.GeneB</th><th scope=col>Ortholog.GeneAnc</th><th scope=col>PPI.Ortholog.GeneA</th><th scope=col>PPI.Ortholog.GeneB</th><th scope=col>PPI.Ortholog.Anc</th><th scope=col>PPI.A_div_B</th><th scope=col>PPI.Scer</th><th scope=col>PPI.Vehicle</th><th scope=col>MaxPPI</th><th scope=col>AvePPI</th><th scope=col>RelPPI</th><th scope=col>RelPPIMax</th></tr>\n",
       "\t<tr><th></th><th scope=col>&lt;chr&gt;</th><th scope=col>&lt;chr&gt;</th><th scope=col>&lt;fct&gt;</th><th scope=col>&lt;fct&gt;</th><th scope=col>&lt;chr&gt;</th><th scope=col>&lt;chr&gt;</th><th scope=col>&lt;chr&gt;</th><th scope=col>&lt;chr&gt;</th><th scope=col>&lt;dbl&gt;</th><th scope=col>&lt;dbl&gt;</th><th scope=col>&lt;dbl&gt;</th><th scope=col>&lt;dbl&gt;</th><th scope=col>&lt;dbl&gt;</th><th scope=col>&lt;dbl&gt;</th><th scope=col>&lt;dbl&gt;</th><th scope=col>&lt;dbl&gt;</th><th scope=col>&lt;dbl&gt;</th><th scope=col>&lt;dbl&gt;</th></tr>\n",
       "</thead>\n",
       "<tbody>\n",
       "\t<tr><th scope=row>1</th><td>YLR027C</td><td>AAT2</td><td>V.polyspora  </td><td>AB</td><td>No</td><td>Kpol_1002.53</td><td>Kpol_1033.51</td><td></td><td>29039.75</td><td>15932.00</td><td>NA</td><td>1.82273098</td><td>10368.75</td><td>4043</td><td>29039.75</td><td>22485.88</td><td>2.168620</td><td>2.800699</td></tr>\n",
       "\t<tr><th scope=row>2</th><td>YLR027C</td><td>AAT2</td><td>K.africana   </td><td>AB</td><td>No</td><td>KAFR0K00320 </td><td>KAFR0C02290 </td><td></td><td>73575.50</td><td>31606.75</td><td>NA</td><td>2.32784136</td><td>10368.75</td><td>4043</td><td>73575.50</td><td>52591.12</td><td>5.072080</td><td>7.095889</td></tr>\n",
       "\t<tr><th scope=row>3</th><td>YLR027C</td><td>AAT2</td><td>T.blattae    </td><td>AB</td><td>No</td><td>TBLA0A02040 </td><td>TBLA0B05310 </td><td></td><td> 5612.00</td><td>58258.00</td><td>NA</td><td>0.09633012</td><td>10368.75</td><td>4043</td><td>58258.00</td><td>31935.00</td><td>3.079928</td><td>5.618614</td></tr>\n",
       "\t<tr><th scope=row>4</th><td>YLR027C</td><td>AAT2</td><td>N.dairenensis</td><td>AB</td><td>No</td><td>NDAI0F01640 </td><td>NDAI0I01070 </td><td></td><td> 3752.00</td><td>49981.00</td><td>NA</td><td>0.07506853</td><td>10368.75</td><td>4043</td><td>49981.00</td><td>26866.50</td><td>2.591103</td><td>4.820350</td></tr>\n",
       "\t<tr><th scope=row>5</th><td>YLR027C</td><td>AAT2</td><td>N.castellii  </td><td>AB</td><td>No</td><td>NCAS0A01090 </td><td>NCAS0D03820 </td><td></td><td> 4660.75</td><td>23907.00</td><td>NA</td><td>0.19495336</td><td>10368.75</td><td>4043</td><td>23907.00</td><td>14283.88</td><td>1.377589</td><td>2.305678</td></tr>\n",
       "\t<tr><th scope=row>6</th><td>YLR027C</td><td>AAT2</td><td>K.naganishii </td><td>AB</td><td>No</td><td>KNAG0D01130 </td><td>KNAG0F01980 </td><td></td><td> 9510.50</td><td>54301.25</td><td>NA</td><td>0.17514330</td><td>10368.75</td><td>4043</td><td>54301.25</td><td>31905.88</td><td>3.077119</td><td>5.237010</td></tr>\n",
       "</tbody>\n",
       "</table>\n"
      ],
      "text/latex": [
       "A data.frame: 6 × 18\n",
       "\\begin{tabular}{r|llllllllllllllllll}\n",
       "  & PPI\\_partner.Gene & PPI\\_partner.ORF & Ortholog.Species & State & PPI.NA & Ortholog.GeneA & Ortholog.GeneB & Ortholog.GeneAnc & PPI.Ortholog.GeneA & PPI.Ortholog.GeneB & PPI.Ortholog.Anc & PPI.A\\_div\\_B & PPI.Scer & PPI.Vehicle & MaxPPI & AvePPI & RelPPI & RelPPIMax\\\\\n",
       "  & <chr> & <chr> & <fct> & <fct> & <chr> & <chr> & <chr> & <chr> & <dbl> & <dbl> & <dbl> & <dbl> & <dbl> & <dbl> & <dbl> & <dbl> & <dbl> & <dbl>\\\\\n",
       "\\hline\n",
       "\t1 & YLR027C & AAT2 & V.polyspora   & AB & No & Kpol\\_1002.53 & Kpol\\_1033.51 &  & 29039.75 & 15932.00 & NA & 1.82273098 & 10368.75 & 4043 & 29039.75 & 22485.88 & 2.168620 & 2.800699\\\\\n",
       "\t2 & YLR027C & AAT2 & K.africana    & AB & No & KAFR0K00320  & KAFR0C02290  &  & 73575.50 & 31606.75 & NA & 2.32784136 & 10368.75 & 4043 & 73575.50 & 52591.12 & 5.072080 & 7.095889\\\\\n",
       "\t3 & YLR027C & AAT2 & T.blattae     & AB & No & TBLA0A02040  & TBLA0B05310  &  &  5612.00 & 58258.00 & NA & 0.09633012 & 10368.75 & 4043 & 58258.00 & 31935.00 & 3.079928 & 5.618614\\\\\n",
       "\t4 & YLR027C & AAT2 & N.dairenensis & AB & No & NDAI0F01640  & NDAI0I01070  &  &  3752.00 & 49981.00 & NA & 0.07506853 & 10368.75 & 4043 & 49981.00 & 26866.50 & 2.591103 & 4.820350\\\\\n",
       "\t5 & YLR027C & AAT2 & N.castellii   & AB & No & NCAS0A01090  & NCAS0D03820  &  &  4660.75 & 23907.00 & NA & 0.19495336 & 10368.75 & 4043 & 23907.00 & 14283.88 & 1.377589 & 2.305678\\\\\n",
       "\t6 & YLR027C & AAT2 & K.naganishii  & AB & No & KNAG0D01130  & KNAG0F01980  &  &  9510.50 & 54301.25 & NA & 0.17514330 & 10368.75 & 4043 & 54301.25 & 31905.88 & 3.077119 & 5.237010\\\\\n",
       "\\end{tabular}\n"
      ],
      "text/markdown": [
       "\n",
       "A data.frame: 6 × 18\n",
       "\n",
       "| <!--/--> | PPI_partner.Gene &lt;chr&gt; | PPI_partner.ORF &lt;chr&gt; | Ortholog.Species &lt;fct&gt; | State &lt;fct&gt; | PPI.NA &lt;chr&gt; | Ortholog.GeneA &lt;chr&gt; | Ortholog.GeneB &lt;chr&gt; | Ortholog.GeneAnc &lt;chr&gt; | PPI.Ortholog.GeneA &lt;dbl&gt; | PPI.Ortholog.GeneB &lt;dbl&gt; | PPI.Ortholog.Anc &lt;dbl&gt; | PPI.A_div_B &lt;dbl&gt; | PPI.Scer &lt;dbl&gt; | PPI.Vehicle &lt;dbl&gt; | MaxPPI &lt;dbl&gt; | AvePPI &lt;dbl&gt; | RelPPI &lt;dbl&gt; | RelPPIMax &lt;dbl&gt; |\n",
       "|---|---|---|---|---|---|---|---|---|---|---|---|---|---|---|---|---|---|---|\n",
       "| 1 | YLR027C | AAT2 | V.polyspora   | AB | No | Kpol_1002.53 | Kpol_1033.51 | <!----> | 29039.75 | 15932.00 | NA | 1.82273098 | 10368.75 | 4043 | 29039.75 | 22485.88 | 2.168620 | 2.800699 |\n",
       "| 2 | YLR027C | AAT2 | K.africana    | AB | No | KAFR0K00320  | KAFR0C02290  | <!----> | 73575.50 | 31606.75 | NA | 2.32784136 | 10368.75 | 4043 | 73575.50 | 52591.12 | 5.072080 | 7.095889 |\n",
       "| 3 | YLR027C | AAT2 | T.blattae     | AB | No | TBLA0A02040  | TBLA0B05310  | <!----> |  5612.00 | 58258.00 | NA | 0.09633012 | 10368.75 | 4043 | 58258.00 | 31935.00 | 3.079928 | 5.618614 |\n",
       "| 4 | YLR027C | AAT2 | N.dairenensis | AB | No | NDAI0F01640  | NDAI0I01070  | <!----> |  3752.00 | 49981.00 | NA | 0.07506853 | 10368.75 | 4043 | 49981.00 | 26866.50 | 2.591103 | 4.820350 |\n",
       "| 5 | YLR027C | AAT2 | N.castellii   | AB | No | NCAS0A01090  | NCAS0D03820  | <!----> |  4660.75 | 23907.00 | NA | 0.19495336 | 10368.75 | 4043 | 23907.00 | 14283.88 | 1.377589 | 2.305678 |\n",
       "| 6 | YLR027C | AAT2 | K.naganishii  | AB | No | KNAG0D01130  | KNAG0F01980  | <!----> |  9510.50 | 54301.25 | NA | 0.17514330 | 10368.75 | 4043 | 54301.25 | 31905.88 | 3.077119 | 5.237010 |\n",
       "\n"
      ],
      "text/plain": [
       "  PPI_partner.Gene PPI_partner.ORF Ortholog.Species State PPI.NA Ortholog.GeneA\n",
       "1 YLR027C          AAT2            V.polyspora      AB    No     Kpol_1002.53  \n",
       "2 YLR027C          AAT2            K.africana       AB    No     KAFR0K00320   \n",
       "3 YLR027C          AAT2            T.blattae        AB    No     TBLA0A02040   \n",
       "4 YLR027C          AAT2            N.dairenensis    AB    No     NDAI0F01640   \n",
       "5 YLR027C          AAT2            N.castellii      AB    No     NCAS0A01090   \n",
       "6 YLR027C          AAT2            K.naganishii     AB    No     KNAG0D01130   \n",
       "  Ortholog.GeneB Ortholog.GeneAnc PPI.Ortholog.GeneA PPI.Ortholog.GeneB\n",
       "1 Kpol_1033.51                    29039.75           15932.00          \n",
       "2 KAFR0C02290                     73575.50           31606.75          \n",
       "3 TBLA0B05310                      5612.00           58258.00          \n",
       "4 NDAI0I01070                      3752.00           49981.00          \n",
       "5 NCAS0D03820                      4660.75           23907.00          \n",
       "6 KNAG0F01980                      9510.50           54301.25          \n",
       "  PPI.Ortholog.Anc PPI.A_div_B PPI.Scer PPI.Vehicle MaxPPI   AvePPI   RelPPI  \n",
       "1 NA               1.82273098  10368.75 4043        29039.75 22485.88 2.168620\n",
       "2 NA               2.32784136  10368.75 4043        73575.50 52591.12 5.072080\n",
       "3 NA               0.09633012  10368.75 4043        58258.00 31935.00 3.079928\n",
       "4 NA               0.07506853  10368.75 4043        49981.00 26866.50 2.591103\n",
       "5 NA               0.19495336  10368.75 4043        23907.00 14283.88 1.377589\n",
       "6 NA               0.17514330  10368.75 4043        54301.25 31905.88 3.077119\n",
       "  RelPPIMax\n",
       "1 2.800699 \n",
       "2 7.095889 \n",
       "3 5.618614 \n",
       "4 4.820350 \n",
       "5 2.305678 \n",
       "6 5.237010 "
      ]
     },
     "metadata": {},
     "output_type": "display_data"
    }
   ],
   "source": [
    "data_complete= data %>% filter(PPI.NA==\"No\")%>% filter(State==\"AB\")%>% filter(Ortholog.Species!=\"S.cerevisiae\")\n",
    "\n",
    "data_complete$Ortholog.Species = factor(data_complete$Ortholog.Species, levels= c('N.castellii','V.polyspora','T.phaffii','K.naganishii','K.africana','N.dairenensis','T.blattae'))\n",
    "\n",
    "head(data_complete)\n"
   ]
  },
  {
   "cell_type": "code",
   "execution_count": 16,
   "id": "c16690ad-2d15-49d9-993d-f0595f8bd3b1",
   "metadata": {},
   "outputs": [],
   "source": [
    "write.csv(data_complete,\"../Output/PPI_data_for_scatterplotannotation.csv\")\n"
   ]
  },
  {
   "cell_type": "code",
   "execution_count": 13,
   "id": "4e87172a-cf27-4aac-9d42-100165b14dff",
   "metadata": {},
   "outputs": [
    {
     "name": "stderr",
     "output_type": "stream",
     "text": [
      "Warning message:\n",
      "“\u001b[1m\u001b[22mRemoved 18 rows containing missing values (`geom_point()`).”\n"
     ]
    },
    {
     "data": {
      "image/png": "[encoded data removed]",
      "text/plain": [
       "plot without title"
      ]
     },
     "metadata": {
      "image/png": {
       "height": 420,
       "width": 420
      }
     },
     "output_type": "display_data"
    }
   ],
   "source": [
    "\n",
    "\n",
    "\n",
    "\n",
    "scatter  = ggplot(data=data_complete,aes(x=log10(PPI.Ortholog.GeneB+1),y=log10(PPI.Ortholog.GeneA+1))) + \n",
    "                        geom_hline(yintercept=log10(10001),linetype=\"dashed\",color=\"#ababab\",alpha=0.5)+\n",
    "            geom_vline(xintercept=log10(10001),linetype=\"dashed\",color=\"#ababab\",alpha=0.5)+\n",
    "            geom_abline(slope=1.0,linetype=\"dashed\",color=\"#000000\",alpha=0.5)+\n",
    "geom_point(alpha=0.5,size=1,shape=1,color=\"#000000\")+\n",
    "            scale_y_continuous(expand=c(0,0),limits=c(1.75,6.25)) +  \n",
    "            scale_x_continuous(expand=c(0,0),limits=c(1.75,6.25)) + \n",
    "            theme(\n",
    "                    legend.position='none',\n",
    "                    legend.key = element_blank(),\n",
    "                    strip.background = element_rect(color=\"#FFFFFF\",fill=\"#FFFFFF\"),\n",
    "                    panel.grid.minor = element_blank(),\n",
    "                    panel.grid.major = element_blank(),\n",
    "                    panel.spacing = unit(0.5, \"lines\"),\n",
    "                    panel.background = element_blank(),\n",
    "                    aspect.ratio=1.0,\n",
    "                    axis.ticks =element_line(color = \"#000000\", size = 0.5),\n",
    "                    axis.text.x = element_text(color=\"#000000\",size=9.5),\n",
    "                    axis.text.y = element_text(color=\"#000000\",size=9.5),\n",
    "                    panel.border = element_rect(color=\"#000000\", fill = NA,linewidth=1.0),\n",
    "                    axis.title=element_text(size=12)\n",
    "                )+ \n",
    "        xlab(bquote(~Log[10]~ 'PPI score B'))+\n",
    "         ylab(bquote(~Log[10]~ 'PPI score A'))+\n",
    "    facet_wrap(~Ortholog.Species,strip.position=\"right\",nrow=7)\n",
    "\n",
    "    p <- set_panel_size(scatter,width  = unit(2.5, \"cm\"),height = unit(2.5, \"cm\"))\n",
    "    grid.newpage()\n",
    "    grid.draw(p)\n",
    "    ggsave(plot=p,paste(\"../Output/PostWGD_ABratio_scatter_l.pdf\" ,sep=\"\"),width=unit(3,\"cm\"),height=unit(10,\"cm\"))\n",
    "\n"
   ]
  }
 ],
 "metadata": {
  "kernelspec": {
   "display_name": "R",
   "language": "R",
   "name": "ir"
  },
  "language_info": {
   "codemirror_mode": "r",
   "file_extension": ".r",
   "mimetype": "text/x-r-source",
   "name": "R",
   "pygments_lexer": "r",
   "version": "4.2.2"
  }
 },
 "nbformat": 4,
 "nbformat_minor": 5
}
