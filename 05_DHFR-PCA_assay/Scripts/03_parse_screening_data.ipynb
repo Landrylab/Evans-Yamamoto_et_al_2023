{
 "cells": [
  {
   "cell_type": "code",
   "execution_count": 2,
   "id": "85aeb432-29db-4cab-9b5a-d4395fc39964",
   "metadata": {},
   "outputs": [],
   "source": [
    "library(tidyverse)\n",
    "library(dplyr)"
   ]
  },
  {
   "cell_type": "code",
   "execution_count": 3,
   "id": "2c47bfe7-9144-4fb1-8ba5-7daa70075fdc",
   "metadata": {},
   "outputs": [
    {
     "data": {
      "text/html": [
       "<table class=\"dataframe\">\n",
       "<caption>A data.frame: 6 × 11</caption>\n",
       "<thead>\n",
       "\t<tr><th></th><th scope=col>Condition</th><th scope=col>Image_ID</th><th scope=col>Rep</th><th scope=col>Construct</th><th scope=col>Tagging</th><th scope=col>GeneID</th><th scope=col>Species</th><th scope=col>Gene</th><th scope=col>Dup_position</th><th scope=col>Pos</th><th scope=col>Species_position</th></tr>\n",
       "\t<tr><th></th><th scope=col>&lt;chr&gt;</th><th scope=col>&lt;chr&gt;</th><th scope=col>&lt;int&gt;</th><th scope=col>&lt;chr&gt;</th><th scope=col>&lt;chr&gt;</th><th scope=col>&lt;int&gt;</th><th scope=col>&lt;chr&gt;</th><th scope=col>&lt;chr&gt;</th><th scope=col>&lt;chr&gt;</th><th scope=col>&lt;chr&gt;</th><th scope=col>&lt;chr&gt;</th></tr>\n",
       "</thead>\n",
       "<tbody>\n",
       "\t<tr><th scope=row>1</th><td>MTX</td><td>d000263_300_001</td><td>1</td><td>pKB11</td><td>C</td><td>1</td><td>S.bayanusvar.uvarum</td><td>Suva_16.102</td><td>DupA</td><td>A</td><td>S.bayanusvar.uvarum(A)</td></tr>\n",
       "\t<tr><th scope=row>2</th><td>MTX</td><td>d000263_300_002</td><td>1</td><td>pKB11</td><td>C</td><td>2</td><td>K.africana         </td><td>KAFR0K00320</td><td>DupA</td><td>A</td><td>Z.rouxii(Anc)         </td></tr>\n",
       "\t<tr><th scope=row>3</th><td>MTX</td><td>d000263_300_003</td><td>1</td><td>pKB11</td><td>C</td><td>3</td><td>T.blattae          </td><td>TBLA0A02040</td><td>DupA</td><td>A</td><td>N.dairenensis(A)      </td></tr>\n",
       "\t<tr><th scope=row>4</th><td>MTX</td><td>d000263_300_004</td><td>1</td><td>pKB11</td><td>C</td><td>4</td><td>S.kudriavzevii     </td><td>Skud_16.75 </td><td>DupA</td><td>A</td><td>K.africana(A)         </td></tr>\n",
       "\t<tr><th scope=row>5</th><td>MTX</td><td>d000263_300_005</td><td>1</td><td>pKB11</td><td>C</td><td>5</td><td>K.africana         </td><td>KAFR0C02290</td><td>DupB</td><td>B</td><td>C.glabrata(B)         </td></tr>\n",
       "\t<tr><th scope=row>6</th><td>MTX</td><td>d000263_300_006</td><td>1</td><td>pKB11</td><td>C</td><td>6</td><td>T.blattae          </td><td>TBLA0B05310</td><td>DupB</td><td>B</td><td>T.phaffii(B)          </td></tr>\n",
       "</tbody>\n",
       "</table>\n"
      ],
      "text/latex": [
       "A data.frame: 6 × 11\n",
       "\\begin{tabular}{r|lllllllllll}\n",
       "  & Condition & Image\\_ID & Rep & Construct & Tagging & GeneID & Species & Gene & Dup\\_position & Pos & Species\\_position\\\\\n",
       "  & <chr> & <chr> & <int> & <chr> & <chr> & <int> & <chr> & <chr> & <chr> & <chr> & <chr>\\\\\n",
       "\\hline\n",
       "\t1 & MTX & d000263\\_300\\_001 & 1 & pKB11 & C & 1 & S.bayanusvar.uvarum & Suva\\_16.102 & DupA & A & S.bayanusvar.uvarum(A)\\\\\n",
       "\t2 & MTX & d000263\\_300\\_002 & 1 & pKB11 & C & 2 & K.africana          & KAFR0K00320 & DupA & A & Z.rouxii(Anc)         \\\\\n",
       "\t3 & MTX & d000263\\_300\\_003 & 1 & pKB11 & C & 3 & T.blattae           & TBLA0A02040 & DupA & A & N.dairenensis(A)      \\\\\n",
       "\t4 & MTX & d000263\\_300\\_004 & 1 & pKB11 & C & 4 & S.kudriavzevii      & Skud\\_16.75  & DupA & A & K.africana(A)         \\\\\n",
       "\t5 & MTX & d000263\\_300\\_005 & 1 & pKB11 & C & 5 & K.africana          & KAFR0C02290 & DupB & B & C.glabrata(B)         \\\\\n",
       "\t6 & MTX & d000263\\_300\\_006 & 1 & pKB11 & C & 6 & T.blattae           & TBLA0B05310 & DupB & B & T.phaffii(B)          \\\\\n",
       "\\end{tabular}\n"
      ],
      "text/markdown": [
       "\n",
       "A data.frame: 6 × 11\n",
       "\n",
       "| <!--/--> | Condition &lt;chr&gt; | Image_ID &lt;chr&gt; | Rep &lt;int&gt; | Construct &lt;chr&gt; | Tagging &lt;chr&gt; | GeneID &lt;int&gt; | Species &lt;chr&gt; | Gene &lt;chr&gt; | Dup_position &lt;chr&gt; | Pos &lt;chr&gt; | Species_position &lt;chr&gt; |\n",
       "|---|---|---|---|---|---|---|---|---|---|---|---|\n",
       "| 1 | MTX | d000263_300_001 | 1 | pKB11 | C | 1 | S.bayanusvar.uvarum | Suva_16.102 | DupA | A | S.bayanusvar.uvarum(A) |\n",
       "| 2 | MTX | d000263_300_002 | 1 | pKB11 | C | 2 | K.africana          | KAFR0K00320 | DupA | A | Z.rouxii(Anc)          |\n",
       "| 3 | MTX | d000263_300_003 | 1 | pKB11 | C | 3 | T.blattae           | TBLA0A02040 | DupA | A | N.dairenensis(A)       |\n",
       "| 4 | MTX | d000263_300_004 | 1 | pKB11 | C | 4 | S.kudriavzevii      | Skud_16.75  | DupA | A | K.africana(A)          |\n",
       "| 5 | MTX | d000263_300_005 | 1 | pKB11 | C | 5 | K.africana          | KAFR0C02290 | DupB | B | C.glabrata(B)          |\n",
       "| 6 | MTX | d000263_300_006 | 1 | pKB11 | C | 6 | T.blattae           | TBLA0B05310 | DupB | B | T.phaffii(B)           |\n",
       "\n"
      ],
      "text/plain": [
       "  Condition Image_ID        Rep Construct Tagging GeneID Species            \n",
       "1 MTX       d000263_300_001 1   pKB11     C       1      S.bayanusvar.uvarum\n",
       "2 MTX       d000263_300_002 1   pKB11     C       2      K.africana         \n",
       "3 MTX       d000263_300_003 1   pKB11     C       3      T.blattae          \n",
       "4 MTX       d000263_300_004 1   pKB11     C       4      S.kudriavzevii     \n",
       "5 MTX       d000263_300_005 1   pKB11     C       5      K.africana         \n",
       "6 MTX       d000263_300_006 1   pKB11     C       6      T.blattae          \n",
       "  Gene        Dup_position Pos Species_position      \n",
       "1 Suva_16.102 DupA         A   S.bayanusvar.uvarum(A)\n",
       "2 KAFR0K00320 DupA         A   Z.rouxii(Anc)         \n",
       "3 TBLA0A02040 DupA         A   N.dairenensis(A)      \n",
       "4 Skud_16.75  DupA         A   K.africana(A)         \n",
       "5 KAFR0C02290 DupB         B   C.glabrata(B)         \n",
       "6 TBLA0B05310 DupB         B   T.phaffii(B)          "
      ]
     },
     "metadata": {},
     "output_type": "display_data"
    }
   ],
   "source": [
    "screening_info = read.csv(\"image_constructs_association_Cterm.csv\")\n",
    "#screening_info = screening_info[screening_info$Tagging ==\"C\",]\n",
    "head(screening_info)"
   ]
  },
  {
   "cell_type": "code",
   "execution_count": 4,
   "id": "e8df732b-311c-4d19-baf6-848d055ce560",
   "metadata": {},
   "outputs": [
    {
     "data": {
      "text/html": [
       "<table class=\"dataframe\">\n",
       "<caption>A data.frame: 6 × 4</caption>\n",
       "<thead>\n",
       "\t<tr><th></th><th scope=col>Gene</th><th scope=col>ORF</th><th scope=col>c1536</th><th scope=col>r1536</th></tr>\n",
       "\t<tr><th></th><th scope=col>&lt;chr&gt;</th><th scope=col>&lt;chr&gt;</th><th scope=col>&lt;int&gt;</th><th scope=col>&lt;int&gt;</th></tr>\n",
       "</thead>\n",
       "<tbody>\n",
       "\t<tr><th scope=row>1</th><td>Border</td><td>Border</td><td>1</td><td> 1</td></tr>\n",
       "\t<tr><th scope=row>2</th><td>Border</td><td>Border</td><td>1</td><td> 3</td></tr>\n",
       "\t<tr><th scope=row>3</th><td>Border</td><td>Border</td><td>1</td><td> 5</td></tr>\n",
       "\t<tr><th scope=row>4</th><td>Border</td><td>Border</td><td>1</td><td> 7</td></tr>\n",
       "\t<tr><th scope=row>5</th><td>Border</td><td>Border</td><td>1</td><td> 9</td></tr>\n",
       "\t<tr><th scope=row>6</th><td>Border</td><td>Border</td><td>1</td><td>11</td></tr>\n",
       "</tbody>\n",
       "</table>\n"
      ],
      "text/latex": [
       "A data.frame: 6 × 4\n",
       "\\begin{tabular}{r|llll}\n",
       "  & Gene & ORF & c1536 & r1536\\\\\n",
       "  & <chr> & <chr> & <int> & <int>\\\\\n",
       "\\hline\n",
       "\t1 & Border & Border & 1 &  1\\\\\n",
       "\t2 & Border & Border & 1 &  3\\\\\n",
       "\t3 & Border & Border & 1 &  5\\\\\n",
       "\t4 & Border & Border & 1 &  7\\\\\n",
       "\t5 & Border & Border & 1 &  9\\\\\n",
       "\t6 & Border & Border & 1 & 11\\\\\n",
       "\\end{tabular}\n"
      ],
      "text/markdown": [
       "\n",
       "A data.frame: 6 × 4\n",
       "\n",
       "| <!--/--> | Gene &lt;chr&gt; | ORF &lt;chr&gt; | c1536 &lt;int&gt; | r1536 &lt;int&gt; |\n",
       "|---|---|---|---|---|\n",
       "| 1 | Border | Border | 1 |  1 |\n",
       "| 2 | Border | Border | 1 |  3 |\n",
       "| 3 | Border | Border | 1 |  5 |\n",
       "| 4 | Border | Border | 1 |  7 |\n",
       "| 5 | Border | Border | 1 |  9 |\n",
       "| 6 | Border | Border | 1 | 11 |\n",
       "\n"
      ],
      "text/plain": [
       "  Gene   ORF    c1536 r1536\n",
       "1 Border Border 1      1   \n",
       "2 Border Border 1      3   \n",
       "3 Border Border 1      5   \n",
       "4 Border Border 1      7   \n",
       "5 Border Border 1      9   \n",
       "6 Border Border 1     11   "
      ]
     },
     "metadata": {},
     "output_type": "display_data"
    }
   ],
   "source": [
    "miniarray_info = read.csv(\"miniarray_information_HRR25screening.csv\")\n",
    "# This file has MAM1 added in C24 R7 instead of HEM12\n",
    "head(miniarray_info)"
   ]
  },
  {
   "cell_type": "code",
   "execution_count": 5,
   "id": "93d60a6f-fdeb-49a2-8045-9782c9f60b02",
   "metadata": {},
   "outputs": [
    {
     "data": {
      "text/html": [
       "<table class=\"dataframe\">\n",
       "<caption>A data.frame: 6 × 6</caption>\n",
       "<thead>\n",
       "\t<tr><th></th><th scope=col>row</th><th scope=col>column</th><th scope=col>spot_well</th><th scope=col>Plate_ID</th><th scope=col>Selection</th><th scope=col>auc</th></tr>\n",
       "\t<tr><th></th><th scope=col>&lt;int&gt;</th><th scope=col>&lt;int&gt;</th><th scope=col>&lt;chr&gt;</th><th scope=col>&lt;int&gt;</th><th scope=col>&lt;chr&gt;</th><th scope=col>&lt;dbl&gt;</th></tr>\n",
       "</thead>\n",
       "<tbody>\n",
       "\t<tr><th scope=row>1</th><td>1</td><td> 7</td><td>A7 </td><td>11</td><td>MTX_2</td><td>89242.5</td></tr>\n",
       "\t<tr><th scope=row>2</th><td>1</td><td> 9</td><td>A9 </td><td>11</td><td>MTX_2</td><td>94136.0</td></tr>\n",
       "\t<tr><th scope=row>3</th><td>1</td><td>25</td><td>A25</td><td>11</td><td>MTX_2</td><td>88689.0</td></tr>\n",
       "\t<tr><th scope=row>4</th><td>1</td><td>29</td><td>A29</td><td>11</td><td>MTX_2</td><td>85920.0</td></tr>\n",
       "\t<tr><th scope=row>5</th><td>1</td><td>12</td><td>A12</td><td>11</td><td>MTX_2</td><td>89690.0</td></tr>\n",
       "\t<tr><th scope=row>6</th><td>1</td><td>15</td><td>A15</td><td>11</td><td>MTX_2</td><td>93944.0</td></tr>\n",
       "</tbody>\n",
       "</table>\n"
      ],
      "text/latex": [
       "A data.frame: 6 × 6\n",
       "\\begin{tabular}{r|llllll}\n",
       "  & row & column & spot\\_well & Plate\\_ID & Selection & auc\\\\\n",
       "  & <int> & <int> & <chr> & <int> & <chr> & <dbl>\\\\\n",
       "\\hline\n",
       "\t1 & 1 &  7 & A7  & 11 & MTX\\_2 & 89242.5\\\\\n",
       "\t2 & 1 &  9 & A9  & 11 & MTX\\_2 & 94136.0\\\\\n",
       "\t3 & 1 & 25 & A25 & 11 & MTX\\_2 & 88689.0\\\\\n",
       "\t4 & 1 & 29 & A29 & 11 & MTX\\_2 & 85920.0\\\\\n",
       "\t5 & 1 & 12 & A12 & 11 & MTX\\_2 & 89690.0\\\\\n",
       "\t6 & 1 & 15 & A15 & 11 & MTX\\_2 & 93944.0\\\\\n",
       "\\end{tabular}\n"
      ],
      "text/markdown": [
       "\n",
       "A data.frame: 6 × 6\n",
       "\n",
       "| <!--/--> | row &lt;int&gt; | column &lt;int&gt; | spot_well &lt;chr&gt; | Plate_ID &lt;int&gt; | Selection &lt;chr&gt; | auc &lt;dbl&gt; |\n",
       "|---|---|---|---|---|---|---|\n",
       "| 1 | 1 |  7 | A7  | 11 | MTX_2 | 89242.5 |\n",
       "| 2 | 1 |  9 | A9  | 11 | MTX_2 | 94136.0 |\n",
       "| 3 | 1 | 25 | A25 | 11 | MTX_2 | 88689.0 |\n",
       "| 4 | 1 | 29 | A29 | 11 | MTX_2 | 85920.0 |\n",
       "| 5 | 1 | 12 | A12 | 11 | MTX_2 | 89690.0 |\n",
       "| 6 | 1 | 15 | A15 | 11 | MTX_2 | 93944.0 |\n",
       "\n"
      ],
      "text/plain": [
       "  row column spot_well Plate_ID Selection auc    \n",
       "1 1    7     A7        11       MTX_2     89242.5\n",
       "2 1    9     A9        11       MTX_2     94136.0\n",
       "3 1   25     A25       11       MTX_2     88689.0\n",
       "4 1   29     A29       11       MTX_2     85920.0\n",
       "5 1   12     A12       11       MTX_2     89690.0\n",
       "6 1   15     A15       11       MTX_2     93944.0"
      ]
     },
     "metadata": {},
     "output_type": "display_data"
    }
   ],
   "source": [
    "MTX_data = read.csv(\"2022-12-09_MTX_Sel2_AUC_data_Cterm.csv\")\n",
    "head(MTX_data)"
   ]
  },
  {
   "cell_type": "code",
   "execution_count": 6,
   "id": "1d4aaa52-9ba9-45c5-beff-5e4cf3733de0",
   "metadata": {},
   "outputs": [
    {
     "data": {
      "text/html": [
       "<table class=\"dataframe\">\n",
       "<caption>A data.frame: 6 × 11</caption>\n",
       "<thead>\n",
       "\t<tr><th></th><th scope=col>X</th><th scope=col>area</th><th scope=col>centroid</th><th scope=col>mean_intensity</th><th scope=col>perimeter</th><th scope=col>row</th><th scope=col>column</th><th scope=col>circularity</th><th scope=col>plate_number</th><th scope=col>spot_well</th><th scope=col>RA_well</th></tr>\n",
       "\t<tr><th></th><th scope=col>&lt;int&gt;</th><th scope=col>&lt;int&gt;</th><th scope=col>&lt;chr&gt;</th><th scope=col>&lt;dbl&gt;</th><th scope=col>&lt;dbl&gt;</th><th scope=col>&lt;int&gt;</th><th scope=col>&lt;int&gt;</th><th scope=col>&lt;dbl&gt;</th><th scope=col>&lt;chr&gt;</th><th scope=col>&lt;chr&gt;</th><th scope=col>&lt;chr&gt;</th></tr>\n",
       "</thead>\n",
       "<tbody>\n",
       "\t<tr><th scope=row>1</th><td>1</td><td>3171</td><td>(34.07568590350047, 1084.6701356039105) </td><td>0.8208408</td><td>212.4092</td><td>1</td><td>13</td><td>0.8832011</td><td>IMG_00065</td><td>A13</td><td>A7 </td></tr>\n",
       "\t<tr><th scope=row>2</th><td>2</td><td>3064</td><td>(33.72682767624021, 1530.2519582245432) </td><td>0.8221190</td><td>206.7523</td><td>1</td><td>18</td><td>0.9007368</td><td>IMG_00065</td><td>A18</td><td>A9 </td></tr>\n",
       "\t<tr><th scope=row>3</th><td>3</td><td>3151</td><td>(34.15677562678515, 1799.2926055220564) </td><td>0.8217584</td><td>211.8234</td><td>1</td><td>21</td><td>0.8824914</td><td>IMG_00065</td><td>A21</td><td>A11</td></tr>\n",
       "\t<tr><th scope=row>4</th><td>4</td><td>3094</td><td>(33.75371687136393, 2863.8212669683257) </td><td>0.8194557</td><td>209.0955</td><td>1</td><td>33</td><td>0.8892850</td><td>IMG_00065</td><td>A33</td><td>A17</td></tr>\n",
       "\t<tr><th scope=row>5</th><td>5</td><td>3183</td><td>(34.921143575243484, 3483.1555136663524)</td><td>0.8207068</td><td>212.4092</td><td>1</td><td>40</td><td>0.8865434</td><td>IMG_00065</td><td>A40</td><td>A20</td></tr>\n",
       "\t<tr><th scope=row>6</th><td>6</td><td>3780</td><td>(37.60079365079365, 287.53068783068784) </td><td>0.8146094</td><td>232.5513</td><td>1</td><td> 4</td><td>0.8783430</td><td>IMG_00065</td><td>A4 </td><td>A2 </td></tr>\n",
       "</tbody>\n",
       "</table>\n"
      ],
      "text/latex": [
       "A data.frame: 6 × 11\n",
       "\\begin{tabular}{r|lllllllllll}\n",
       "  & X & area & centroid & mean\\_intensity & perimeter & row & column & circularity & plate\\_number & spot\\_well & RA\\_well\\\\\n",
       "  & <int> & <int> & <chr> & <dbl> & <dbl> & <int> & <int> & <dbl> & <chr> & <chr> & <chr>\\\\\n",
       "\\hline\n",
       "\t1 & 1 & 3171 & (34.07568590350047, 1084.6701356039105)  & 0.8208408 & 212.4092 & 1 & 13 & 0.8832011 & IMG\\_00065 & A13 & A7 \\\\\n",
       "\t2 & 2 & 3064 & (33.72682767624021, 1530.2519582245432)  & 0.8221190 & 206.7523 & 1 & 18 & 0.9007368 & IMG\\_00065 & A18 & A9 \\\\\n",
       "\t3 & 3 & 3151 & (34.15677562678515, 1799.2926055220564)  & 0.8217584 & 211.8234 & 1 & 21 & 0.8824914 & IMG\\_00065 & A21 & A11\\\\\n",
       "\t4 & 4 & 3094 & (33.75371687136393, 2863.8212669683257)  & 0.8194557 & 209.0955 & 1 & 33 & 0.8892850 & IMG\\_00065 & A33 & A17\\\\\n",
       "\t5 & 5 & 3183 & (34.921143575243484, 3483.1555136663524) & 0.8207068 & 212.4092 & 1 & 40 & 0.8865434 & IMG\\_00065 & A40 & A20\\\\\n",
       "\t6 & 6 & 3780 & (37.60079365079365, 287.53068783068784)  & 0.8146094 & 232.5513 & 1 &  4 & 0.8783430 & IMG\\_00065 & A4  & A2 \\\\\n",
       "\\end{tabular}\n"
      ],
      "text/markdown": [
       "\n",
       "A data.frame: 6 × 11\n",
       "\n",
       "| <!--/--> | X &lt;int&gt; | area &lt;int&gt; | centroid &lt;chr&gt; | mean_intensity &lt;dbl&gt; | perimeter &lt;dbl&gt; | row &lt;int&gt; | column &lt;int&gt; | circularity &lt;dbl&gt; | plate_number &lt;chr&gt; | spot_well &lt;chr&gt; | RA_well &lt;chr&gt; |\n",
       "|---|---|---|---|---|---|---|---|---|---|---|---|\n",
       "| 1 | 1 | 3171 | (34.07568590350047, 1084.6701356039105)  | 0.8208408 | 212.4092 | 1 | 13 | 0.8832011 | IMG_00065 | A13 | A7  |\n",
       "| 2 | 2 | 3064 | (33.72682767624021, 1530.2519582245432)  | 0.8221190 | 206.7523 | 1 | 18 | 0.9007368 | IMG_00065 | A18 | A9  |\n",
       "| 3 | 3 | 3151 | (34.15677562678515, 1799.2926055220564)  | 0.8217584 | 211.8234 | 1 | 21 | 0.8824914 | IMG_00065 | A21 | A11 |\n",
       "| 4 | 4 | 3094 | (33.75371687136393, 2863.8212669683257)  | 0.8194557 | 209.0955 | 1 | 33 | 0.8892850 | IMG_00065 | A33 | A17 |\n",
       "| 5 | 5 | 3183 | (34.921143575243484, 3483.1555136663524) | 0.8207068 | 212.4092 | 1 | 40 | 0.8865434 | IMG_00065 | A40 | A20 |\n",
       "| 6 | 6 | 3780 | (37.60079365079365, 287.53068783068784)  | 0.8146094 | 232.5513 | 1 |  4 | 0.8783430 | IMG_00065 | A4  | A2  |\n",
       "\n"
      ],
      "text/plain": [
       "  X area centroid                                 mean_intensity perimeter row\n",
       "1 1 3171 (34.07568590350047, 1084.6701356039105)  0.8208408      212.4092  1  \n",
       "2 2 3064 (33.72682767624021, 1530.2519582245432)  0.8221190      206.7523  1  \n",
       "3 3 3151 (34.15677562678515, 1799.2926055220564)  0.8217584      211.8234  1  \n",
       "4 4 3094 (33.75371687136393, 2863.8212669683257)  0.8194557      209.0955  1  \n",
       "5 5 3183 (34.921143575243484, 3483.1555136663524) 0.8207068      212.4092  1  \n",
       "6 6 3780 (37.60079365079365, 287.53068783068784)  0.8146094      232.5513  1  \n",
       "  column circularity plate_number spot_well RA_well\n",
       "1 13     0.8832011   IMG_00065    A13       A7     \n",
       "2 18     0.9007368   IMG_00065    A18       A9     \n",
       "3 21     0.8824914   IMG_00065    A21       A11    \n",
       "4 33     0.8892850   IMG_00065    A33       A17    \n",
       "5 40     0.8865434   IMG_00065    A40       A20    \n",
       "6  4     0.8783430   IMG_00065    A4        A2     "
      ]
     },
     "metadata": {},
     "output_type": "display_data"
    }
   ],
   "source": [
    "Diploid_data = read.csv(\"diploid_selection2_20221001_pyphe_output.csv\")\n",
    "head(Diploid_data)"
   ]
  },
  {
   "cell_type": "markdown",
   "id": "2deddf83-854b-45b6-ac56-34af5c43b713",
   "metadata": {
    "tags": []
   },
   "source": [
    "### STEPS\n",
    "\n",
    "##### Idenfity samples\n",
    "- Define unique ID for the samples; Condition.Construct.GeneID.Rep.Row.Col\n",
    "- Define unique ID in each of the PPI data\n",
    "\n",
    "##### Call growth on control\n",
    "1. Add area of diploid in the MTX_data. Add by Unique ID\n",
    "\n",
    "##### Parse gene information\n",
    "1. Based on the row/col information, add gene information (GeneID/ORF)\n",
    "2. Remove border controls\n",
    "3. Reshape dataframe so we have basic information, and all the miniarray genes (or ORFs) as columns, and in each row we have different HRR25 constructs\n",
    "\n"
   ]
  },
  {
   "cell_type": "code",
   "execution_count": 7,
   "id": "aa569647-42ee-48cb-8046-5d70f5293264",
   "metadata": {},
   "outputs": [
    {
     "data": {
      "text/html": [
       "<table class=\"dataframe\">\n",
       "<caption>A data.frame: 6 × 13</caption>\n",
       "<thead>\n",
       "\t<tr><th></th><th scope=col>Condition</th><th scope=col>Image_ID</th><th scope=col>Rep</th><th scope=col>Construct</th><th scope=col>Tagging</th><th scope=col>GeneID</th><th scope=col>Species</th><th scope=col>Gene</th><th scope=col>Dup_position</th><th scope=col>Pos</th><th scope=col>Species_position</th><th scope=col>Construct_ID</th><th scope=col>Plate_ID</th></tr>\n",
       "\t<tr><th></th><th scope=col>&lt;chr&gt;</th><th scope=col>&lt;chr&gt;</th><th scope=col>&lt;int&gt;</th><th scope=col>&lt;chr&gt;</th><th scope=col>&lt;chr&gt;</th><th scope=col>&lt;int&gt;</th><th scope=col>&lt;chr&gt;</th><th scope=col>&lt;chr&gt;</th><th scope=col>&lt;chr&gt;</th><th scope=col>&lt;chr&gt;</th><th scope=col>&lt;chr&gt;</th><th scope=col>&lt;chr&gt;</th><th scope=col>&lt;dbl&gt;</th></tr>\n",
       "</thead>\n",
       "<tbody>\n",
       "\t<tr><th scope=row>1</th><td>MTX</td><td>d000263_300_001</td><td>1</td><td>pKB11</td><td>C</td><td>1</td><td>S.bayanusvar.uvarum</td><td>Suva_16.102</td><td>DupA</td><td>A</td><td>S.bayanusvar.uvarum(A)</td><td>pKB11.C.1</td><td>1</td></tr>\n",
       "\t<tr><th scope=row>2</th><td>MTX</td><td>d000263_300_002</td><td>1</td><td>pKB11</td><td>C</td><td>2</td><td>K.africana         </td><td>KAFR0K00320</td><td>DupA</td><td>A</td><td>Z.rouxii(Anc)         </td><td>pKB11.C.2</td><td>2</td></tr>\n",
       "\t<tr><th scope=row>3</th><td>MTX</td><td>d000263_300_003</td><td>1</td><td>pKB11</td><td>C</td><td>3</td><td>T.blattae          </td><td>TBLA0A02040</td><td>DupA</td><td>A</td><td>N.dairenensis(A)      </td><td>pKB11.C.3</td><td>3</td></tr>\n",
       "\t<tr><th scope=row>4</th><td>MTX</td><td>d000263_300_004</td><td>1</td><td>pKB11</td><td>C</td><td>4</td><td>S.kudriavzevii     </td><td>Skud_16.75 </td><td>DupA</td><td>A</td><td>K.africana(A)         </td><td>pKB11.C.4</td><td>4</td></tr>\n",
       "\t<tr><th scope=row>5</th><td>MTX</td><td>d000263_300_005</td><td>1</td><td>pKB11</td><td>C</td><td>5</td><td>K.africana         </td><td>KAFR0C02290</td><td>DupB</td><td>B</td><td>C.glabrata(B)         </td><td>pKB11.C.5</td><td>5</td></tr>\n",
       "\t<tr><th scope=row>6</th><td>MTX</td><td>d000263_300_006</td><td>1</td><td>pKB11</td><td>C</td><td>6</td><td>T.blattae          </td><td>TBLA0B05310</td><td>DupB</td><td>B</td><td>T.phaffii(B)          </td><td>pKB11.C.6</td><td>6</td></tr>\n",
       "</tbody>\n",
       "</table>\n"
      ],
      "text/latex": [
       "A data.frame: 6 × 13\n",
       "\\begin{tabular}{r|lllllllllllll}\n",
       "  & Condition & Image\\_ID & Rep & Construct & Tagging & GeneID & Species & Gene & Dup\\_position & Pos & Species\\_position & Construct\\_ID & Plate\\_ID\\\\\n",
       "  & <chr> & <chr> & <int> & <chr> & <chr> & <int> & <chr> & <chr> & <chr> & <chr> & <chr> & <chr> & <dbl>\\\\\n",
       "\\hline\n",
       "\t1 & MTX & d000263\\_300\\_001 & 1 & pKB11 & C & 1 & S.bayanusvar.uvarum & Suva\\_16.102 & DupA & A & S.bayanusvar.uvarum(A) & pKB11.C.1 & 1\\\\\n",
       "\t2 & MTX & d000263\\_300\\_002 & 1 & pKB11 & C & 2 & K.africana          & KAFR0K00320 & DupA & A & Z.rouxii(Anc)          & pKB11.C.2 & 2\\\\\n",
       "\t3 & MTX & d000263\\_300\\_003 & 1 & pKB11 & C & 3 & T.blattae           & TBLA0A02040 & DupA & A & N.dairenensis(A)       & pKB11.C.3 & 3\\\\\n",
       "\t4 & MTX & d000263\\_300\\_004 & 1 & pKB11 & C & 4 & S.kudriavzevii      & Skud\\_16.75  & DupA & A & K.africana(A)          & pKB11.C.4 & 4\\\\\n",
       "\t5 & MTX & d000263\\_300\\_005 & 1 & pKB11 & C & 5 & K.africana          & KAFR0C02290 & DupB & B & C.glabrata(B)          & pKB11.C.5 & 5\\\\\n",
       "\t6 & MTX & d000263\\_300\\_006 & 1 & pKB11 & C & 6 & T.blattae           & TBLA0B05310 & DupB & B & T.phaffii(B)           & pKB11.C.6 & 6\\\\\n",
       "\\end{tabular}\n"
      ],
      "text/markdown": [
       "\n",
       "A data.frame: 6 × 13\n",
       "\n",
       "| <!--/--> | Condition &lt;chr&gt; | Image_ID &lt;chr&gt; | Rep &lt;int&gt; | Construct &lt;chr&gt; | Tagging &lt;chr&gt; | GeneID &lt;int&gt; | Species &lt;chr&gt; | Gene &lt;chr&gt; | Dup_position &lt;chr&gt; | Pos &lt;chr&gt; | Species_position &lt;chr&gt; | Construct_ID &lt;chr&gt; | Plate_ID &lt;dbl&gt; |\n",
       "|---|---|---|---|---|---|---|---|---|---|---|---|---|---|\n",
       "| 1 | MTX | d000263_300_001 | 1 | pKB11 | C | 1 | S.bayanusvar.uvarum | Suva_16.102 | DupA | A | S.bayanusvar.uvarum(A) | pKB11.C.1 | 1 |\n",
       "| 2 | MTX | d000263_300_002 | 1 | pKB11 | C | 2 | K.africana          | KAFR0K00320 | DupA | A | Z.rouxii(Anc)          | pKB11.C.2 | 2 |\n",
       "| 3 | MTX | d000263_300_003 | 1 | pKB11 | C | 3 | T.blattae           | TBLA0A02040 | DupA | A | N.dairenensis(A)       | pKB11.C.3 | 3 |\n",
       "| 4 | MTX | d000263_300_004 | 1 | pKB11 | C | 4 | S.kudriavzevii      | Skud_16.75  | DupA | A | K.africana(A)          | pKB11.C.4 | 4 |\n",
       "| 5 | MTX | d000263_300_005 | 1 | pKB11 | C | 5 | K.africana          | KAFR0C02290 | DupB | B | C.glabrata(B)          | pKB11.C.5 | 5 |\n",
       "| 6 | MTX | d000263_300_006 | 1 | pKB11 | C | 6 | T.blattae           | TBLA0B05310 | DupB | B | T.phaffii(B)           | pKB11.C.6 | 6 |\n",
       "\n"
      ],
      "text/plain": [
       "  Condition Image_ID        Rep Construct Tagging GeneID Species            \n",
       "1 MTX       d000263_300_001 1   pKB11     C       1      S.bayanusvar.uvarum\n",
       "2 MTX       d000263_300_002 1   pKB11     C       2      K.africana         \n",
       "3 MTX       d000263_300_003 1   pKB11     C       3      T.blattae          \n",
       "4 MTX       d000263_300_004 1   pKB11     C       4      S.kudriavzevii     \n",
       "5 MTX       d000263_300_005 1   pKB11     C       5      K.africana         \n",
       "6 MTX       d000263_300_006 1   pKB11     C       6      T.blattae          \n",
       "  Gene        Dup_position Pos Species_position       Construct_ID Plate_ID\n",
       "1 Suva_16.102 DupA         A   S.bayanusvar.uvarum(A) pKB11.C.1    1       \n",
       "2 KAFR0K00320 DupA         A   Z.rouxii(Anc)          pKB11.C.2    2       \n",
       "3 TBLA0A02040 DupA         A   N.dairenensis(A)       pKB11.C.3    3       \n",
       "4 Skud_16.75  DupA         A   K.africana(A)          pKB11.C.4    4       \n",
       "5 KAFR0C02290 DupB         B   C.glabrata(B)          pKB11.C.5    5       \n",
       "6 TBLA0B05310 DupB         B   T.phaffii(B)           pKB11.C.6    6       "
      ]
     },
     "metadata": {},
     "output_type": "display_data"
    }
   ],
   "source": [
    "screening_info$Construct_ID =  paste(screening_info$Construct,screening_info$Tagging,screening_info$GeneID,sep=\".\")\n",
    "screening_info$Plate_ID = as.numeric(substr(screening_info$Image_ID,13,15))\n",
    "head(screening_info)"
   ]
  },
  {
   "cell_type": "code",
   "execution_count": 8,
   "id": "54faf94b-faf2-4ce3-b29a-15ead57571c6",
   "metadata": {},
   "outputs": [
    {
     "data": {
      "text/html": [
       "<table class=\"dataframe\">\n",
       "<caption>A data.frame: 6 × 18</caption>\n",
       "<thead>\n",
       "\t<tr><th></th><th scope=col>Plate_ID</th><th scope=col>Condition</th><th scope=col>Image_ID</th><th scope=col>Rep</th><th scope=col>Construct</th><th scope=col>Tagging</th><th scope=col>GeneID</th><th scope=col>Species</th><th scope=col>Gene</th><th scope=col>Dup_position</th><th scope=col>Pos</th><th scope=col>Species_position</th><th scope=col>Construct_ID</th><th scope=col>row</th><th scope=col>column</th><th scope=col>spot_well</th><th scope=col>Selection</th><th scope=col>auc</th></tr>\n",
       "\t<tr><th></th><th scope=col>&lt;dbl&gt;</th><th scope=col>&lt;chr&gt;</th><th scope=col>&lt;chr&gt;</th><th scope=col>&lt;int&gt;</th><th scope=col>&lt;chr&gt;</th><th scope=col>&lt;chr&gt;</th><th scope=col>&lt;int&gt;</th><th scope=col>&lt;chr&gt;</th><th scope=col>&lt;chr&gt;</th><th scope=col>&lt;chr&gt;</th><th scope=col>&lt;chr&gt;</th><th scope=col>&lt;chr&gt;</th><th scope=col>&lt;chr&gt;</th><th scope=col>&lt;int&gt;</th><th scope=col>&lt;int&gt;</th><th scope=col>&lt;chr&gt;</th><th scope=col>&lt;chr&gt;</th><th scope=col>&lt;dbl&gt;</th></tr>\n",
       "</thead>\n",
       "<tbody>\n",
       "\t<tr><th scope=row>1</th><td>1</td><td>MTX</td><td>d000263_300_001</td><td>1</td><td>pKB11</td><td>C</td><td>1</td><td>S.bayanusvar.uvarum</td><td>Suva_16.102</td><td>DupA</td><td>A</td><td>S.bayanusvar.uvarum(A)</td><td>pKB11.C.1</td><td>18</td><td> 2</td><td>R2 </td><td>MTX_2</td><td>50886.0</td></tr>\n",
       "\t<tr><th scope=row>2</th><td>1</td><td>MTX</td><td>d000263_300_001</td><td>1</td><td>pKB11</td><td>C</td><td>1</td><td>S.bayanusvar.uvarum</td><td>Suva_16.102</td><td>DupA</td><td>A</td><td>S.bayanusvar.uvarum(A)</td><td>pKB11.C.1</td><td>18</td><td> 1</td><td>R1 </td><td>MTX_2</td><td>46501.5</td></tr>\n",
       "\t<tr><th scope=row>3</th><td>1</td><td>MTX</td><td>d000263_300_001</td><td>1</td><td>pKB11</td><td>C</td><td>1</td><td>S.bayanusvar.uvarum</td><td>Suva_16.102</td><td>DupA</td><td>A</td><td>S.bayanusvar.uvarum(A)</td><td>pKB11.C.1</td><td>18</td><td> 3</td><td>R3 </td><td>MTX_2</td><td> 3991.0</td></tr>\n",
       "\t<tr><th scope=row>4</th><td>1</td><td>MTX</td><td>d000263_300_001</td><td>1</td><td>pKB11</td><td>C</td><td>1</td><td>S.bayanusvar.uvarum</td><td>Suva_16.102</td><td>DupA</td><td>A</td><td>S.bayanusvar.uvarum(A)</td><td>pKB11.C.1</td><td>18</td><td> 5</td><td>R5 </td><td>MTX_2</td><td> 3617.0</td></tr>\n",
       "\t<tr><th scope=row>5</th><td>1</td><td>MTX</td><td>d000263_300_001</td><td>1</td><td>pKB11</td><td>C</td><td>1</td><td>S.bayanusvar.uvarum</td><td>Suva_16.102</td><td>DupA</td><td>A</td><td>S.bayanusvar.uvarum(A)</td><td>pKB11.C.1</td><td>18</td><td>48</td><td>R48</td><td>MTX_2</td><td>53348.5</td></tr>\n",
       "\t<tr><th scope=row>6</th><td>1</td><td>MTX</td><td>d000263_300_001</td><td>1</td><td>pKB11</td><td>C</td><td>1</td><td>S.bayanusvar.uvarum</td><td>Suva_16.102</td><td>DupA</td><td>A</td><td>S.bayanusvar.uvarum(A)</td><td>pKB11.C.1</td><td>18</td><td>47</td><td>R47</td><td>MTX_2</td><td>54706.0</td></tr>\n",
       "</tbody>\n",
       "</table>\n"
      ],
      "text/latex": [
       "A data.frame: 6 × 18\n",
       "\\begin{tabular}{r|llllllllllllllllll}\n",
       "  & Plate\\_ID & Condition & Image\\_ID & Rep & Construct & Tagging & GeneID & Species & Gene & Dup\\_position & Pos & Species\\_position & Construct\\_ID & row & column & spot\\_well & Selection & auc\\\\\n",
       "  & <dbl> & <chr> & <chr> & <int> & <chr> & <chr> & <int> & <chr> & <chr> & <chr> & <chr> & <chr> & <chr> & <int> & <int> & <chr> & <chr> & <dbl>\\\\\n",
       "\\hline\n",
       "\t1 & 1 & MTX & d000263\\_300\\_001 & 1 & pKB11 & C & 1 & S.bayanusvar.uvarum & Suva\\_16.102 & DupA & A & S.bayanusvar.uvarum(A) & pKB11.C.1 & 18 &  2 & R2  & MTX\\_2 & 50886.0\\\\\n",
       "\t2 & 1 & MTX & d000263\\_300\\_001 & 1 & pKB11 & C & 1 & S.bayanusvar.uvarum & Suva\\_16.102 & DupA & A & S.bayanusvar.uvarum(A) & pKB11.C.1 & 18 &  1 & R1  & MTX\\_2 & 46501.5\\\\\n",
       "\t3 & 1 & MTX & d000263\\_300\\_001 & 1 & pKB11 & C & 1 & S.bayanusvar.uvarum & Suva\\_16.102 & DupA & A & S.bayanusvar.uvarum(A) & pKB11.C.1 & 18 &  3 & R3  & MTX\\_2 &  3991.0\\\\\n",
       "\t4 & 1 & MTX & d000263\\_300\\_001 & 1 & pKB11 & C & 1 & S.bayanusvar.uvarum & Suva\\_16.102 & DupA & A & S.bayanusvar.uvarum(A) & pKB11.C.1 & 18 &  5 & R5  & MTX\\_2 &  3617.0\\\\\n",
       "\t5 & 1 & MTX & d000263\\_300\\_001 & 1 & pKB11 & C & 1 & S.bayanusvar.uvarum & Suva\\_16.102 & DupA & A & S.bayanusvar.uvarum(A) & pKB11.C.1 & 18 & 48 & R48 & MTX\\_2 & 53348.5\\\\\n",
       "\t6 & 1 & MTX & d000263\\_300\\_001 & 1 & pKB11 & C & 1 & S.bayanusvar.uvarum & Suva\\_16.102 & DupA & A & S.bayanusvar.uvarum(A) & pKB11.C.1 & 18 & 47 & R47 & MTX\\_2 & 54706.0\\\\\n",
       "\\end{tabular}\n"
      ],
      "text/markdown": [
       "\n",
       "A data.frame: 6 × 18\n",
       "\n",
       "| <!--/--> | Plate_ID &lt;dbl&gt; | Condition &lt;chr&gt; | Image_ID &lt;chr&gt; | Rep &lt;int&gt; | Construct &lt;chr&gt; | Tagging &lt;chr&gt; | GeneID &lt;int&gt; | Species &lt;chr&gt; | Gene &lt;chr&gt; | Dup_position &lt;chr&gt; | Pos &lt;chr&gt; | Species_position &lt;chr&gt; | Construct_ID &lt;chr&gt; | row &lt;int&gt; | column &lt;int&gt; | spot_well &lt;chr&gt; | Selection &lt;chr&gt; | auc &lt;dbl&gt; |\n",
       "|---|---|---|---|---|---|---|---|---|---|---|---|---|---|---|---|---|---|---|\n",
       "| 1 | 1 | MTX | d000263_300_001 | 1 | pKB11 | C | 1 | S.bayanusvar.uvarum | Suva_16.102 | DupA | A | S.bayanusvar.uvarum(A) | pKB11.C.1 | 18 |  2 | R2  | MTX_2 | 50886.0 |\n",
       "| 2 | 1 | MTX | d000263_300_001 | 1 | pKB11 | C | 1 | S.bayanusvar.uvarum | Suva_16.102 | DupA | A | S.bayanusvar.uvarum(A) | pKB11.C.1 | 18 |  1 | R1  | MTX_2 | 46501.5 |\n",
       "| 3 | 1 | MTX | d000263_300_001 | 1 | pKB11 | C | 1 | S.bayanusvar.uvarum | Suva_16.102 | DupA | A | S.bayanusvar.uvarum(A) | pKB11.C.1 | 18 |  3 | R3  | MTX_2 |  3991.0 |\n",
       "| 4 | 1 | MTX | d000263_300_001 | 1 | pKB11 | C | 1 | S.bayanusvar.uvarum | Suva_16.102 | DupA | A | S.bayanusvar.uvarum(A) | pKB11.C.1 | 18 |  5 | R5  | MTX_2 |  3617.0 |\n",
       "| 5 | 1 | MTX | d000263_300_001 | 1 | pKB11 | C | 1 | S.bayanusvar.uvarum | Suva_16.102 | DupA | A | S.bayanusvar.uvarum(A) | pKB11.C.1 | 18 | 48 | R48 | MTX_2 | 53348.5 |\n",
       "| 6 | 1 | MTX | d000263_300_001 | 1 | pKB11 | C | 1 | S.bayanusvar.uvarum | Suva_16.102 | DupA | A | S.bayanusvar.uvarum(A) | pKB11.C.1 | 18 | 47 | R47 | MTX_2 | 54706.0 |\n",
       "\n"
      ],
      "text/plain": [
       "  Plate_ID Condition Image_ID        Rep Construct Tagging GeneID\n",
       "1 1        MTX       d000263_300_001 1   pKB11     C       1     \n",
       "2 1        MTX       d000263_300_001 1   pKB11     C       1     \n",
       "3 1        MTX       d000263_300_001 1   pKB11     C       1     \n",
       "4 1        MTX       d000263_300_001 1   pKB11     C       1     \n",
       "5 1        MTX       d000263_300_001 1   pKB11     C       1     \n",
       "6 1        MTX       d000263_300_001 1   pKB11     C       1     \n",
       "  Species             Gene        Dup_position Pos Species_position      \n",
       "1 S.bayanusvar.uvarum Suva_16.102 DupA         A   S.bayanusvar.uvarum(A)\n",
       "2 S.bayanusvar.uvarum Suva_16.102 DupA         A   S.bayanusvar.uvarum(A)\n",
       "3 S.bayanusvar.uvarum Suva_16.102 DupA         A   S.bayanusvar.uvarum(A)\n",
       "4 S.bayanusvar.uvarum Suva_16.102 DupA         A   S.bayanusvar.uvarum(A)\n",
       "5 S.bayanusvar.uvarum Suva_16.102 DupA         A   S.bayanusvar.uvarum(A)\n",
       "6 S.bayanusvar.uvarum Suva_16.102 DupA         A   S.bayanusvar.uvarum(A)\n",
       "  Construct_ID row column spot_well Selection auc    \n",
       "1 pKB11.C.1    18   2     R2        MTX_2     50886.0\n",
       "2 pKB11.C.1    18   1     R1        MTX_2     46501.5\n",
       "3 pKB11.C.1    18   3     R3        MTX_2      3991.0\n",
       "4 pKB11.C.1    18   5     R5        MTX_2      3617.0\n",
       "5 pKB11.C.1    18  48     R48       MTX_2     53348.5\n",
       "6 pKB11.C.1    18  47     R47       MTX_2     54706.0"
      ]
     },
     "metadata": {},
     "output_type": "display_data"
    }
   ],
   "source": [
    "#MTX_data$Image_ID = as.numeric(substr(MTX_data$plate_number,1,15))\n",
    "\n",
    "screening_info_MTX = screening_info[screening_info$Condition==\"MTX\",]\n",
    "\n",
    "#head(MTX_data)\n",
    "\n",
    "MTX_data <- (merge(screening_info_MTX, MTX_data,  by=c('Plate_ID')))#,'Condition', 'Image_ID', 'Rep', 'Construct', 'Tagging', 'GeneID', 'Gene', 'Construct_ID')))\n",
    "\n",
    "head(MTX_data)\n",
    "\n"
   ]
  },
  {
   "cell_type": "code",
   "execution_count": 9,
   "id": "b474c0d6-0044-4624-9a0b-ef34e7e54051",
   "metadata": {},
   "outputs": [
    {
     "data": {
      "text/html": [
       "<table class=\"dataframe\">\n",
       "<caption>A data.frame: 6 × 14</caption>\n",
       "<thead>\n",
       "\t<tr><th></th><th scope=col>UniqueID</th><th scope=col>Construct_ID</th><th scope=col>Construct</th><th scope=col>Tagging</th><th scope=col>Rep</th><th scope=col>GeneID</th><th scope=col>Species</th><th scope=col>Gene</th><th scope=col>Species_position</th><th scope=col>Pos</th><th scope=col>row</th><th scope=col>column</th><th scope=col>position</th><th scope=col>auc</th></tr>\n",
       "\t<tr><th></th><th scope=col>&lt;chr&gt;</th><th scope=col>&lt;chr&gt;</th><th scope=col>&lt;chr&gt;</th><th scope=col>&lt;chr&gt;</th><th scope=col>&lt;int&gt;</th><th scope=col>&lt;int&gt;</th><th scope=col>&lt;chr&gt;</th><th scope=col>&lt;chr&gt;</th><th scope=col>&lt;chr&gt;</th><th scope=col>&lt;chr&gt;</th><th scope=col>&lt;int&gt;</th><th scope=col>&lt;int&gt;</th><th scope=col>&lt;chr&gt;</th><th scope=col>&lt;dbl&gt;</th></tr>\n",
       "</thead>\n",
       "<tbody>\n",
       "\t<tr><th scope=row>1</th><td>pKB11.C.1.Rep1.R18.C2 </td><td>pKB11.C.1</td><td>pKB11</td><td>C</td><td>1</td><td>1</td><td>S.bayanusvar.uvarum</td><td>Suva_16.102</td><td>S.bayanusvar.uvarum(A)</td><td>A</td><td>18</td><td> 2</td><td>Pos.R18.C2 </td><td>50886.0</td></tr>\n",
       "\t<tr><th scope=row>2</th><td>pKB11.C.1.Rep1.R18.C1 </td><td>pKB11.C.1</td><td>pKB11</td><td>C</td><td>1</td><td>1</td><td>S.bayanusvar.uvarum</td><td>Suva_16.102</td><td>S.bayanusvar.uvarum(A)</td><td>A</td><td>18</td><td> 1</td><td>Pos.R18.C1 </td><td>46501.5</td></tr>\n",
       "\t<tr><th scope=row>3</th><td>pKB11.C.1.Rep1.R18.C3 </td><td>pKB11.C.1</td><td>pKB11</td><td>C</td><td>1</td><td>1</td><td>S.bayanusvar.uvarum</td><td>Suva_16.102</td><td>S.bayanusvar.uvarum(A)</td><td>A</td><td>18</td><td> 3</td><td>Pos.R18.C3 </td><td> 3991.0</td></tr>\n",
       "\t<tr><th scope=row>4</th><td>pKB11.C.1.Rep1.R18.C5 </td><td>pKB11.C.1</td><td>pKB11</td><td>C</td><td>1</td><td>1</td><td>S.bayanusvar.uvarum</td><td>Suva_16.102</td><td>S.bayanusvar.uvarum(A)</td><td>A</td><td>18</td><td> 5</td><td>Pos.R18.C5 </td><td> 3617.0</td></tr>\n",
       "\t<tr><th scope=row>5</th><td>pKB11.C.1.Rep1.R18.C48</td><td>pKB11.C.1</td><td>pKB11</td><td>C</td><td>1</td><td>1</td><td>S.bayanusvar.uvarum</td><td>Suva_16.102</td><td>S.bayanusvar.uvarum(A)</td><td>A</td><td>18</td><td>48</td><td>Pos.R18.C48</td><td>53348.5</td></tr>\n",
       "\t<tr><th scope=row>6</th><td>pKB11.C.1.Rep1.R18.C47</td><td>pKB11.C.1</td><td>pKB11</td><td>C</td><td>1</td><td>1</td><td>S.bayanusvar.uvarum</td><td>Suva_16.102</td><td>S.bayanusvar.uvarum(A)</td><td>A</td><td>18</td><td>47</td><td>Pos.R18.C47</td><td>54706.0</td></tr>\n",
       "</tbody>\n",
       "</table>\n"
      ],
      "text/latex": [
       "A data.frame: 6 × 14\n",
       "\\begin{tabular}{r|llllllllllllll}\n",
       "  & UniqueID & Construct\\_ID & Construct & Tagging & Rep & GeneID & Species & Gene & Species\\_position & Pos & row & column & position & auc\\\\\n",
       "  & <chr> & <chr> & <chr> & <chr> & <int> & <int> & <chr> & <chr> & <chr> & <chr> & <int> & <int> & <chr> & <dbl>\\\\\n",
       "\\hline\n",
       "\t1 & pKB11.C.1.Rep1.R18.C2  & pKB11.C.1 & pKB11 & C & 1 & 1 & S.bayanusvar.uvarum & Suva\\_16.102 & S.bayanusvar.uvarum(A) & A & 18 &  2 & Pos.R18.C2  & 50886.0\\\\\n",
       "\t2 & pKB11.C.1.Rep1.R18.C1  & pKB11.C.1 & pKB11 & C & 1 & 1 & S.bayanusvar.uvarum & Suva\\_16.102 & S.bayanusvar.uvarum(A) & A & 18 &  1 & Pos.R18.C1  & 46501.5\\\\\n",
       "\t3 & pKB11.C.1.Rep1.R18.C3  & pKB11.C.1 & pKB11 & C & 1 & 1 & S.bayanusvar.uvarum & Suva\\_16.102 & S.bayanusvar.uvarum(A) & A & 18 &  3 & Pos.R18.C3  &  3991.0\\\\\n",
       "\t4 & pKB11.C.1.Rep1.R18.C5  & pKB11.C.1 & pKB11 & C & 1 & 1 & S.bayanusvar.uvarum & Suva\\_16.102 & S.bayanusvar.uvarum(A) & A & 18 &  5 & Pos.R18.C5  &  3617.0\\\\\n",
       "\t5 & pKB11.C.1.Rep1.R18.C48 & pKB11.C.1 & pKB11 & C & 1 & 1 & S.bayanusvar.uvarum & Suva\\_16.102 & S.bayanusvar.uvarum(A) & A & 18 & 48 & Pos.R18.C48 & 53348.5\\\\\n",
       "\t6 & pKB11.C.1.Rep1.R18.C47 & pKB11.C.1 & pKB11 & C & 1 & 1 & S.bayanusvar.uvarum & Suva\\_16.102 & S.bayanusvar.uvarum(A) & A & 18 & 47 & Pos.R18.C47 & 54706.0\\\\\n",
       "\\end{tabular}\n"
      ],
      "text/markdown": [
       "\n",
       "A data.frame: 6 × 14\n",
       "\n",
       "| <!--/--> | UniqueID &lt;chr&gt; | Construct_ID &lt;chr&gt; | Construct &lt;chr&gt; | Tagging &lt;chr&gt; | Rep &lt;int&gt; | GeneID &lt;int&gt; | Species &lt;chr&gt; | Gene &lt;chr&gt; | Species_position &lt;chr&gt; | Pos &lt;chr&gt; | row &lt;int&gt; | column &lt;int&gt; | position &lt;chr&gt; | auc &lt;dbl&gt; |\n",
       "|---|---|---|---|---|---|---|---|---|---|---|---|---|---|---|\n",
       "| 1 | pKB11.C.1.Rep1.R18.C2  | pKB11.C.1 | pKB11 | C | 1 | 1 | S.bayanusvar.uvarum | Suva_16.102 | S.bayanusvar.uvarum(A) | A | 18 |  2 | Pos.R18.C2  | 50886.0 |\n",
       "| 2 | pKB11.C.1.Rep1.R18.C1  | pKB11.C.1 | pKB11 | C | 1 | 1 | S.bayanusvar.uvarum | Suva_16.102 | S.bayanusvar.uvarum(A) | A | 18 |  1 | Pos.R18.C1  | 46501.5 |\n",
       "| 3 | pKB11.C.1.Rep1.R18.C3  | pKB11.C.1 | pKB11 | C | 1 | 1 | S.bayanusvar.uvarum | Suva_16.102 | S.bayanusvar.uvarum(A) | A | 18 |  3 | Pos.R18.C3  |  3991.0 |\n",
       "| 4 | pKB11.C.1.Rep1.R18.C5  | pKB11.C.1 | pKB11 | C | 1 | 1 | S.bayanusvar.uvarum | Suva_16.102 | S.bayanusvar.uvarum(A) | A | 18 |  5 | Pos.R18.C5  |  3617.0 |\n",
       "| 5 | pKB11.C.1.Rep1.R18.C48 | pKB11.C.1 | pKB11 | C | 1 | 1 | S.bayanusvar.uvarum | Suva_16.102 | S.bayanusvar.uvarum(A) | A | 18 | 48 | Pos.R18.C48 | 53348.5 |\n",
       "| 6 | pKB11.C.1.Rep1.R18.C47 | pKB11.C.1 | pKB11 | C | 1 | 1 | S.bayanusvar.uvarum | Suva_16.102 | S.bayanusvar.uvarum(A) | A | 18 | 47 | Pos.R18.C47 | 54706.0 |\n",
       "\n"
      ],
      "text/plain": [
       "  UniqueID               Construct_ID Construct Tagging Rep GeneID\n",
       "1 pKB11.C.1.Rep1.R18.C2  pKB11.C.1    pKB11     C       1   1     \n",
       "2 pKB11.C.1.Rep1.R18.C1  pKB11.C.1    pKB11     C       1   1     \n",
       "3 pKB11.C.1.Rep1.R18.C3  pKB11.C.1    pKB11     C       1   1     \n",
       "4 pKB11.C.1.Rep1.R18.C5  pKB11.C.1    pKB11     C       1   1     \n",
       "5 pKB11.C.1.Rep1.R18.C48 pKB11.C.1    pKB11     C       1   1     \n",
       "6 pKB11.C.1.Rep1.R18.C47 pKB11.C.1    pKB11     C       1   1     \n",
       "  Species             Gene        Species_position       Pos row column\n",
       "1 S.bayanusvar.uvarum Suva_16.102 S.bayanusvar.uvarum(A) A   18   2    \n",
       "2 S.bayanusvar.uvarum Suva_16.102 S.bayanusvar.uvarum(A) A   18   1    \n",
       "3 S.bayanusvar.uvarum Suva_16.102 S.bayanusvar.uvarum(A) A   18   3    \n",
       "4 S.bayanusvar.uvarum Suva_16.102 S.bayanusvar.uvarum(A) A   18   5    \n",
       "5 S.bayanusvar.uvarum Suva_16.102 S.bayanusvar.uvarum(A) A   18  48    \n",
       "6 S.bayanusvar.uvarum Suva_16.102 S.bayanusvar.uvarum(A) A   18  47    \n",
       "  position    auc    \n",
       "1 Pos.R18.C2  50886.0\n",
       "2 Pos.R18.C1  46501.5\n",
       "3 Pos.R18.C3   3991.0\n",
       "4 Pos.R18.C5   3617.0\n",
       "5 Pos.R18.C48 53348.5\n",
       "6 Pos.R18.C47 54706.0"
      ]
     },
     "metadata": {},
     "output_type": "display_data"
    },
    {
     "data": {
      "text/html": [
       "<table class=\"dataframe\">\n",
       "<caption>A data.frame: 6 × 25</caption>\n",
       "<thead>\n",
       "\t<tr><th></th><th scope=col>Image_ID</th><th scope=col>Condition</th><th scope=col>Rep</th><th scope=col>Construct</th><th scope=col>Tagging</th><th scope=col>GeneID</th><th scope=col>Species</th><th scope=col>Gene</th><th scope=col>Dup_position</th><th scope=col>Pos</th><th scope=col>⋯</th><th scope=col>centroid</th><th scope=col>mean_intensity</th><th scope=col>perimeter</th><th scope=col>row</th><th scope=col>column</th><th scope=col>circularity</th><th scope=col>plate_number</th><th scope=col>spot_well</th><th scope=col>RA_well</th><th scope=col>UniqueID</th></tr>\n",
       "\t<tr><th></th><th scope=col>&lt;chr&gt;</th><th scope=col>&lt;chr&gt;</th><th scope=col>&lt;int&gt;</th><th scope=col>&lt;chr&gt;</th><th scope=col>&lt;chr&gt;</th><th scope=col>&lt;int&gt;</th><th scope=col>&lt;chr&gt;</th><th scope=col>&lt;chr&gt;</th><th scope=col>&lt;chr&gt;</th><th scope=col>&lt;chr&gt;</th><th scope=col>⋯</th><th scope=col>&lt;chr&gt;</th><th scope=col>&lt;dbl&gt;</th><th scope=col>&lt;dbl&gt;</th><th scope=col>&lt;int&gt;</th><th scope=col>&lt;int&gt;</th><th scope=col>&lt;dbl&gt;</th><th scope=col>&lt;chr&gt;</th><th scope=col>&lt;chr&gt;</th><th scope=col>&lt;chr&gt;</th><th scope=col>&lt;chr&gt;</th></tr>\n",
       "</thead>\n",
       "<tbody>\n",
       "\t<tr><th scope=row>1</th><td>IMG_00049</td><td>Diploid</td><td>1</td><td>pKB11</td><td>C</td><td>1</td><td>S.bayanusvar.uvarum</td><td>Suva_16.102</td><td>DupA</td><td>A</td><td>⋯</td><td>(2800.6563272028548, 2415.384298654955)</td><td>0.8169048</td><td>229.5807</td><td>32</td><td>28</td><td>0.8685566</td><td>IMG_00049</td><td>`28</td><td>P14</td><td>pKB11.C.1.Rep1.R32.C28</td></tr>\n",
       "\t<tr><th scope=row>2</th><td>IMG_00049</td><td>Diploid</td><td>1</td><td>pKB11</td><td>C</td><td>1</td><td>S.bayanusvar.uvarum</td><td>Suva_16.102</td><td>DupA</td><td>A</td><td>⋯</td><td>(2799.1600609756097, 3041.049695121951)</td><td>0.8120576</td><td>215.6812</td><td>32</td><td>35</td><td>0.8860515</td><td>IMG_00049</td><td>`35</td><td>P18</td><td>pKB11.C.1.Rep1.R32.C35</td></tr>\n",
       "\t<tr><th scope=row>3</th><td>IMG_00049</td><td>Diploid</td><td>1</td><td>pKB11</td><td>C</td><td>1</td><td>S.bayanusvar.uvarum</td><td>Suva_16.102</td><td>DupA</td><td>A</td><td>⋯</td><td>(2084.8730385164054, 3660.270090347123)</td><td>0.8155688</td><td>171.0955</td><td>24</td><td>42</td><td>0.9027598</td><td>IMG_00049</td><td>X42</td><td>L21</td><td>pKB11.C.1.Rep1.R24.C42</td></tr>\n",
       "\t<tr><th scope=row>4</th><td>IMG_00049</td><td>Diploid</td><td>1</td><td>pKB11</td><td>C</td><td>1</td><td>S.bayanusvar.uvarum</td><td>Suva_16.102</td><td>DupA</td><td>A</td><td>⋯</td><td>(2800.967886065345, 2595.659592292656) </td><td>0.8164649</td><td>226.4092</td><td>32</td><td>30</td><td>0.8778619</td><td>IMG_00049</td><td>`30</td><td>P15</td><td>pKB11.C.1.Rep1.R32.C30</td></tr>\n",
       "\t<tr><th scope=row>5</th><td>IMG_00049</td><td>Diploid</td><td>1</td><td>pKB11</td><td>C</td><td>1</td><td>S.bayanusvar.uvarum</td><td>Suva_16.102</td><td>DupA</td><td>A</td><td>⋯</td><td>(2085.0053242981608, 3566.874636979671)</td><td>0.8134597</td><td>169.7817</td><td>24</td><td>41</td><td>0.9006544</td><td>IMG_00049</td><td>X41</td><td>L21</td><td>pKB11.C.1.Rep1.R24.C41</td></tr>\n",
       "\t<tr><th scope=row>6</th><td>IMG_00049</td><td>Diploid</td><td>1</td><td>pKB11</td><td>C</td><td>1</td><td>S.bayanusvar.uvarum</td><td>Suva_16.102</td><td>DupA</td><td>A</td><td>⋯</td><td>(748.4432558139534, 2602.3562790697674)</td><td>0.8287205</td><td>171.4386</td><td> 9</td><td>30</td><td>0.9192446</td><td>IMG_00049</td><td>I30</td><td>E15</td><td>pKB11.C.1.Rep1.R9.C30 </td></tr>\n",
       "</tbody>\n",
       "</table>\n"
      ],
      "text/latex": [
       "A data.frame: 6 × 25\n",
       "\\begin{tabular}{r|lllllllllllllllllllll}\n",
       "  & Image\\_ID & Condition & Rep & Construct & Tagging & GeneID & Species & Gene & Dup\\_position & Pos & ⋯ & centroid & mean\\_intensity & perimeter & row & column & circularity & plate\\_number & spot\\_well & RA\\_well & UniqueID\\\\\n",
       "  & <chr> & <chr> & <int> & <chr> & <chr> & <int> & <chr> & <chr> & <chr> & <chr> & ⋯ & <chr> & <dbl> & <dbl> & <int> & <int> & <dbl> & <chr> & <chr> & <chr> & <chr>\\\\\n",
       "\\hline\n",
       "\t1 & IMG\\_00049 & Diploid & 1 & pKB11 & C & 1 & S.bayanusvar.uvarum & Suva\\_16.102 & DupA & A & ⋯ & (2800.6563272028548, 2415.384298654955) & 0.8169048 & 229.5807 & 32 & 28 & 0.8685566 & IMG\\_00049 & `28 & P14 & pKB11.C.1.Rep1.R32.C28\\\\\n",
       "\t2 & IMG\\_00049 & Diploid & 1 & pKB11 & C & 1 & S.bayanusvar.uvarum & Suva\\_16.102 & DupA & A & ⋯ & (2799.1600609756097, 3041.049695121951) & 0.8120576 & 215.6812 & 32 & 35 & 0.8860515 & IMG\\_00049 & `35 & P18 & pKB11.C.1.Rep1.R32.C35\\\\\n",
       "\t3 & IMG\\_00049 & Diploid & 1 & pKB11 & C & 1 & S.bayanusvar.uvarum & Suva\\_16.102 & DupA & A & ⋯ & (2084.8730385164054, 3660.270090347123) & 0.8155688 & 171.0955 & 24 & 42 & 0.9027598 & IMG\\_00049 & X42 & L21 & pKB11.C.1.Rep1.R24.C42\\\\\n",
       "\t4 & IMG\\_00049 & Diploid & 1 & pKB11 & C & 1 & S.bayanusvar.uvarum & Suva\\_16.102 & DupA & A & ⋯ & (2800.967886065345, 2595.659592292656)  & 0.8164649 & 226.4092 & 32 & 30 & 0.8778619 & IMG\\_00049 & `30 & P15 & pKB11.C.1.Rep1.R32.C30\\\\\n",
       "\t5 & IMG\\_00049 & Diploid & 1 & pKB11 & C & 1 & S.bayanusvar.uvarum & Suva\\_16.102 & DupA & A & ⋯ & (2085.0053242981608, 3566.874636979671) & 0.8134597 & 169.7817 & 24 & 41 & 0.9006544 & IMG\\_00049 & X41 & L21 & pKB11.C.1.Rep1.R24.C41\\\\\n",
       "\t6 & IMG\\_00049 & Diploid & 1 & pKB11 & C & 1 & S.bayanusvar.uvarum & Suva\\_16.102 & DupA & A & ⋯ & (748.4432558139534, 2602.3562790697674) & 0.8287205 & 171.4386 &  9 & 30 & 0.9192446 & IMG\\_00049 & I30 & E15 & pKB11.C.1.Rep1.R9.C30 \\\\\n",
       "\\end{tabular}\n"
      ],
      "text/markdown": [
       "\n",
       "A data.frame: 6 × 25\n",
       "\n",
       "| <!--/--> | Image_ID &lt;chr&gt; | Condition &lt;chr&gt; | Rep &lt;int&gt; | Construct &lt;chr&gt; | Tagging &lt;chr&gt; | GeneID &lt;int&gt; | Species &lt;chr&gt; | Gene &lt;chr&gt; | Dup_position &lt;chr&gt; | Pos &lt;chr&gt; | ⋯ ⋯ | centroid &lt;chr&gt; | mean_intensity &lt;dbl&gt; | perimeter &lt;dbl&gt; | row &lt;int&gt; | column &lt;int&gt; | circularity &lt;dbl&gt; | plate_number &lt;chr&gt; | spot_well &lt;chr&gt; | RA_well &lt;chr&gt; | UniqueID &lt;chr&gt; |\n",
       "|---|---|---|---|---|---|---|---|---|---|---|---|---|---|---|---|---|---|---|---|---|---|\n",
       "| 1 | IMG_00049 | Diploid | 1 | pKB11 | C | 1 | S.bayanusvar.uvarum | Suva_16.102 | DupA | A | ⋯ | (2800.6563272028548, 2415.384298654955) | 0.8169048 | 229.5807 | 32 | 28 | 0.8685566 | IMG_00049 | `28 | P14 | pKB11.C.1.Rep1.R32.C28 |\n",
       "| 2 | IMG_00049 | Diploid | 1 | pKB11 | C | 1 | S.bayanusvar.uvarum | Suva_16.102 | DupA | A | ⋯ | (2799.1600609756097, 3041.049695121951) | 0.8120576 | 215.6812 | 32 | 35 | 0.8860515 | IMG_00049 | `35 | P18 | pKB11.C.1.Rep1.R32.C35 |\n",
       "| 3 | IMG_00049 | Diploid | 1 | pKB11 | C | 1 | S.bayanusvar.uvarum | Suva_16.102 | DupA | A | ⋯ | (2084.8730385164054, 3660.270090347123) | 0.8155688 | 171.0955 | 24 | 42 | 0.9027598 | IMG_00049 | X42 | L21 | pKB11.C.1.Rep1.R24.C42 |\n",
       "| 4 | IMG_00049 | Diploid | 1 | pKB11 | C | 1 | S.bayanusvar.uvarum | Suva_16.102 | DupA | A | ⋯ | (2800.967886065345, 2595.659592292656)  | 0.8164649 | 226.4092 | 32 | 30 | 0.8778619 | IMG_00049 | `30 | P15 | pKB11.C.1.Rep1.R32.C30 |\n",
       "| 5 | IMG_00049 | Diploid | 1 | pKB11 | C | 1 | S.bayanusvar.uvarum | Suva_16.102 | DupA | A | ⋯ | (2085.0053242981608, 3566.874636979671) | 0.8134597 | 169.7817 | 24 | 41 | 0.9006544 | IMG_00049 | X41 | L21 | pKB11.C.1.Rep1.R24.C41 |\n",
       "| 6 | IMG_00049 | Diploid | 1 | pKB11 | C | 1 | S.bayanusvar.uvarum | Suva_16.102 | DupA | A | ⋯ | (748.4432558139534, 2602.3562790697674) | 0.8287205 | 171.4386 |  9 | 30 | 0.9192446 | IMG_00049 | I30 | E15 | pKB11.C.1.Rep1.R9.C30  |\n",
       "\n"
      ],
      "text/plain": [
       "  Image_ID  Condition Rep Construct Tagging GeneID Species            \n",
       "1 IMG_00049 Diploid   1   pKB11     C       1      S.bayanusvar.uvarum\n",
       "2 IMG_00049 Diploid   1   pKB11     C       1      S.bayanusvar.uvarum\n",
       "3 IMG_00049 Diploid   1   pKB11     C       1      S.bayanusvar.uvarum\n",
       "4 IMG_00049 Diploid   1   pKB11     C       1      S.bayanusvar.uvarum\n",
       "5 IMG_00049 Diploid   1   pKB11     C       1      S.bayanusvar.uvarum\n",
       "6 IMG_00049 Diploid   1   pKB11     C       1      S.bayanusvar.uvarum\n",
       "  Gene        Dup_position Pos ⋯ centroid                               \n",
       "1 Suva_16.102 DupA         A   ⋯ (2800.6563272028548, 2415.384298654955)\n",
       "2 Suva_16.102 DupA         A   ⋯ (2799.1600609756097, 3041.049695121951)\n",
       "3 Suva_16.102 DupA         A   ⋯ (2084.8730385164054, 3660.270090347123)\n",
       "4 Suva_16.102 DupA         A   ⋯ (2800.967886065345, 2595.659592292656) \n",
       "5 Suva_16.102 DupA         A   ⋯ (2085.0053242981608, 3566.874636979671)\n",
       "6 Suva_16.102 DupA         A   ⋯ (748.4432558139534, 2602.3562790697674)\n",
       "  mean_intensity perimeter row column circularity plate_number spot_well\n",
       "1 0.8169048      229.5807  32  28     0.8685566   IMG_00049    `28      \n",
       "2 0.8120576      215.6812  32  35     0.8860515   IMG_00049    `35      \n",
       "3 0.8155688      171.0955  24  42     0.9027598   IMG_00049    X42      \n",
       "4 0.8164649      226.4092  32  30     0.8778619   IMG_00049    `30      \n",
       "5 0.8134597      169.7817  24  41     0.9006544   IMG_00049    X41      \n",
       "6 0.8287205      171.4386   9  30     0.9192446   IMG_00049    I30      \n",
       "  RA_well UniqueID              \n",
       "1 P14     pKB11.C.1.Rep1.R32.C28\n",
       "2 P18     pKB11.C.1.Rep1.R32.C35\n",
       "3 L21     pKB11.C.1.Rep1.R24.C42\n",
       "4 P15     pKB11.C.1.Rep1.R32.C30\n",
       "5 L21     pKB11.C.1.Rep1.R24.C41\n",
       "6 E15     pKB11.C.1.Rep1.R9.C30 "
      ]
     },
     "metadata": {},
     "output_type": "display_data"
    }
   ],
   "source": [
    "MTX_data$UniqueID= paste(MTX_data$Construct_ID,paste(\"Rep\",MTX_data$Rep,sep=\"\"),paste(\"R\",MTX_data$row,sep=\"\"),paste(\"C\",MTX_data$column,sep=\"\"),sep=\".\")\n",
    "MTX_data$position= paste( \"Pos\",paste(\"R\",MTX_data$row,sep=\"\"),paste(\"C\",MTX_data$column,sep=\"\"),sep=\".\")\n",
    "MTX_data =  select(MTX_data, UniqueID,Construct_ID,Construct,Tagging,Rep,GeneID,Species,Gene,Species_position,Pos,row,column,position,auc)\n",
    "head(MTX_data)\n",
    "\n",
    "Diploid_data$Image_ID = Diploid_data$plate_number\n",
    "screening_info_Dip = screening_info[screening_info$Condition==\"Diploid\",]\n",
    "Diploid_data <- (merge(screening_info_Dip, Diploid_data, by = 'Image_ID'))\n",
    "Diploid_data$UniqueID= paste(Diploid_data$Construct_ID,paste(\"Rep\",Diploid_data$Rep,sep=\"\"),paste(\"R\",Diploid_data$row,sep=\"\"),paste(\"C\",Diploid_data$column,sep=\"\"),sep=\".\")\n",
    "head(Diploid_data)"
   ]
  },
  {
   "cell_type": "code",
   "execution_count": 10,
   "id": "af79a7c9-626a-40c6-bcc0-b25226e5f248",
   "metadata": {},
   "outputs": [],
   "source": [
    "Diploid_area =  select(Diploid_data, UniqueID, area)\n",
    "names(Diploid_area)[2] = \"Diploid_sel2_area\"\n"
   ]
  },
  {
   "cell_type": "code",
   "execution_count": 11,
   "id": "3ed469f1-9cbd-47bc-ae3c-11473457638e",
   "metadata": {},
   "outputs": [
    {
     "data": {
      "text/html": [
       "<table class=\"dataframe\">\n",
       "<caption>A data.frame: 6 × 15</caption>\n",
       "<thead>\n",
       "\t<tr><th></th><th scope=col>UniqueID</th><th scope=col>Diploid_sel2_area</th><th scope=col>Construct_ID</th><th scope=col>Construct</th><th scope=col>Tagging</th><th scope=col>Rep</th><th scope=col>GeneID</th><th scope=col>Species</th><th scope=col>Gene</th><th scope=col>Species_position</th><th scope=col>Pos</th><th scope=col>row</th><th scope=col>column</th><th scope=col>position</th><th scope=col>auc</th></tr>\n",
       "\t<tr><th></th><th scope=col>&lt;chr&gt;</th><th scope=col>&lt;int&gt;</th><th scope=col>&lt;chr&gt;</th><th scope=col>&lt;chr&gt;</th><th scope=col>&lt;chr&gt;</th><th scope=col>&lt;int&gt;</th><th scope=col>&lt;int&gt;</th><th scope=col>&lt;chr&gt;</th><th scope=col>&lt;chr&gt;</th><th scope=col>&lt;chr&gt;</th><th scope=col>&lt;chr&gt;</th><th scope=col>&lt;int&gt;</th><th scope=col>&lt;int&gt;</th><th scope=col>&lt;chr&gt;</th><th scope=col>&lt;dbl&gt;</th></tr>\n",
       "</thead>\n",
       "<tbody>\n",
       "\t<tr><th scope=row>1</th><td>pKB11.C.1.Rep1.R1.C14</td><td>3003</td><td>pKB11.C.1</td><td>pKB11</td><td>C</td><td>1</td><td>1</td><td>S.bayanusvar.uvarum</td><td>Suva_16.102</td><td>S.bayanusvar.uvarum(A)</td><td>A</td><td>1</td><td>14</td><td>Pos.R1.C14</td><td>81671.5</td></tr>\n",
       "\t<tr><th scope=row>2</th><td>pKB11.C.1.Rep1.R1.C17</td><td>3051</td><td>pKB11.C.1</td><td>pKB11</td><td>C</td><td>1</td><td>1</td><td>S.bayanusvar.uvarum</td><td>Suva_16.102</td><td>S.bayanusvar.uvarum(A)</td><td>A</td><td>1</td><td>17</td><td>Pos.R1.C17</td><td>83744.5</td></tr>\n",
       "\t<tr><th scope=row>3</th><td>pKB11.C.1.Rep1.R1.C24</td><td>3126</td><td>pKB11.C.1</td><td>pKB11</td><td>C</td><td>1</td><td>1</td><td>S.bayanusvar.uvarum</td><td>Suva_16.102</td><td>S.bayanusvar.uvarum(A)</td><td>A</td><td>1</td><td>24</td><td>Pos.R1.C24</td><td>86575.0</td></tr>\n",
       "\t<tr><th scope=row>4</th><td>pKB11.C.1.Rep1.R1.C27</td><td>3112</td><td>pKB11.C.1</td><td>pKB11</td><td>C</td><td>1</td><td>1</td><td>S.bayanusvar.uvarum</td><td>Suva_16.102</td><td>S.bayanusvar.uvarum(A)</td><td>A</td><td>1</td><td>27</td><td>Pos.R1.C27</td><td>78039.5</td></tr>\n",
       "\t<tr><th scope=row>5</th><td>pKB11.C.1.Rep1.R1.C28</td><td>2855</td><td>pKB11.C.1</td><td>pKB11</td><td>C</td><td>1</td><td>1</td><td>S.bayanusvar.uvarum</td><td>Suva_16.102</td><td>S.bayanusvar.uvarum(A)</td><td>A</td><td>1</td><td>28</td><td>Pos.R1.C28</td><td>82017.5</td></tr>\n",
       "\t<tr><th scope=row>6</th><td>pKB11.C.1.Rep1.R1.C3 </td><td>2870</td><td>pKB11.C.1</td><td>pKB11</td><td>C</td><td>1</td><td>1</td><td>S.bayanusvar.uvarum</td><td>Suva_16.102</td><td>S.bayanusvar.uvarum(A)</td><td>A</td><td>1</td><td> 3</td><td>Pos.R1.C3 </td><td>79475.0</td></tr>\n",
       "</tbody>\n",
       "</table>\n"
      ],
      "text/latex": [
       "A data.frame: 6 × 15\n",
       "\\begin{tabular}{r|lllllllllllllll}\n",
       "  & UniqueID & Diploid\\_sel2\\_area & Construct\\_ID & Construct & Tagging & Rep & GeneID & Species & Gene & Species\\_position & Pos & row & column & position & auc\\\\\n",
       "  & <chr> & <int> & <chr> & <chr> & <chr> & <int> & <int> & <chr> & <chr> & <chr> & <chr> & <int> & <int> & <chr> & <dbl>\\\\\n",
       "\\hline\n",
       "\t1 & pKB11.C.1.Rep1.R1.C14 & 3003 & pKB11.C.1 & pKB11 & C & 1 & 1 & S.bayanusvar.uvarum & Suva\\_16.102 & S.bayanusvar.uvarum(A) & A & 1 & 14 & Pos.R1.C14 & 81671.5\\\\\n",
       "\t2 & pKB11.C.1.Rep1.R1.C17 & 3051 & pKB11.C.1 & pKB11 & C & 1 & 1 & S.bayanusvar.uvarum & Suva\\_16.102 & S.bayanusvar.uvarum(A) & A & 1 & 17 & Pos.R1.C17 & 83744.5\\\\\n",
       "\t3 & pKB11.C.1.Rep1.R1.C24 & 3126 & pKB11.C.1 & pKB11 & C & 1 & 1 & S.bayanusvar.uvarum & Suva\\_16.102 & S.bayanusvar.uvarum(A) & A & 1 & 24 & Pos.R1.C24 & 86575.0\\\\\n",
       "\t4 & pKB11.C.1.Rep1.R1.C27 & 3112 & pKB11.C.1 & pKB11 & C & 1 & 1 & S.bayanusvar.uvarum & Suva\\_16.102 & S.bayanusvar.uvarum(A) & A & 1 & 27 & Pos.R1.C27 & 78039.5\\\\\n",
       "\t5 & pKB11.C.1.Rep1.R1.C28 & 2855 & pKB11.C.1 & pKB11 & C & 1 & 1 & S.bayanusvar.uvarum & Suva\\_16.102 & S.bayanusvar.uvarum(A) & A & 1 & 28 & Pos.R1.C28 & 82017.5\\\\\n",
       "\t6 & pKB11.C.1.Rep1.R1.C3  & 2870 & pKB11.C.1 & pKB11 & C & 1 & 1 & S.bayanusvar.uvarum & Suva\\_16.102 & S.bayanusvar.uvarum(A) & A & 1 &  3 & Pos.R1.C3  & 79475.0\\\\\n",
       "\\end{tabular}\n"
      ],
      "text/markdown": [
       "\n",
       "A data.frame: 6 × 15\n",
       "\n",
       "| <!--/--> | UniqueID &lt;chr&gt; | Diploid_sel2_area &lt;int&gt; | Construct_ID &lt;chr&gt; | Construct &lt;chr&gt; | Tagging &lt;chr&gt; | Rep &lt;int&gt; | GeneID &lt;int&gt; | Species &lt;chr&gt; | Gene &lt;chr&gt; | Species_position &lt;chr&gt; | Pos &lt;chr&gt; | row &lt;int&gt; | column &lt;int&gt; | position &lt;chr&gt; | auc &lt;dbl&gt; |\n",
       "|---|---|---|---|---|---|---|---|---|---|---|---|---|---|---|---|\n",
       "| 1 | pKB11.C.1.Rep1.R1.C14 | 3003 | pKB11.C.1 | pKB11 | C | 1 | 1 | S.bayanusvar.uvarum | Suva_16.102 | S.bayanusvar.uvarum(A) | A | 1 | 14 | Pos.R1.C14 | 81671.5 |\n",
       "| 2 | pKB11.C.1.Rep1.R1.C17 | 3051 | pKB11.C.1 | pKB11 | C | 1 | 1 | S.bayanusvar.uvarum | Suva_16.102 | S.bayanusvar.uvarum(A) | A | 1 | 17 | Pos.R1.C17 | 83744.5 |\n",
       "| 3 | pKB11.C.1.Rep1.R1.C24 | 3126 | pKB11.C.1 | pKB11 | C | 1 | 1 | S.bayanusvar.uvarum | Suva_16.102 | S.bayanusvar.uvarum(A) | A | 1 | 24 | Pos.R1.C24 | 86575.0 |\n",
       "| 4 | pKB11.C.1.Rep1.R1.C27 | 3112 | pKB11.C.1 | pKB11 | C | 1 | 1 | S.bayanusvar.uvarum | Suva_16.102 | S.bayanusvar.uvarum(A) | A | 1 | 27 | Pos.R1.C27 | 78039.5 |\n",
       "| 5 | pKB11.C.1.Rep1.R1.C28 | 2855 | pKB11.C.1 | pKB11 | C | 1 | 1 | S.bayanusvar.uvarum | Suva_16.102 | S.bayanusvar.uvarum(A) | A | 1 | 28 | Pos.R1.C28 | 82017.5 |\n",
       "| 6 | pKB11.C.1.Rep1.R1.C3  | 2870 | pKB11.C.1 | pKB11 | C | 1 | 1 | S.bayanusvar.uvarum | Suva_16.102 | S.bayanusvar.uvarum(A) | A | 1 |  3 | Pos.R1.C3  | 79475.0 |\n",
       "\n"
      ],
      "text/plain": [
       "  UniqueID              Diploid_sel2_area Construct_ID Construct Tagging Rep\n",
       "1 pKB11.C.1.Rep1.R1.C14 3003              pKB11.C.1    pKB11     C       1  \n",
       "2 pKB11.C.1.Rep1.R1.C17 3051              pKB11.C.1    pKB11     C       1  \n",
       "3 pKB11.C.1.Rep1.R1.C24 3126              pKB11.C.1    pKB11     C       1  \n",
       "4 pKB11.C.1.Rep1.R1.C27 3112              pKB11.C.1    pKB11     C       1  \n",
       "5 pKB11.C.1.Rep1.R1.C28 2855              pKB11.C.1    pKB11     C       1  \n",
       "6 pKB11.C.1.Rep1.R1.C3  2870              pKB11.C.1    pKB11     C       1  \n",
       "  GeneID Species             Gene        Species_position       Pos row column\n",
       "1 1      S.bayanusvar.uvarum Suva_16.102 S.bayanusvar.uvarum(A) A   1   14    \n",
       "2 1      S.bayanusvar.uvarum Suva_16.102 S.bayanusvar.uvarum(A) A   1   17    \n",
       "3 1      S.bayanusvar.uvarum Suva_16.102 S.bayanusvar.uvarum(A) A   1   24    \n",
       "4 1      S.bayanusvar.uvarum Suva_16.102 S.bayanusvar.uvarum(A) A   1   27    \n",
       "5 1      S.bayanusvar.uvarum Suva_16.102 S.bayanusvar.uvarum(A) A   1   28    \n",
       "6 1      S.bayanusvar.uvarum Suva_16.102 S.bayanusvar.uvarum(A) A   1    3    \n",
       "  position   auc    \n",
       "1 Pos.R1.C14 81671.5\n",
       "2 Pos.R1.C17 83744.5\n",
       "3 Pos.R1.C24 86575.0\n",
       "4 Pos.R1.C27 78039.5\n",
       "5 Pos.R1.C28 82017.5\n",
       "6 Pos.R1.C3  79475.0"
      ]
     },
     "metadata": {},
     "output_type": "display_data"
    }
   ],
   "source": [
    "MTX_data <- (merge(Diploid_area, MTX_data, by = 'UniqueID'))\n",
    "head(MTX_data)"
   ]
  },
  {
   "cell_type": "code",
   "execution_count": 12,
   "id": "a3bbf473-f4f4-42f3-b904-b07ebd036838",
   "metadata": {},
   "outputs": [
    {
     "data": {
      "text/html": [
       "<table class=\"dataframe\">\n",
       "<caption>A data.frame: 6 × 4</caption>\n",
       "<thead>\n",
       "\t<tr><th></th><th scope=col>Gene</th><th scope=col>ORF</th><th scope=col>c1536</th><th scope=col>r1536</th></tr>\n",
       "\t<tr><th></th><th scope=col>&lt;chr&gt;</th><th scope=col>&lt;chr&gt;</th><th scope=col>&lt;int&gt;</th><th scope=col>&lt;int&gt;</th></tr>\n",
       "</thead>\n",
       "<tbody>\n",
       "\t<tr><th scope=row>1</th><td>Border</td><td>Border</td><td>1</td><td> 1</td></tr>\n",
       "\t<tr><th scope=row>2</th><td>Border</td><td>Border</td><td>1</td><td> 3</td></tr>\n",
       "\t<tr><th scope=row>3</th><td>Border</td><td>Border</td><td>1</td><td> 5</td></tr>\n",
       "\t<tr><th scope=row>4</th><td>Border</td><td>Border</td><td>1</td><td> 7</td></tr>\n",
       "\t<tr><th scope=row>5</th><td>Border</td><td>Border</td><td>1</td><td> 9</td></tr>\n",
       "\t<tr><th scope=row>6</th><td>Border</td><td>Border</td><td>1</td><td>11</td></tr>\n",
       "</tbody>\n",
       "</table>\n"
      ],
      "text/latex": [
       "A data.frame: 6 × 4\n",
       "\\begin{tabular}{r|llll}\n",
       "  & Gene & ORF & c1536 & r1536\\\\\n",
       "  & <chr> & <chr> & <int> & <int>\\\\\n",
       "\\hline\n",
       "\t1 & Border & Border & 1 &  1\\\\\n",
       "\t2 & Border & Border & 1 &  3\\\\\n",
       "\t3 & Border & Border & 1 &  5\\\\\n",
       "\t4 & Border & Border & 1 &  7\\\\\n",
       "\t5 & Border & Border & 1 &  9\\\\\n",
       "\t6 & Border & Border & 1 & 11\\\\\n",
       "\\end{tabular}\n"
      ],
      "text/markdown": [
       "\n",
       "A data.frame: 6 × 4\n",
       "\n",
       "| <!--/--> | Gene &lt;chr&gt; | ORF &lt;chr&gt; | c1536 &lt;int&gt; | r1536 &lt;int&gt; |\n",
       "|---|---|---|---|---|\n",
       "| 1 | Border | Border | 1 |  1 |\n",
       "| 2 | Border | Border | 1 |  3 |\n",
       "| 3 | Border | Border | 1 |  5 |\n",
       "| 4 | Border | Border | 1 |  7 |\n",
       "| 5 | Border | Border | 1 |  9 |\n",
       "| 6 | Border | Border | 1 | 11 |\n",
       "\n"
      ],
      "text/plain": [
       "  Gene   ORF    c1536 r1536\n",
       "1 Border Border 1      1   \n",
       "2 Border Border 1      3   \n",
       "3 Border Border 1      5   \n",
       "4 Border Border 1      7   \n",
       "5 Border Border 1      9   \n",
       "6 Border Border 1     11   "
      ]
     },
     "metadata": {},
     "output_type": "display_data"
    }
   ],
   "source": [
    "head(miniarray_info)"
   ]
  },
  {
   "cell_type": "code",
   "execution_count": 13,
   "id": "13b5fa0e-3a4a-4af9-a4bf-7a3b496a915c",
   "metadata": {},
   "outputs": [],
   "source": [
    "miniarray_info$position = paste(\"Pos\",paste(\"R\",miniarray_info$r1536,sep=\"\"),paste(\"C\",miniarray_info$c1536,sep=\"\"),sep=\".\")"
   ]
  },
  {
   "cell_type": "code",
   "execution_count": 14,
   "id": "cc76af5b-86fd-4523-bace-0e31aa076e89",
   "metadata": {},
   "outputs": [],
   "source": [
    "miniarray_pos_table =  select(miniarray_info, position,Gene, ORF)\n",
    "names(miniarray_pos_table) = c(\"position\",\"Miniarray.Gene\",\"Miniarray.ORF\")"
   ]
  },
  {
   "cell_type": "code",
   "execution_count": 15,
   "id": "45efb933-ceba-498c-b8c8-5844707d7c75",
   "metadata": {},
   "outputs": [
    {
     "data": {
      "text/html": [
       "<table class=\"dataframe\">\n",
       "<caption>A data.frame: 6 × 3</caption>\n",
       "<thead>\n",
       "\t<tr><th></th><th scope=col>position</th><th scope=col>Miniarray.Gene</th><th scope=col>Miniarray.ORF</th></tr>\n",
       "\t<tr><th></th><th scope=col>&lt;chr&gt;</th><th scope=col>&lt;chr&gt;</th><th scope=col>&lt;chr&gt;</th></tr>\n",
       "</thead>\n",
       "<tbody>\n",
       "\t<tr><th scope=row>1</th><td>Pos.R1.C1 </td><td>Border</td><td>Border</td></tr>\n",
       "\t<tr><th scope=row>2</th><td>Pos.R3.C1 </td><td>Border</td><td>Border</td></tr>\n",
       "\t<tr><th scope=row>3</th><td>Pos.R5.C1 </td><td>Border</td><td>Border</td></tr>\n",
       "\t<tr><th scope=row>4</th><td>Pos.R7.C1 </td><td>Border</td><td>Border</td></tr>\n",
       "\t<tr><th scope=row>5</th><td>Pos.R9.C1 </td><td>Border</td><td>Border</td></tr>\n",
       "\t<tr><th scope=row>6</th><td>Pos.R11.C1</td><td>Border</td><td>Border</td></tr>\n",
       "</tbody>\n",
       "</table>\n"
      ],
      "text/latex": [
       "A data.frame: 6 × 3\n",
       "\\begin{tabular}{r|lll}\n",
       "  & position & Miniarray.Gene & Miniarray.ORF\\\\\n",
       "  & <chr> & <chr> & <chr>\\\\\n",
       "\\hline\n",
       "\t1 & Pos.R1.C1  & Border & Border\\\\\n",
       "\t2 & Pos.R3.C1  & Border & Border\\\\\n",
       "\t3 & Pos.R5.C1  & Border & Border\\\\\n",
       "\t4 & Pos.R7.C1  & Border & Border\\\\\n",
       "\t5 & Pos.R9.C1  & Border & Border\\\\\n",
       "\t6 & Pos.R11.C1 & Border & Border\\\\\n",
       "\\end{tabular}\n"
      ],
      "text/markdown": [
       "\n",
       "A data.frame: 6 × 3\n",
       "\n",
       "| <!--/--> | position &lt;chr&gt; | Miniarray.Gene &lt;chr&gt; | Miniarray.ORF &lt;chr&gt; |\n",
       "|---|---|---|---|\n",
       "| 1 | Pos.R1.C1  | Border | Border |\n",
       "| 2 | Pos.R3.C1  | Border | Border |\n",
       "| 3 | Pos.R5.C1  | Border | Border |\n",
       "| 4 | Pos.R7.C1  | Border | Border |\n",
       "| 5 | Pos.R9.C1  | Border | Border |\n",
       "| 6 | Pos.R11.C1 | Border | Border |\n",
       "\n"
      ],
      "text/plain": [
       "  position   Miniarray.Gene Miniarray.ORF\n",
       "1 Pos.R1.C1  Border         Border       \n",
       "2 Pos.R3.C1  Border         Border       \n",
       "3 Pos.R5.C1  Border         Border       \n",
       "4 Pos.R7.C1  Border         Border       \n",
       "5 Pos.R9.C1  Border         Border       \n",
       "6 Pos.R11.C1 Border         Border       "
      ]
     },
     "metadata": {},
     "output_type": "display_data"
    }
   ],
   "source": [
    "head(miniarray_pos_table)"
   ]
  },
  {
   "cell_type": "code",
   "execution_count": 16,
   "id": "59349c40-a785-4bfd-9970-5a8f9475d451",
   "metadata": {},
   "outputs": [
    {
     "data": {
      "text/html": [
       "<table class=\"dataframe\">\n",
       "<caption>A data.frame: 6 × 17</caption>\n",
       "<thead>\n",
       "\t<tr><th></th><th scope=col>position</th><th scope=col>Miniarray.Gene</th><th scope=col>Miniarray.ORF</th><th scope=col>UniqueID</th><th scope=col>Diploid_sel2_area</th><th scope=col>Construct_ID</th><th scope=col>Construct</th><th scope=col>Tagging</th><th scope=col>Rep</th><th scope=col>GeneID</th><th scope=col>Species</th><th scope=col>Gene</th><th scope=col>Species_position</th><th scope=col>Pos</th><th scope=col>row</th><th scope=col>column</th><th scope=col>auc</th></tr>\n",
       "\t<tr><th></th><th scope=col>&lt;chr&gt;</th><th scope=col>&lt;chr&gt;</th><th scope=col>&lt;chr&gt;</th><th scope=col>&lt;chr&gt;</th><th scope=col>&lt;int&gt;</th><th scope=col>&lt;chr&gt;</th><th scope=col>&lt;chr&gt;</th><th scope=col>&lt;chr&gt;</th><th scope=col>&lt;int&gt;</th><th scope=col>&lt;int&gt;</th><th scope=col>&lt;chr&gt;</th><th scope=col>&lt;chr&gt;</th><th scope=col>&lt;chr&gt;</th><th scope=col>&lt;chr&gt;</th><th scope=col>&lt;int&gt;</th><th scope=col>&lt;int&gt;</th><th scope=col>&lt;dbl&gt;</th></tr>\n",
       "</thead>\n",
       "<tbody>\n",
       "\t<tr><th scope=row>1</th><td>Pos.R1.C10</td><td>Border</td><td>Border</td><td>pKB11.C.21.Rep2.R1.C10</td><td>3224</td><td>pKB11.C.21</td><td>pKB11</td><td>C</td><td>2</td><td>21</td><td>H. sapiens</td><td>CSNK1E      </td><td>H. sapiens(CSNK1E) </td><td>   </td><td>1</td><td>10</td><td>76204.0</td></tr>\n",
       "\t<tr><th scope=row>2</th><td>Pos.R1.C11</td><td>Border</td><td>Border</td><td>pKB11.C.7.Rep1.R1.C11 </td><td>3013</td><td>pKB11.C.7 </td><td>pKB11</td><td>C</td><td>1</td><td> 7</td><td>S.mikatae </td><td>Smik_6.409  </td><td>T.blattae(A)       </td><td>A  </td><td>1</td><td>11</td><td>79597.5</td></tr>\n",
       "\t<tr><th scope=row>3</th><td>Pos.R1.C11</td><td>Border</td><td>Border</td><td>pKB11.C.22.Rep2.R1.C11</td><td>2859</td><td>pKB11.C.22</td><td>pKB11</td><td>C</td><td>2</td><td>22</td><td>H. sapiens</td><td>CSNK1A1     </td><td>H. sapiens(CSNK1A1)</td><td>   </td><td>1</td><td>11</td><td>64398.5</td></tr>\n",
       "\t<tr><th scope=row>4</th><td>Pos.R1.C11</td><td>Border</td><td>Border</td><td>pKB11.C.23.Rep1.R1.C11</td><td>2975</td><td>pKB11.C.23</td><td>pKB11</td><td>C</td><td>1</td><td>23</td><td>H. sapiens</td><td>CSNK1D      </td><td>H. sapiens(CSNK1D) </td><td>   </td><td>1</td><td>11</td><td>71993.0</td></tr>\n",
       "\t<tr><th scope=row>5</th><td>Pos.R1.C11</td><td>Border</td><td>Border</td><td>pKB11.C.2.Rep2.R1.C11 </td><td>3154</td><td>pKB11.C.2 </td><td>pKB11</td><td>C</td><td>2</td><td> 2</td><td>K.africana</td><td>KAFR0K00320 </td><td>Z.rouxii(Anc)      </td><td>A  </td><td>1</td><td>11</td><td>72615.5</td></tr>\n",
       "\t<tr><th scope=row>6</th><td>Pos.R1.C11</td><td>Border</td><td>Border</td><td>pKB11.C.9.Rep1.R1.C11 </td><td>3001</td><td>pKB11.C.9 </td><td>pKB11</td><td>C</td><td>1</td><td> 9</td><td>Z.rouxii  </td><td>ZYRO0G08866g</td><td>N.dairenensis(B)   </td><td>Anc</td><td>1</td><td>11</td><td>74252.0</td></tr>\n",
       "</tbody>\n",
       "</table>\n"
      ],
      "text/latex": [
       "A data.frame: 6 × 17\n",
       "\\begin{tabular}{r|lllllllllllllllll}\n",
       "  & position & Miniarray.Gene & Miniarray.ORF & UniqueID & Diploid\\_sel2\\_area & Construct\\_ID & Construct & Tagging & Rep & GeneID & Species & Gene & Species\\_position & Pos & row & column & auc\\\\\n",
       "  & <chr> & <chr> & <chr> & <chr> & <int> & <chr> & <chr> & <chr> & <int> & <int> & <chr> & <chr> & <chr> & <chr> & <int> & <int> & <dbl>\\\\\n",
       "\\hline\n",
       "\t1 & Pos.R1.C10 & Border & Border & pKB11.C.21.Rep2.R1.C10 & 3224 & pKB11.C.21 & pKB11 & C & 2 & 21 & H. sapiens & CSNK1E       & H. sapiens(CSNK1E)  &     & 1 & 10 & 76204.0\\\\\n",
       "\t2 & Pos.R1.C11 & Border & Border & pKB11.C.7.Rep1.R1.C11  & 3013 & pKB11.C.7  & pKB11 & C & 1 &  7 & S.mikatae  & Smik\\_6.409   & T.blattae(A)        & A   & 1 & 11 & 79597.5\\\\\n",
       "\t3 & Pos.R1.C11 & Border & Border & pKB11.C.22.Rep2.R1.C11 & 2859 & pKB11.C.22 & pKB11 & C & 2 & 22 & H. sapiens & CSNK1A1      & H. sapiens(CSNK1A1) &     & 1 & 11 & 64398.5\\\\\n",
       "\t4 & Pos.R1.C11 & Border & Border & pKB11.C.23.Rep1.R1.C11 & 2975 & pKB11.C.23 & pKB11 & C & 1 & 23 & H. sapiens & CSNK1D       & H. sapiens(CSNK1D)  &     & 1 & 11 & 71993.0\\\\\n",
       "\t5 & Pos.R1.C11 & Border & Border & pKB11.C.2.Rep2.R1.C11  & 3154 & pKB11.C.2  & pKB11 & C & 2 &  2 & K.africana & KAFR0K00320  & Z.rouxii(Anc)       & A   & 1 & 11 & 72615.5\\\\\n",
       "\t6 & Pos.R1.C11 & Border & Border & pKB11.C.9.Rep1.R1.C11  & 3001 & pKB11.C.9  & pKB11 & C & 1 &  9 & Z.rouxii   & ZYRO0G08866g & N.dairenensis(B)    & Anc & 1 & 11 & 74252.0\\\\\n",
       "\\end{tabular}\n"
      ],
      "text/markdown": [
       "\n",
       "A data.frame: 6 × 17\n",
       "\n",
       "| <!--/--> | position &lt;chr&gt; | Miniarray.Gene &lt;chr&gt; | Miniarray.ORF &lt;chr&gt; | UniqueID &lt;chr&gt; | Diploid_sel2_area &lt;int&gt; | Construct_ID &lt;chr&gt; | Construct &lt;chr&gt; | Tagging &lt;chr&gt; | Rep &lt;int&gt; | GeneID &lt;int&gt; | Species &lt;chr&gt; | Gene &lt;chr&gt; | Species_position &lt;chr&gt; | Pos &lt;chr&gt; | row &lt;int&gt; | column &lt;int&gt; | auc &lt;dbl&gt; |\n",
       "|---|---|---|---|---|---|---|---|---|---|---|---|---|---|---|---|---|---|\n",
       "| 1 | Pos.R1.C10 | Border | Border | pKB11.C.21.Rep2.R1.C10 | 3224 | pKB11.C.21 | pKB11 | C | 2 | 21 | H. sapiens | CSNK1E       | H. sapiens(CSNK1E)  | <!----> | 1 | 10 | 76204.0 |\n",
       "| 2 | Pos.R1.C11 | Border | Border | pKB11.C.7.Rep1.R1.C11  | 3013 | pKB11.C.7  | pKB11 | C | 1 |  7 | S.mikatae  | Smik_6.409   | T.blattae(A)        | A   | 1 | 11 | 79597.5 |\n",
       "| 3 | Pos.R1.C11 | Border | Border | pKB11.C.22.Rep2.R1.C11 | 2859 | pKB11.C.22 | pKB11 | C | 2 | 22 | H. sapiens | CSNK1A1      | H. sapiens(CSNK1A1) | <!----> | 1 | 11 | 64398.5 |\n",
       "| 4 | Pos.R1.C11 | Border | Border | pKB11.C.23.Rep1.R1.C11 | 2975 | pKB11.C.23 | pKB11 | C | 1 | 23 | H. sapiens | CSNK1D       | H. sapiens(CSNK1D)  | <!----> | 1 | 11 | 71993.0 |\n",
       "| 5 | Pos.R1.C11 | Border | Border | pKB11.C.2.Rep2.R1.C11  | 3154 | pKB11.C.2  | pKB11 | C | 2 |  2 | K.africana | KAFR0K00320  | Z.rouxii(Anc)       | A   | 1 | 11 | 72615.5 |\n",
       "| 6 | Pos.R1.C11 | Border | Border | pKB11.C.9.Rep1.R1.C11  | 3001 | pKB11.C.9  | pKB11 | C | 1 |  9 | Z.rouxii   | ZYRO0G08866g | N.dairenensis(B)    | Anc | 1 | 11 | 74252.0 |\n",
       "\n"
      ],
      "text/plain": [
       "  position   Miniarray.Gene Miniarray.ORF UniqueID              \n",
       "1 Pos.R1.C10 Border         Border        pKB11.C.21.Rep2.R1.C10\n",
       "2 Pos.R1.C11 Border         Border        pKB11.C.7.Rep1.R1.C11 \n",
       "3 Pos.R1.C11 Border         Border        pKB11.C.22.Rep2.R1.C11\n",
       "4 Pos.R1.C11 Border         Border        pKB11.C.23.Rep1.R1.C11\n",
       "5 Pos.R1.C11 Border         Border        pKB11.C.2.Rep2.R1.C11 \n",
       "6 Pos.R1.C11 Border         Border        pKB11.C.9.Rep1.R1.C11 \n",
       "  Diploid_sel2_area Construct_ID Construct Tagging Rep GeneID Species   \n",
       "1 3224              pKB11.C.21   pKB11     C       2   21     H. sapiens\n",
       "2 3013              pKB11.C.7    pKB11     C       1    7     S.mikatae \n",
       "3 2859              pKB11.C.22   pKB11     C       2   22     H. sapiens\n",
       "4 2975              pKB11.C.23   pKB11     C       1   23     H. sapiens\n",
       "5 3154              pKB11.C.2    pKB11     C       2    2     K.africana\n",
       "6 3001              pKB11.C.9    pKB11     C       1    9     Z.rouxii  \n",
       "  Gene         Species_position    Pos row column auc    \n",
       "1 CSNK1E       H. sapiens(CSNK1E)      1   10     76204.0\n",
       "2 Smik_6.409   T.blattae(A)        A   1   11     79597.5\n",
       "3 CSNK1A1      H. sapiens(CSNK1A1)     1   11     64398.5\n",
       "4 CSNK1D       H. sapiens(CSNK1D)      1   11     71993.0\n",
       "5 KAFR0K00320  Z.rouxii(Anc)       A   1   11     72615.5\n",
       "6 ZYRO0G08866g N.dairenensis(B)    Anc 1   11     74252.0"
      ]
     },
     "metadata": {},
     "output_type": "display_data"
    }
   ],
   "source": [
    "MTX_data <- (merge(miniarray_pos_table,MTX_data, by = 'position'))\n",
    "head(MTX_data)"
   ]
  },
  {
   "cell_type": "code",
   "execution_count": 17,
   "id": "1e630f85-a085-4d61-a2b3-619e82af4acb",
   "metadata": {},
   "outputs": [
    {
     "data": {
      "text/html": [
       "<table class=\"dataframe\">\n",
       "<caption>A data.frame: 6 × 2</caption>\n",
       "<thead>\n",
       "\t<tr><th></th><th scope=col>Miniarray.Gene</th><th scope=col>Protein.Removed</th></tr>\n",
       "\t<tr><th></th><th scope=col>&lt;chr&gt;</th><th scope=col>&lt;int&gt;</th></tr>\n",
       "</thead>\n",
       "<tbody>\n",
       "\t<tr><th scope=row>1</th><td>YEL063C</td><td>1</td></tr>\n",
       "\t<tr><th scope=row>2</th><td>YER026C</td><td>1</td></tr>\n",
       "\t<tr><th scope=row>3</th><td>YHR146W</td><td>1</td></tr>\n",
       "\t<tr><th scope=row>4</th><td>YKR039W</td><td>1</td></tr>\n",
       "\t<tr><th scope=row>5</th><td>YDR508C</td><td>1</td></tr>\n",
       "\t<tr><th scope=row>6</th><td>YML123C</td><td>1</td></tr>\n",
       "</tbody>\n",
       "</table>\n"
      ],
      "text/latex": [
       "A data.frame: 6 × 2\n",
       "\\begin{tabular}{r|ll}\n",
       "  & Miniarray.Gene & Protein.Removed\\\\\n",
       "  & <chr> & <int>\\\\\n",
       "\\hline\n",
       "\t1 & YEL063C & 1\\\\\n",
       "\t2 & YER026C & 1\\\\\n",
       "\t3 & YHR146W & 1\\\\\n",
       "\t4 & YKR039W & 1\\\\\n",
       "\t5 & YDR508C & 1\\\\\n",
       "\t6 & YML123C & 1\\\\\n",
       "\\end{tabular}\n"
      ],
      "text/markdown": [
       "\n",
       "A data.frame: 6 × 2\n",
       "\n",
       "| <!--/--> | Miniarray.Gene &lt;chr&gt; | Protein.Removed &lt;int&gt; |\n",
       "|---|---|---|\n",
       "| 1 | YEL063C | 1 |\n",
       "| 2 | YER026C | 1 |\n",
       "| 3 | YHR146W | 1 |\n",
       "| 4 | YKR039W | 1 |\n",
       "| 5 | YDR508C | 1 |\n",
       "| 6 | YML123C | 1 |\n",
       "\n"
      ],
      "text/plain": [
       "  Miniarray.Gene Protein.Removed\n",
       "1 YEL063C        1              \n",
       "2 YER026C        1              \n",
       "3 YHR146W        1              \n",
       "4 YKR039W        1              \n",
       "5 YDR508C        1              \n",
       "6 YML123C        1              "
      ]
     },
     "metadata": {},
     "output_type": "display_data"
    },
    {
     "data": {
      "text/html": [
       "<table class=\"dataframe\">\n",
       "<caption>A data.frame: 6 × 18</caption>\n",
       "<thead>\n",
       "\t<tr><th></th><th scope=col>position</th><th scope=col>Miniarray.Gene</th><th scope=col>Miniarray.ORF</th><th scope=col>UniqueID</th><th scope=col>Diploid_sel2_area</th><th scope=col>Construct_ID</th><th scope=col>Construct</th><th scope=col>Tagging</th><th scope=col>Rep</th><th scope=col>GeneID</th><th scope=col>Species</th><th scope=col>Gene</th><th scope=col>Species_position</th><th scope=col>Pos</th><th scope=col>row</th><th scope=col>column</th><th scope=col>auc</th><th scope=col>Protein.Removed</th></tr>\n",
       "\t<tr><th></th><th scope=col>&lt;chr&gt;</th><th scope=col>&lt;chr&gt;</th><th scope=col>&lt;chr&gt;</th><th scope=col>&lt;chr&gt;</th><th scope=col>&lt;int&gt;</th><th scope=col>&lt;chr&gt;</th><th scope=col>&lt;chr&gt;</th><th scope=col>&lt;chr&gt;</th><th scope=col>&lt;int&gt;</th><th scope=col>&lt;int&gt;</th><th scope=col>&lt;chr&gt;</th><th scope=col>&lt;chr&gt;</th><th scope=col>&lt;chr&gt;</th><th scope=col>&lt;chr&gt;</th><th scope=col>&lt;int&gt;</th><th scope=col>&lt;int&gt;</th><th scope=col>&lt;dbl&gt;</th><th scope=col>&lt;int&gt;</th></tr>\n",
       "</thead>\n",
       "<tbody>\n",
       "\t<tr><th scope=row>1</th><td>Pos.R1.C10</td><td>Border</td><td>Border</td><td>pKB11.C.21.Rep2.R1.C10</td><td>3224</td><td>pKB11.C.21</td><td>pKB11</td><td>C</td><td>2</td><td>21</td><td>H. sapiens</td><td>CSNK1E      </td><td>H. sapiens(CSNK1E) </td><td>   </td><td>1</td><td>10</td><td>76204.0</td><td>NA</td></tr>\n",
       "\t<tr><th scope=row>2</th><td>Pos.R1.C11</td><td>Border</td><td>Border</td><td>pKB11.C.7.Rep1.R1.C11 </td><td>3013</td><td>pKB11.C.7 </td><td>pKB11</td><td>C</td><td>1</td><td> 7</td><td>S.mikatae </td><td>Smik_6.409  </td><td>T.blattae(A)       </td><td>A  </td><td>1</td><td>11</td><td>79597.5</td><td>NA</td></tr>\n",
       "\t<tr><th scope=row>3</th><td>Pos.R1.C11</td><td>Border</td><td>Border</td><td>pKB11.C.22.Rep2.R1.C11</td><td>2859</td><td>pKB11.C.22</td><td>pKB11</td><td>C</td><td>2</td><td>22</td><td>H. sapiens</td><td>CSNK1A1     </td><td>H. sapiens(CSNK1A1)</td><td>   </td><td>1</td><td>11</td><td>64398.5</td><td>NA</td></tr>\n",
       "\t<tr><th scope=row>4</th><td>Pos.R1.C11</td><td>Border</td><td>Border</td><td>pKB11.C.23.Rep1.R1.C11</td><td>2975</td><td>pKB11.C.23</td><td>pKB11</td><td>C</td><td>1</td><td>23</td><td>H. sapiens</td><td>CSNK1D      </td><td>H. sapiens(CSNK1D) </td><td>   </td><td>1</td><td>11</td><td>71993.0</td><td>NA</td></tr>\n",
       "\t<tr><th scope=row>5</th><td>Pos.R1.C11</td><td>Border</td><td>Border</td><td>pKB11.C.2.Rep2.R1.C11 </td><td>3154</td><td>pKB11.C.2 </td><td>pKB11</td><td>C</td><td>2</td><td> 2</td><td>K.africana</td><td>KAFR0K00320 </td><td>Z.rouxii(Anc)      </td><td>A  </td><td>1</td><td>11</td><td>72615.5</td><td>NA</td></tr>\n",
       "\t<tr><th scope=row>6</th><td>Pos.R1.C11</td><td>Border</td><td>Border</td><td>pKB11.C.9.Rep1.R1.C11 </td><td>3001</td><td>pKB11.C.9 </td><td>pKB11</td><td>C</td><td>1</td><td> 9</td><td>Z.rouxii  </td><td>ZYRO0G08866g</td><td>N.dairenensis(B)   </td><td>Anc</td><td>1</td><td>11</td><td>74252.0</td><td>NA</td></tr>\n",
       "</tbody>\n",
       "</table>\n"
      ],
      "text/latex": [
       "A data.frame: 6 × 18\n",
       "\\begin{tabular}{r|llllllllllllllllll}\n",
       "  & position & Miniarray.Gene & Miniarray.ORF & UniqueID & Diploid\\_sel2\\_area & Construct\\_ID & Construct & Tagging & Rep & GeneID & Species & Gene & Species\\_position & Pos & row & column & auc & Protein.Removed\\\\\n",
       "  & <chr> & <chr> & <chr> & <chr> & <int> & <chr> & <chr> & <chr> & <int> & <int> & <chr> & <chr> & <chr> & <chr> & <int> & <int> & <dbl> & <int>\\\\\n",
       "\\hline\n",
       "\t1 & Pos.R1.C10 & Border & Border & pKB11.C.21.Rep2.R1.C10 & 3224 & pKB11.C.21 & pKB11 & C & 2 & 21 & H. sapiens & CSNK1E       & H. sapiens(CSNK1E)  &     & 1 & 10 & 76204.0 & NA\\\\\n",
       "\t2 & Pos.R1.C11 & Border & Border & pKB11.C.7.Rep1.R1.C11  & 3013 & pKB11.C.7  & pKB11 & C & 1 &  7 & S.mikatae  & Smik\\_6.409   & T.blattae(A)        & A   & 1 & 11 & 79597.5 & NA\\\\\n",
       "\t3 & Pos.R1.C11 & Border & Border & pKB11.C.22.Rep2.R1.C11 & 2859 & pKB11.C.22 & pKB11 & C & 2 & 22 & H. sapiens & CSNK1A1      & H. sapiens(CSNK1A1) &     & 1 & 11 & 64398.5 & NA\\\\\n",
       "\t4 & Pos.R1.C11 & Border & Border & pKB11.C.23.Rep1.R1.C11 & 2975 & pKB11.C.23 & pKB11 & C & 1 & 23 & H. sapiens & CSNK1D       & H. sapiens(CSNK1D)  &     & 1 & 11 & 71993.0 & NA\\\\\n",
       "\t5 & Pos.R1.C11 & Border & Border & pKB11.C.2.Rep2.R1.C11  & 3154 & pKB11.C.2  & pKB11 & C & 2 &  2 & K.africana & KAFR0K00320  & Z.rouxii(Anc)       & A   & 1 & 11 & 72615.5 & NA\\\\\n",
       "\t6 & Pos.R1.C11 & Border & Border & pKB11.C.9.Rep1.R1.C11  & 3001 & pKB11.C.9  & pKB11 & C & 1 &  9 & Z.rouxii   & ZYRO0G08866g & N.dairenensis(B)    & Anc & 1 & 11 & 74252.0 & NA\\\\\n",
       "\\end{tabular}\n"
      ],
      "text/markdown": [
       "\n",
       "A data.frame: 6 × 18\n",
       "\n",
       "| <!--/--> | position &lt;chr&gt; | Miniarray.Gene &lt;chr&gt; | Miniarray.ORF &lt;chr&gt; | UniqueID &lt;chr&gt; | Diploid_sel2_area &lt;int&gt; | Construct_ID &lt;chr&gt; | Construct &lt;chr&gt; | Tagging &lt;chr&gt; | Rep &lt;int&gt; | GeneID &lt;int&gt; | Species &lt;chr&gt; | Gene &lt;chr&gt; | Species_position &lt;chr&gt; | Pos &lt;chr&gt; | row &lt;int&gt; | column &lt;int&gt; | auc &lt;dbl&gt; | Protein.Removed &lt;int&gt; |\n",
       "|---|---|---|---|---|---|---|---|---|---|---|---|---|---|---|---|---|---|---|\n",
       "| 1 | Pos.R1.C10 | Border | Border | pKB11.C.21.Rep2.R1.C10 | 3224 | pKB11.C.21 | pKB11 | C | 2 | 21 | H. sapiens | CSNK1E       | H. sapiens(CSNK1E)  | <!----> | 1 | 10 | 76204.0 | NA |\n",
       "| 2 | Pos.R1.C11 | Border | Border | pKB11.C.7.Rep1.R1.C11  | 3013 | pKB11.C.7  | pKB11 | C | 1 |  7 | S.mikatae  | Smik_6.409   | T.blattae(A)        | A   | 1 | 11 | 79597.5 | NA |\n",
       "| 3 | Pos.R1.C11 | Border | Border | pKB11.C.22.Rep2.R1.C11 | 2859 | pKB11.C.22 | pKB11 | C | 2 | 22 | H. sapiens | CSNK1A1      | H. sapiens(CSNK1A1) | <!----> | 1 | 11 | 64398.5 | NA |\n",
       "| 4 | Pos.R1.C11 | Border | Border | pKB11.C.23.Rep1.R1.C11 | 2975 | pKB11.C.23 | pKB11 | C | 1 | 23 | H. sapiens | CSNK1D       | H. sapiens(CSNK1D)  | <!----> | 1 | 11 | 71993.0 | NA |\n",
       "| 5 | Pos.R1.C11 | Border | Border | pKB11.C.2.Rep2.R1.C11  | 3154 | pKB11.C.2  | pKB11 | C | 2 |  2 | K.africana | KAFR0K00320  | Z.rouxii(Anc)       | A   | 1 | 11 | 72615.5 | NA |\n",
       "| 6 | Pos.R1.C11 | Border | Border | pKB11.C.9.Rep1.R1.C11  | 3001 | pKB11.C.9  | pKB11 | C | 1 |  9 | Z.rouxii   | ZYRO0G08866g | N.dairenensis(B)    | Anc | 1 | 11 | 74252.0 | NA |\n",
       "\n"
      ],
      "text/plain": [
       "  position   Miniarray.Gene Miniarray.ORF UniqueID              \n",
       "1 Pos.R1.C10 Border         Border        pKB11.C.21.Rep2.R1.C10\n",
       "2 Pos.R1.C11 Border         Border        pKB11.C.7.Rep1.R1.C11 \n",
       "3 Pos.R1.C11 Border         Border        pKB11.C.22.Rep2.R1.C11\n",
       "4 Pos.R1.C11 Border         Border        pKB11.C.23.Rep1.R1.C11\n",
       "5 Pos.R1.C11 Border         Border        pKB11.C.2.Rep2.R1.C11 \n",
       "6 Pos.R1.C11 Border         Border        pKB11.C.9.Rep1.R1.C11 \n",
       "  Diploid_sel2_area Construct_ID Construct Tagging Rep GeneID Species   \n",
       "1 3224              pKB11.C.21   pKB11     C       2   21     H. sapiens\n",
       "2 3013              pKB11.C.7    pKB11     C       1    7     S.mikatae \n",
       "3 2859              pKB11.C.22   pKB11     C       2   22     H. sapiens\n",
       "4 2975              pKB11.C.23   pKB11     C       1   23     H. sapiens\n",
       "5 3154              pKB11.C.2    pKB11     C       2    2     K.africana\n",
       "6 3001              pKB11.C.9    pKB11     C       1    9     Z.rouxii  \n",
       "  Gene         Species_position    Pos row column auc     Protein.Removed\n",
       "1 CSNK1E       H. sapiens(CSNK1E)      1   10     76204.0 NA             \n",
       "2 Smik_6.409   T.blattae(A)        A   1   11     79597.5 NA             \n",
       "3 CSNK1A1      H. sapiens(CSNK1A1)     1   11     64398.5 NA             \n",
       "4 CSNK1D       H. sapiens(CSNK1D)      1   11     71993.0 NA             \n",
       "5 KAFR0K00320  Z.rouxii(Anc)       A   1   11     72615.5 NA             \n",
       "6 ZYRO0G08866g N.dairenensis(B)    Anc 1   11     74252.0 NA             "
      ]
     },
     "metadata": {},
     "output_type": "display_data"
    }
   ],
   "source": [
    "removed_proteins = read.csv(\"Prot_removed.csv\")\n",
    "head(removed_proteins)\n",
    "MTX_data2 <-left_join(MTX_data,removed_proteins, by = 'Miniarray.Gene') \n",
    "\n",
    "head(MTX_data2)"
   ]
  },
  {
   "cell_type": "code",
   "execution_count": 18,
   "id": "6ab2bb6a-967e-40f2-a8c7-cd96b37321a6",
   "metadata": {},
   "outputs": [],
   "source": [
    "data =  select(MTX_data2, Construct,Tagging,Rep,GeneID,Species,Gene,Pos,Species_position,Miniarray.Gene,Miniarray.ORF,Protein.Removed,Diploid_sel2_area,auc)"
   ]
  },
  {
   "cell_type": "code",
   "execution_count": 19,
   "id": "d6781882-a4ff-45a9-bda6-db87ec5a0922",
   "metadata": {},
   "outputs": [],
   "source": [
    "data$Protein.Removed[is.na(data$Protein.Removed)] <- 0"
   ]
  },
  {
   "cell_type": "code",
   "execution_count": 20,
   "id": "225afbd5-74ca-4aa1-8cb0-52e219f0b632",
   "metadata": {},
   "outputs": [
    {
     "data": {
      "text/html": [
       "<table class=\"dataframe\">\n",
       "<caption>A data.frame: 6 × 13</caption>\n",
       "<thead>\n",
       "\t<tr><th></th><th scope=col>Construct</th><th scope=col>Tagging</th><th scope=col>Rep</th><th scope=col>GeneID</th><th scope=col>Species</th><th scope=col>Gene</th><th scope=col>Pos</th><th scope=col>Species_position</th><th scope=col>Miniarray.Gene</th><th scope=col>Miniarray.ORF</th><th scope=col>Protein.Removed</th><th scope=col>Diploid_sel2_area</th><th scope=col>auc</th></tr>\n",
       "\t<tr><th></th><th scope=col>&lt;chr&gt;</th><th scope=col>&lt;chr&gt;</th><th scope=col>&lt;int&gt;</th><th scope=col>&lt;int&gt;</th><th scope=col>&lt;chr&gt;</th><th scope=col>&lt;chr&gt;</th><th scope=col>&lt;chr&gt;</th><th scope=col>&lt;chr&gt;</th><th scope=col>&lt;chr&gt;</th><th scope=col>&lt;chr&gt;</th><th scope=col>&lt;dbl&gt;</th><th scope=col>&lt;int&gt;</th><th scope=col>&lt;dbl&gt;</th></tr>\n",
       "</thead>\n",
       "<tbody>\n",
       "\t<tr><th scope=row>1</th><td>pKB11</td><td>C</td><td>2</td><td>21</td><td>H. sapiens</td><td>CSNK1E      </td><td>   </td><td>H. sapiens(CSNK1E) </td><td>Border</td><td>Border</td><td>0</td><td>3224</td><td>76204.0</td></tr>\n",
       "\t<tr><th scope=row>2</th><td>pKB11</td><td>C</td><td>1</td><td> 7</td><td>S.mikatae </td><td>Smik_6.409  </td><td>A  </td><td>T.blattae(A)       </td><td>Border</td><td>Border</td><td>0</td><td>3013</td><td>79597.5</td></tr>\n",
       "\t<tr><th scope=row>3</th><td>pKB11</td><td>C</td><td>2</td><td>22</td><td>H. sapiens</td><td>CSNK1A1     </td><td>   </td><td>H. sapiens(CSNK1A1)</td><td>Border</td><td>Border</td><td>0</td><td>2859</td><td>64398.5</td></tr>\n",
       "\t<tr><th scope=row>4</th><td>pKB11</td><td>C</td><td>1</td><td>23</td><td>H. sapiens</td><td>CSNK1D      </td><td>   </td><td>H. sapiens(CSNK1D) </td><td>Border</td><td>Border</td><td>0</td><td>2975</td><td>71993.0</td></tr>\n",
       "\t<tr><th scope=row>5</th><td>pKB11</td><td>C</td><td>2</td><td> 2</td><td>K.africana</td><td>KAFR0K00320 </td><td>A  </td><td>Z.rouxii(Anc)      </td><td>Border</td><td>Border</td><td>0</td><td>3154</td><td>72615.5</td></tr>\n",
       "\t<tr><th scope=row>6</th><td>pKB11</td><td>C</td><td>1</td><td> 9</td><td>Z.rouxii  </td><td>ZYRO0G08866g</td><td>Anc</td><td>N.dairenensis(B)   </td><td>Border</td><td>Border</td><td>0</td><td>3001</td><td>74252.0</td></tr>\n",
       "</tbody>\n",
       "</table>\n"
      ],
      "text/latex": [
       "A data.frame: 6 × 13\n",
       "\\begin{tabular}{r|lllllllllllll}\n",
       "  & Construct & Tagging & Rep & GeneID & Species & Gene & Pos & Species\\_position & Miniarray.Gene & Miniarray.ORF & Protein.Removed & Diploid\\_sel2\\_area & auc\\\\\n",
       "  & <chr> & <chr> & <int> & <int> & <chr> & <chr> & <chr> & <chr> & <chr> & <chr> & <dbl> & <int> & <dbl>\\\\\n",
       "\\hline\n",
       "\t1 & pKB11 & C & 2 & 21 & H. sapiens & CSNK1E       &     & H. sapiens(CSNK1E)  & Border & Border & 0 & 3224 & 76204.0\\\\\n",
       "\t2 & pKB11 & C & 1 &  7 & S.mikatae  & Smik\\_6.409   & A   & T.blattae(A)        & Border & Border & 0 & 3013 & 79597.5\\\\\n",
       "\t3 & pKB11 & C & 2 & 22 & H. sapiens & CSNK1A1      &     & H. sapiens(CSNK1A1) & Border & Border & 0 & 2859 & 64398.5\\\\\n",
       "\t4 & pKB11 & C & 1 & 23 & H. sapiens & CSNK1D       &     & H. sapiens(CSNK1D)  & Border & Border & 0 & 2975 & 71993.0\\\\\n",
       "\t5 & pKB11 & C & 2 &  2 & K.africana & KAFR0K00320  & A   & Z.rouxii(Anc)       & Border & Border & 0 & 3154 & 72615.5\\\\\n",
       "\t6 & pKB11 & C & 1 &  9 & Z.rouxii   & ZYRO0G08866g & Anc & N.dairenensis(B)    & Border & Border & 0 & 3001 & 74252.0\\\\\n",
       "\\end{tabular}\n"
      ],
      "text/markdown": [
       "\n",
       "A data.frame: 6 × 13\n",
       "\n",
       "| <!--/--> | Construct &lt;chr&gt; | Tagging &lt;chr&gt; | Rep &lt;int&gt; | GeneID &lt;int&gt; | Species &lt;chr&gt; | Gene &lt;chr&gt; | Pos &lt;chr&gt; | Species_position &lt;chr&gt; | Miniarray.Gene &lt;chr&gt; | Miniarray.ORF &lt;chr&gt; | Protein.Removed &lt;dbl&gt; | Diploid_sel2_area &lt;int&gt; | auc &lt;dbl&gt; |\n",
       "|---|---|---|---|---|---|---|---|---|---|---|---|---|---|\n",
       "| 1 | pKB11 | C | 2 | 21 | H. sapiens | CSNK1E       | <!----> | H. sapiens(CSNK1E)  | Border | Border | 0 | 3224 | 76204.0 |\n",
       "| 2 | pKB11 | C | 1 |  7 | S.mikatae  | Smik_6.409   | A   | T.blattae(A)        | Border | Border | 0 | 3013 | 79597.5 |\n",
       "| 3 | pKB11 | C | 2 | 22 | H. sapiens | CSNK1A1      | <!----> | H. sapiens(CSNK1A1) | Border | Border | 0 | 2859 | 64398.5 |\n",
       "| 4 | pKB11 | C | 1 | 23 | H. sapiens | CSNK1D       | <!----> | H. sapiens(CSNK1D)  | Border | Border | 0 | 2975 | 71993.0 |\n",
       "| 5 | pKB11 | C | 2 |  2 | K.africana | KAFR0K00320  | A   | Z.rouxii(Anc)       | Border | Border | 0 | 3154 | 72615.5 |\n",
       "| 6 | pKB11 | C | 1 |  9 | Z.rouxii   | ZYRO0G08866g | Anc | N.dairenensis(B)    | Border | Border | 0 | 3001 | 74252.0 |\n",
       "\n"
      ],
      "text/plain": [
       "  Construct Tagging Rep GeneID Species    Gene         Pos Species_position   \n",
       "1 pKB11     C       2   21     H. sapiens CSNK1E           H. sapiens(CSNK1E) \n",
       "2 pKB11     C       1    7     S.mikatae  Smik_6.409   A   T.blattae(A)       \n",
       "3 pKB11     C       2   22     H. sapiens CSNK1A1          H. sapiens(CSNK1A1)\n",
       "4 pKB11     C       1   23     H. sapiens CSNK1D           H. sapiens(CSNK1D) \n",
       "5 pKB11     C       2    2     K.africana KAFR0K00320  A   Z.rouxii(Anc)      \n",
       "6 pKB11     C       1    9     Z.rouxii   ZYRO0G08866g Anc N.dairenensis(B)   \n",
       "  Miniarray.Gene Miniarray.ORF Protein.Removed Diploid_sel2_area auc    \n",
       "1 Border         Border        0               3224              76204.0\n",
       "2 Border         Border        0               3013              79597.5\n",
       "3 Border         Border        0               2859              64398.5\n",
       "4 Border         Border        0               2975              71993.0\n",
       "5 Border         Border        0               3154              72615.5\n",
       "6 Border         Border        0               3001              74252.0"
      ]
     },
     "metadata": {},
     "output_type": "display_data"
    }
   ],
   "source": [
    "head(data)"
   ]
  },
  {
   "cell_type": "code",
   "execution_count": 21,
   "id": "bf3cd94f-1e3c-4d7c-aad3-67e9a9541a93",
   "metadata": {},
   "outputs": [],
   "source": [
    "write.csv(data,\"HRR25_orthologs_PPI_screening_parsed_2022-02-17DEY.csv\")"
   ]
  },
  {
   "cell_type": "code",
   "execution_count": null,
   "id": "b1503f40-166a-486d-9625-6099dd5118d2",
   "metadata": {},
   "outputs": [],
   "source": []
  },
  {
   "cell_type": "code",
   "execution_count": null,
   "id": "89f27158-ac4c-479b-9548-e12e4b688520",
   "metadata": {},
   "outputs": [],
   "source": []
  }
 ],
 "metadata": {
  "kernelspec": {
   "display_name": "R",
   "language": "R",
   "name": "ir"
  },
  "language_info": {
   "codemirror_mode": "r",
   "file_extension": ".r",
   "mimetype": "text/x-r-source",
   "name": "R",
   "pygments_lexer": "r",
   "version": "4.2.2"
  }
 },
 "nbformat": 4,
 "nbformat_minor": 5
}
