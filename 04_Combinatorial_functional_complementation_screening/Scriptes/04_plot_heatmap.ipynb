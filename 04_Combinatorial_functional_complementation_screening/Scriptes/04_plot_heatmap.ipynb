{
 "cells": [
  {
   "cell_type": "code",
   "execution_count": 6,
   "id": "7b7470b3-6911-47af-81cf-324f345145f4",
   "metadata": {},
   "outputs": [],
   "source": [
    "library(reshape2)\n",
    "library(ggplot2)\n",
    "library(ggridges)\n",
    "library(plyr)\n",
    "library(dplyr)\n",
    "library(Cairo)\n",
    "library(matrixStats)\n",
    "library(forcats)\n",
    "library(hardhat)\n",
    "library(grid)\n",
    "library(gridExtra)\n",
    "library(egg)\n",
    "library(stringr)\n",
    "library(cowplot)\n",
    "GeomCrossbar$default_aes$lineend = 'butt'"
   ]
  },
  {
   "cell_type": "code",
   "execution_count": 7,
   "id": "ee7cb8ac-04ad-4e2c-9f5d-a17328dcadbf",
   "metadata": {},
   "outputs": [],
   "source": [
    "data = read.csv(\"./Output/HRR25_orthologs_dox_screening_parsed_agg_2023-08-30DEY.csv\")"
   ]
  },
  {
   "cell_type": "code",
   "execution_count": 8,
   "id": "b1d229e3-8682-4abf-b4bc-0efcf5e41b09",
   "metadata": {},
   "outputs": [
    {
     "data": {
      "text/html": [
       "<table class=\"dataframe\">\n",
       "<caption>A data.frame: 6 × 5</caption>\n",
       "<thead>\n",
       "\t<tr><th></th><th scope=col>ArrayGene</th><th scope=col>QueryGene</th><th scope=col>mean</th><th scope=col>n</th><th scope=col>SD</th></tr>\n",
       "\t<tr><th></th><th scope=col>&lt;chr&gt;</th><th scope=col>&lt;chr&gt;</th><th scope=col>&lt;dbl&gt;</th><th scope=col>&lt;int&gt;</th><th scope=col>&lt;dbl&gt;</th></tr>\n",
       "</thead>\n",
       "<tbody>\n",
       "\t<tr><th scope=row>1</th><td>C.glabrata (CAGL0H03553g)</td><td>C.glabrata (CAGL0H03553g)</td><td>0.8241210</td><td>11</td><td>0.02914449</td></tr>\n",
       "\t<tr><th scope=row>2</th><td>C.glabrata (CAGL0H03553g)</td><td>H. sapiens (CSNK1A1)     </td><td>0.8674966</td><td>11</td><td>0.03314069</td></tr>\n",
       "\t<tr><th scope=row>3</th><td>C.glabrata (CAGL0H03553g)</td><td>H. sapiens (CSNK1A1L)    </td><td>0.8940396</td><td>11</td><td>0.04402071</td></tr>\n",
       "\t<tr><th scope=row>4</th><td>C.glabrata (CAGL0H03553g)</td><td>H. sapiens (CSNK1D)      </td><td>0.9085575</td><td>11</td><td>0.05183176</td></tr>\n",
       "\t<tr><th scope=row>5</th><td>C.glabrata (CAGL0H03553g)</td><td>H. sapiens (CSNK1E)      </td><td>0.8844831</td><td>11</td><td>0.03641463</td></tr>\n",
       "\t<tr><th scope=row>6</th><td>C.glabrata (CAGL0H03553g)</td><td>K.africana (KAFR0C02290) </td><td>0.9081177</td><td>11</td><td>0.02777594</td></tr>\n",
       "</tbody>\n",
       "</table>\n"
      ],
      "text/latex": [
       "A data.frame: 6 × 5\n",
       "\\begin{tabular}{r|lllll}\n",
       "  & ArrayGene & QueryGene & mean & n & SD\\\\\n",
       "  & <chr> & <chr> & <dbl> & <int> & <dbl>\\\\\n",
       "\\hline\n",
       "\t1 & C.glabrata (CAGL0H03553g) & C.glabrata (CAGL0H03553g) & 0.8241210 & 11 & 0.02914449\\\\\n",
       "\t2 & C.glabrata (CAGL0H03553g) & H. sapiens (CSNK1A1)      & 0.8674966 & 11 & 0.03314069\\\\\n",
       "\t3 & C.glabrata (CAGL0H03553g) & H. sapiens (CSNK1A1L)     & 0.8940396 & 11 & 0.04402071\\\\\n",
       "\t4 & C.glabrata (CAGL0H03553g) & H. sapiens (CSNK1D)       & 0.9085575 & 11 & 0.05183176\\\\\n",
       "\t5 & C.glabrata (CAGL0H03553g) & H. sapiens (CSNK1E)       & 0.8844831 & 11 & 0.03641463\\\\\n",
       "\t6 & C.glabrata (CAGL0H03553g) & K.africana (KAFR0C02290)  & 0.9081177 & 11 & 0.02777594\\\\\n",
       "\\end{tabular}\n"
      ],
      "text/markdown": [
       "\n",
       "A data.frame: 6 × 5\n",
       "\n",
       "| <!--/--> | ArrayGene &lt;chr&gt; | QueryGene &lt;chr&gt; | mean &lt;dbl&gt; | n &lt;int&gt; | SD &lt;dbl&gt; |\n",
       "|---|---|---|---|---|---|\n",
       "| 1 | C.glabrata (CAGL0H03553g) | C.glabrata (CAGL0H03553g) | 0.8241210 | 11 | 0.02914449 |\n",
       "| 2 | C.glabrata (CAGL0H03553g) | H. sapiens (CSNK1A1)      | 0.8674966 | 11 | 0.03314069 |\n",
       "| 3 | C.glabrata (CAGL0H03553g) | H. sapiens (CSNK1A1L)     | 0.8940396 | 11 | 0.04402071 |\n",
       "| 4 | C.glabrata (CAGL0H03553g) | H. sapiens (CSNK1D)       | 0.9085575 | 11 | 0.05183176 |\n",
       "| 5 | C.glabrata (CAGL0H03553g) | H. sapiens (CSNK1E)       | 0.8844831 | 11 | 0.03641463 |\n",
       "| 6 | C.glabrata (CAGL0H03553g) | K.africana (KAFR0C02290)  | 0.9081177 | 11 | 0.02777594 |\n",
       "\n"
      ],
      "text/plain": [
       "  ArrayGene                 QueryGene                 mean      n  SD        \n",
       "1 C.glabrata (CAGL0H03553g) C.glabrata (CAGL0H03553g) 0.8241210 11 0.02914449\n",
       "2 C.glabrata (CAGL0H03553g) H. sapiens (CSNK1A1)      0.8674966 11 0.03314069\n",
       "3 C.glabrata (CAGL0H03553g) H. sapiens (CSNK1A1L)     0.8940396 11 0.04402071\n",
       "4 C.glabrata (CAGL0H03553g) H. sapiens (CSNK1D)       0.9085575 11 0.05183176\n",
       "5 C.glabrata (CAGL0H03553g) H. sapiens (CSNK1E)       0.8844831 11 0.03641463\n",
       "6 C.glabrata (CAGL0H03553g) K.africana (KAFR0C02290)  0.9081177 11 0.02777594"
      ]
     },
     "metadata": {},
     "output_type": "display_data"
    },
    {
     "data": {
      "text/html": [
       "<style>\n",
       ".list-inline {list-style: none; margin:0; padding: 0}\n",
       ".list-inline>li {display: inline-block}\n",
       ".list-inline>li:not(:last-child)::after {content: \"\\00b7\"; padding: 0 .5ex}\n",
       "</style>\n",
       "<ol class=list-inline><li>'C.glabrata (CAGL0H03553g)'</li><li>'H. sapiens (CSNK1A1)'</li><li>'H. sapiens (CSNK1A1L)'</li><li>'H. sapiens (CSNK1D)'</li><li>'H. sapiens (CSNK1E)'</li><li>'K.africana (KAFR0C02290)'</li><li>'K.africana (KAFR0K00320)'</li><li>'K.naganishii (KNAG0D01130)'</li><li>'K.naganishii (KNAG0F01980)'</li><li>'N.castellii (NCAS0A01090)'</li><li>'N.castellii (NCAS0D03820)'</li><li>'N.dairenensis (NDAI0F01640)'</li><li>'N.dairenensis (NDAI0I01070)'</li><li>'S.bayanusvar.uvarum (Suva_16.102)'</li><li>'S.cerevisiae (YPL204W)'</li><li>'S.kudriavzevii (Skud_16.75)'</li><li>'S.mikatae (Smik_6.409)'</li><li>'T.blattae (TBLA0A02040)'</li><li>'T.blattae (TBLA0B05310)'</li><li>'T.delbrueckii (TDEL0E05230)'</li><li>'T.phaffii (TPHA0E02830)'</li><li>'T.phaffii (TPHA0J02370)'</li><li>'V.polyspora (Kpol_1002.53)'</li><li>'V.polyspora (Kpol_1033.51)'</li><li>'Vehicle (Empty)'</li><li>'Z.rouxii (ZYRO0G08866g)'</li></ol>\n"
      ],
      "text/latex": [
       "\\begin{enumerate*}\n",
       "\\item 'C.glabrata (CAGL0H03553g)'\n",
       "\\item 'H. sapiens (CSNK1A1)'\n",
       "\\item 'H. sapiens (CSNK1A1L)'\n",
       "\\item 'H. sapiens (CSNK1D)'\n",
       "\\item 'H. sapiens (CSNK1E)'\n",
       "\\item 'K.africana (KAFR0C02290)'\n",
       "\\item 'K.africana (KAFR0K00320)'\n",
       "\\item 'K.naganishii (KNAG0D01130)'\n",
       "\\item 'K.naganishii (KNAG0F01980)'\n",
       "\\item 'N.castellii (NCAS0A01090)'\n",
       "\\item 'N.castellii (NCAS0D03820)'\n",
       "\\item 'N.dairenensis (NDAI0F01640)'\n",
       "\\item 'N.dairenensis (NDAI0I01070)'\n",
       "\\item 'S.bayanusvar.uvarum (Suva\\_16.102)'\n",
       "\\item 'S.cerevisiae (YPL204W)'\n",
       "\\item 'S.kudriavzevii (Skud\\_16.75)'\n",
       "\\item 'S.mikatae (Smik\\_6.409)'\n",
       "\\item 'T.blattae (TBLA0A02040)'\n",
       "\\item 'T.blattae (TBLA0B05310)'\n",
       "\\item 'T.delbrueckii (TDEL0E05230)'\n",
       "\\item 'T.phaffii (TPHA0E02830)'\n",
       "\\item 'T.phaffii (TPHA0J02370)'\n",
       "\\item 'V.polyspora (Kpol\\_1002.53)'\n",
       "\\item 'V.polyspora (Kpol\\_1033.51)'\n",
       "\\item 'Vehicle (Empty)'\n",
       "\\item 'Z.rouxii (ZYRO0G08866g)'\n",
       "\\end{enumerate*}\n"
      ],
      "text/markdown": [
       "1. 'C.glabrata (CAGL0H03553g)'\n",
       "2. 'H. sapiens (CSNK1A1)'\n",
       "3. 'H. sapiens (CSNK1A1L)'\n",
       "4. 'H. sapiens (CSNK1D)'\n",
       "5. 'H. sapiens (CSNK1E)'\n",
       "6. 'K.africana (KAFR0C02290)'\n",
       "7. 'K.africana (KAFR0K00320)'\n",
       "8. 'K.naganishii (KNAG0D01130)'\n",
       "9. 'K.naganishii (KNAG0F01980)'\n",
       "10. 'N.castellii (NCAS0A01090)'\n",
       "11. 'N.castellii (NCAS0D03820)'\n",
       "12. 'N.dairenensis (NDAI0F01640)'\n",
       "13. 'N.dairenensis (NDAI0I01070)'\n",
       "14. 'S.bayanusvar.uvarum (Suva_16.102)'\n",
       "15. 'S.cerevisiae (YPL204W)'\n",
       "16. 'S.kudriavzevii (Skud_16.75)'\n",
       "17. 'S.mikatae (Smik_6.409)'\n",
       "18. 'T.blattae (TBLA0A02040)'\n",
       "19. 'T.blattae (TBLA0B05310)'\n",
       "20. 'T.delbrueckii (TDEL0E05230)'\n",
       "21. 'T.phaffii (TPHA0E02830)'\n",
       "22. 'T.phaffii (TPHA0J02370)'\n",
       "23. 'V.polyspora (Kpol_1002.53)'\n",
       "24. 'V.polyspora (Kpol_1033.51)'\n",
       "25. 'Vehicle (Empty)'\n",
       "26. 'Z.rouxii (ZYRO0G08866g)'\n",
       "\n",
       "\n"
      ],
      "text/plain": [
       " [1] \"C.glabrata (CAGL0H03553g)\"         \"H. sapiens (CSNK1A1)\"             \n",
       " [3] \"H. sapiens (CSNK1A1L)\"             \"H. sapiens (CSNK1D)\"              \n",
       " [5] \"H. sapiens (CSNK1E)\"               \"K.africana (KAFR0C02290)\"         \n",
       " [7] \"K.africana (KAFR0K00320)\"          \"K.naganishii (KNAG0D01130)\"       \n",
       " [9] \"K.naganishii (KNAG0F01980)\"        \"N.castellii (NCAS0A01090)\"        \n",
       "[11] \"N.castellii (NCAS0D03820)\"         \"N.dairenensis (NDAI0F01640)\"      \n",
       "[13] \"N.dairenensis (NDAI0I01070)\"       \"S.bayanusvar.uvarum (Suva_16.102)\"\n",
       "[15] \"S.cerevisiae (YPL204W)\"            \"S.kudriavzevii (Skud_16.75)\"      \n",
       "[17] \"S.mikatae (Smik_6.409)\"            \"T.blattae (TBLA0A02040)\"          \n",
       "[19] \"T.blattae (TBLA0B05310)\"           \"T.delbrueckii (TDEL0E05230)\"      \n",
       "[21] \"T.phaffii (TPHA0E02830)\"           \"T.phaffii (TPHA0J02370)\"          \n",
       "[23] \"V.polyspora (Kpol_1002.53)\"        \"V.polyspora (Kpol_1033.51)\"       \n",
       "[25] \"Vehicle (Empty)\"                   \"Z.rouxii (ZYRO0G08866g)\"          "
      ]
     },
     "metadata": {},
     "output_type": "display_data"
    }
   ],
   "source": [
    "head(data)"
   ]
  },
  {
   "cell_type": "code",
   "execution_count": 12,
   "id": "aa35f71e-77b5-48e2-8e48-0a69d95cb6c0",
   "metadata": {},
   "outputs": [
    {
     "data": {
      "text/html": [
       "<table class=\"dataframe\">\n",
       "<caption>A data.frame: 6 × 9</caption>\n",
       "<thead>\n",
       "\t<tr><th></th><th scope=col>ArrayGene</th><th scope=col>QueryGene</th><th scope=col>mean</th><th scope=col>n</th><th scope=col>SD</th><th scope=col>Array.MSA_order</th><th scope=col>Array_Phylo_order</th><th scope=col>Query_MSA.order</th><th scope=col>Query_Phylo_order</th></tr>\n",
       "\t<tr><th></th><th scope=col>&lt;chr&gt;</th><th scope=col>&lt;chr&gt;</th><th scope=col>&lt;dbl&gt;</th><th scope=col>&lt;int&gt;</th><th scope=col>&lt;dbl&gt;</th><th scope=col>&lt;int&gt;</th><th scope=col>&lt;int&gt;</th><th scope=col>&lt;int&gt;</th><th scope=col>&lt;int&gt;</th></tr>\n",
       "</thead>\n",
       "<tbody>\n",
       "\t<tr><th scope=row>1</th><td>C.glabrata (CAGL0H03553g)</td><td>C.glabrata (CAGL0H03553g)</td><td>0.8241210</td><td>11</td><td>0.02914449</td><td>7</td><td>5</td><td> 7</td><td> 5</td></tr>\n",
       "\t<tr><th scope=row>2</th><td>C.glabrata (CAGL0H03553g)</td><td>H. sapiens (CSNK1A1)     </td><td>0.8674966</td><td>11</td><td>0.03314069</td><td>7</td><td>5</td><td>22</td><td>23</td></tr>\n",
       "\t<tr><th scope=row>3</th><td>C.glabrata (CAGL0H03553g)</td><td>H. sapiens (CSNK1A1L)    </td><td>0.8940396</td><td>11</td><td>0.04402071</td><td>7</td><td>5</td><td>24</td><td>25</td></tr>\n",
       "\t<tr><th scope=row>4</th><td>C.glabrata (CAGL0H03553g)</td><td>H. sapiens (CSNK1D)      </td><td>0.9085575</td><td>11</td><td>0.05183176</td><td>7</td><td>5</td><td>23</td><td>24</td></tr>\n",
       "\t<tr><th scope=row>5</th><td>C.glabrata (CAGL0H03553g)</td><td>H. sapiens (CSNK1E)      </td><td>0.8844831</td><td>11</td><td>0.03641463</td><td>7</td><td>5</td><td>21</td><td>22</td></tr>\n",
       "\t<tr><th scope=row>6</th><td>C.glabrata (CAGL0H03553g)</td><td>K.africana (KAFR0C02290) </td><td>0.9081177</td><td>11</td><td>0.02777594</td><td>7</td><td>5</td><td>15</td><td>11</td></tr>\n",
       "</tbody>\n",
       "</table>\n"
      ],
      "text/latex": [
       "A data.frame: 6 × 9\n",
       "\\begin{tabular}{r|lllllllll}\n",
       "  & ArrayGene & QueryGene & mean & n & SD & Array.MSA\\_order & Array\\_Phylo\\_order & Query\\_MSA.order & Query\\_Phylo\\_order\\\\\n",
       "  & <chr> & <chr> & <dbl> & <int> & <dbl> & <int> & <int> & <int> & <int>\\\\\n",
       "\\hline\n",
       "\t1 & C.glabrata (CAGL0H03553g) & C.glabrata (CAGL0H03553g) & 0.8241210 & 11 & 0.02914449 & 7 & 5 &  7 &  5\\\\\n",
       "\t2 & C.glabrata (CAGL0H03553g) & H. sapiens (CSNK1A1)      & 0.8674966 & 11 & 0.03314069 & 7 & 5 & 22 & 23\\\\\n",
       "\t3 & C.glabrata (CAGL0H03553g) & H. sapiens (CSNK1A1L)     & 0.8940396 & 11 & 0.04402071 & 7 & 5 & 24 & 25\\\\\n",
       "\t4 & C.glabrata (CAGL0H03553g) & H. sapiens (CSNK1D)       & 0.9085575 & 11 & 0.05183176 & 7 & 5 & 23 & 24\\\\\n",
       "\t5 & C.glabrata (CAGL0H03553g) & H. sapiens (CSNK1E)       & 0.8844831 & 11 & 0.03641463 & 7 & 5 & 21 & 22\\\\\n",
       "\t6 & C.glabrata (CAGL0H03553g) & K.africana (KAFR0C02290)  & 0.9081177 & 11 & 0.02777594 & 7 & 5 & 15 & 11\\\\\n",
       "\\end{tabular}\n"
      ],
      "text/markdown": [
       "\n",
       "A data.frame: 6 × 9\n",
       "\n",
       "| <!--/--> | ArrayGene &lt;chr&gt; | QueryGene &lt;chr&gt; | mean &lt;dbl&gt; | n &lt;int&gt; | SD &lt;dbl&gt; | Array.MSA_order &lt;int&gt; | Array_Phylo_order &lt;int&gt; | Query_MSA.order &lt;int&gt; | Query_Phylo_order &lt;int&gt; |\n",
       "|---|---|---|---|---|---|---|---|---|---|\n",
       "| 1 | C.glabrata (CAGL0H03553g) | C.glabrata (CAGL0H03553g) | 0.8241210 | 11 | 0.02914449 | 7 | 5 |  7 |  5 |\n",
       "| 2 | C.glabrata (CAGL0H03553g) | H. sapiens (CSNK1A1)      | 0.8674966 | 11 | 0.03314069 | 7 | 5 | 22 | 23 |\n",
       "| 3 | C.glabrata (CAGL0H03553g) | H. sapiens (CSNK1A1L)     | 0.8940396 | 11 | 0.04402071 | 7 | 5 | 24 | 25 |\n",
       "| 4 | C.glabrata (CAGL0H03553g) | H. sapiens (CSNK1D)       | 0.9085575 | 11 | 0.05183176 | 7 | 5 | 23 | 24 |\n",
       "| 5 | C.glabrata (CAGL0H03553g) | H. sapiens (CSNK1E)       | 0.8844831 | 11 | 0.03641463 | 7 | 5 | 21 | 22 |\n",
       "| 6 | C.glabrata (CAGL0H03553g) | K.africana (KAFR0C02290)  | 0.9081177 | 11 | 0.02777594 | 7 | 5 | 15 | 11 |\n",
       "\n"
      ],
      "text/plain": [
       "  ArrayGene                 QueryGene                 mean      n  SD        \n",
       "1 C.glabrata (CAGL0H03553g) C.glabrata (CAGL0H03553g) 0.8241210 11 0.02914449\n",
       "2 C.glabrata (CAGL0H03553g) H. sapiens (CSNK1A1)      0.8674966 11 0.03314069\n",
       "3 C.glabrata (CAGL0H03553g) H. sapiens (CSNK1A1L)     0.8940396 11 0.04402071\n",
       "4 C.glabrata (CAGL0H03553g) H. sapiens (CSNK1D)       0.9085575 11 0.05183176\n",
       "5 C.glabrata (CAGL0H03553g) H. sapiens (CSNK1E)       0.8844831 11 0.03641463\n",
       "6 C.glabrata (CAGL0H03553g) K.africana (KAFR0C02290)  0.9081177 11 0.02777594\n",
       "  Array.MSA_order Array_Phylo_order Query_MSA.order Query_Phylo_order\n",
       "1 7               5                  7               5               \n",
       "2 7               5                 22              23               \n",
       "3 7               5                 24              25               \n",
       "4 7               5                 23              24               \n",
       "5 7               5                 21              22               \n",
       "6 7               5                 15              11               "
      ]
     },
     "metadata": {},
     "output_type": "display_data"
    }
   ],
   "source": [
    "orders = read.csv(\"./Input/HRR25_orthologs_order.csv\")\n",
    "\n",
    "data = merge(data,orders,by=c(\"ArrayGene\",\"QueryGene\"))\n",
    "head(data)"
   ]
  },
  {
   "cell_type": "code",
   "execution_count": 25,
   "id": "aecee208-28f9-4bc1-ad5b-f85c0cedac3e",
   "metadata": {},
   "outputs": [
    {
     "data": {
      "text/html": [
       "0.980686980215583"
      ],
      "text/latex": [
       "0.980686980215583"
      ],
      "text/markdown": [
       "0.980686980215583"
      ],
      "text/plain": [
       "[1] 0.980687"
      ]
     },
     "metadata": {},
     "output_type": "display_data"
    },
    {
     "data": {
      "text/html": [
       "0.297549285551453"
      ],
      "text/latex": [
       "0.297549285551453"
      ],
      "text/markdown": [
       "0.297549285551453"
      ],
      "text/plain": [
       "[1] 0.2975493"
      ]
     },
     "metadata": {},
     "output_type": "display_data"
    }
   ],
   "source": [
    "max(data$mean)\n",
    "min(data$mean)\n"
   ]
  },
  {
   "cell_type": "code",
   "execution_count": 13,
   "id": "76c79ddc-1875-445f-ac8b-0e1d354c7d26",
   "metadata": {},
   "outputs": [],
   "source": [
    " dantheme =  theme_bw()  +  \n",
    "          theme( panel.spacing = unit(2, \"lines\"), \n",
    "   legend.title.align = 0.5,\n",
    "                          legend.key = element_blank(),\n",
    "                          strip.background = element_rect(\n",
    "　　　　　　　 color=\"#FFFFFF\",fill=\"#FFFFFF\"),\n",
    "                          panel.border = element_rect(size=1.0),\n",
    "                          panel.grid.minor = element_blank(),\n",
    "                          panel.grid.major = element_blank(),\n",
    "                          panel.background = element_blank(),\n",
    "                          aspect.ratio=1.0,\n",
    "                          axis.ticks = element_blank(),#element_line(color = \"#000000\", size = 0.5),\n",
    "                          axis.text.x = element_text(color=\"#000000\",size=9.5, angle = 90,hjust=0),\n",
    "                          axis.text.x.top = element_text(vjust = 0.5),\n",
    "                          axis.text.y = element_text(color=\"#000000\",size=9.5),\n",
    "                          strip.text.y = element_text(size = 9.5, color = \"#000000\", angle = 270), \n",
    "                          strip.text.x = element_text(size = 9.5, color = \"#000000\", angle = 270),\n",
    "                          axis.title=element_text(size=9.5, color = \"#000000\")\n",
    ")\n",
    "\n"
   ]
  },
  {
   "cell_type": "code",
   "execution_count": 14,
   "id": "0771ef54-ac4b-4c37-b195-007d999b29f2",
   "metadata": {},
   "outputs": [
    {
     "data": {
      "text/html": [
       "<table class=\"dataframe\">\n",
       "<caption>A data.frame: 1 × 9</caption>\n",
       "<thead>\n",
       "\t<tr><th scope=col>ArrayGene</th><th scope=col>QueryGene</th><th scope=col>mean</th><th scope=col>n</th><th scope=col>SD</th><th scope=col>Array.MSA_order</th><th scope=col>Array_Phylo_order</th><th scope=col>Query_MSA.order</th><th scope=col>Query_Phylo_order</th></tr>\n",
       "\t<tr><th scope=col>&lt;chr&gt;</th><th scope=col>&lt;chr&gt;</th><th scope=col>&lt;dbl&gt;</th><th scope=col>&lt;int&gt;</th><th scope=col>&lt;dbl&gt;</th><th scope=col>&lt;int&gt;</th><th scope=col>&lt;int&gt;</th><th scope=col>&lt;int&gt;</th><th scope=col>&lt;int&gt;</th></tr>\n",
       "</thead>\n",
       "<tbody>\n",
       "\t<tr><td>Vehicle (Empty)</td><td>Vehicle (Empty)</td><td>0.3921669</td><td>308</td><td>0.04838432</td><td>26</td><td>26</td><td>26</td><td>26</td></tr>\n",
       "</tbody>\n",
       "</table>\n"
      ],
      "text/latex": [
       "A data.frame: 1 × 9\n",
       "\\begin{tabular}{lllllllll}\n",
       " ArrayGene & QueryGene & mean & n & SD & Array.MSA\\_order & Array\\_Phylo\\_order & Query\\_MSA.order & Query\\_Phylo\\_order\\\\\n",
       " <chr> & <chr> & <dbl> & <int> & <dbl> & <int> & <int> & <int> & <int>\\\\\n",
       "\\hline\n",
       "\t Vehicle (Empty) & Vehicle (Empty) & 0.3921669 & 308 & 0.04838432 & 26 & 26 & 26 & 26\\\\\n",
       "\\end{tabular}\n"
      ],
      "text/markdown": [
       "\n",
       "A data.frame: 1 × 9\n",
       "\n",
       "| ArrayGene &lt;chr&gt; | QueryGene &lt;chr&gt; | mean &lt;dbl&gt; | n &lt;int&gt; | SD &lt;dbl&gt; | Array.MSA_order &lt;int&gt; | Array_Phylo_order &lt;int&gt; | Query_MSA.order &lt;int&gt; | Query_Phylo_order &lt;int&gt; |\n",
       "|---|---|---|---|---|---|---|---|---|\n",
       "| Vehicle (Empty) | Vehicle (Empty) | 0.3921669 | 308 | 0.04838432 | 26 | 26 | 26 | 26 |\n",
       "\n"
      ],
      "text/plain": [
       "  ArrayGene       QueryGene       mean      n   SD         Array.MSA_order\n",
       "1 Vehicle (Empty) Vehicle (Empty) 0.3921669 308 0.04838432 26             \n",
       "  Array_Phylo_order Query_MSA.order Query_Phylo_order\n",
       "1 26                26              26               "
      ]
     },
     "metadata": {},
     "output_type": "display_data"
    }
   ],
   "source": [
    "data %>% filter(ArrayGene\t==\"Vehicle (Empty)\")%>% filter(QueryGene\t==\"Vehicle (Empty)\")\n",
    "\n"
   ]
  },
  {
   "cell_type": "code",
   "execution_count": null,
   "id": "52510a28-788e-4aa7-8762-7b80fc728dfb",
   "metadata": {},
   "outputs": [],
   "source": []
  },
  {
   "cell_type": "code",
   "execution_count": 44,
   "id": "31b37120-0de7-4fe6-b7f5-c28f1370d515",
   "metadata": {},
   "outputs": [
    {
     "data": {
      "image/png": "[encoded data removed]",
      "text/plain": [
       "plot without title"
      ]
     },
     "metadata": {
      "image/png": {
       "height": 420,
       "width": 420
      }
     },
     "output_type": "display_data"
    }
   ],
   "source": [
    "# Plot heatmap of relative abundance of barcodes in each condition\n",
    "heatmap = ggplot(data)+   \n",
    "    geom_tile(aes(Array_Phylo_order,-Query_Phylo_order,fill =mean))  +\n",
    "    theme_bw()   + \n",
    "    theme( panel.spacing = unit(1, \"lines\"),\n",
    "           legend.position='bottom',\n",
    "           legend.key = element_blank(), \n",
    "           strip.background = element_rect(colour=\"#FFFFFF\", color=\"#FFFFFF\",fill=\"#FFFFFF\"),\n",
    "           panel.border = element_rect(fill=NA, colour = \"black\",linewidth=1),\n",
    "           panel.grid.minor = element_blank(),\n",
    "           panel.grid.major = element_blank(),\n",
    "           panel.background = element_blank(),\n",
    "           aspect.ratio=1.0,\n",
    "           axis.ticks = element_blank(),\n",
    "           axis.text.x = element_blank(),\n",
    "           #axis.text.y = element_blank()    ,\n",
    "           axis.title =  element_text(size=9.5)       )+\n",
    "    scale_x_continuous(expand=c(0,0),position = \"top\") + \n",
    "    scale_y_continuous(expand=c(0,0)) +\n",
    "   scale_fill_gradientn(colors=c(\"#FFFFFF\",\"#FFFFFF\",\"#00FFFF\",\"#000080\",\"#000000\"),na.value=\"#FFFFFF\",limits=c(0.245,1.05 ),breaks=c(0.25,0.5,0.75,1))+\n",
    "    xlab(\"HRR25 Orthologs as Array\")+\n",
    "    ylab(\"HRR25 Orthologs as Query\")#+\n",
    "   # facet_wrap(~Construct,nrow=2)\n",
    " dantheme =  theme_bw()  +  \n",
    "          theme( panel.spacing = unit(2, \"lines\"), \n",
    "   legend.title.align = 0.5,\n",
    "                          legend.key = element_blank(),\n",
    "                          strip.background = element_rect(\n",
    "　　　　　　　 color=\"#FFFFFF\",fill=\"#FFFFFF\"),\n",
    "                          panel.border = element_rect(size=1.0),\n",
    "                          panel.grid.minor = element_blank(),\n",
    "                          panel.grid.major = element_blank(),\n",
    "                          panel.background = element_blank(),\n",
    "                          aspect.ratio=1.0,\n",
    "                          axis.ticks = element_blank(),#element_line(color = \"#000000\", size = 0.5),\n",
    "                          axis.text.x = element_text(color=\"#000000\",size=9.5, angle = 90,hjust=0),\n",
    "                          axis.text.x.top = element_text(vjust = 0.5),\n",
    "                          axis.text.y = element_text(color=\"#000000\",size=9.5),\n",
    "                          strip.text.y = element_text(size = 9.5, color = \"#000000\", angle = 270), \n",
    "                          strip.text.x = element_text(size = 9.5, color = \"#000000\", angle = 270),\n",
    "                          axis.title=element_text(size=9.5, color = \"#000000\")\n",
    ")\n",
    "\n",
    "\n",
    "heatmap+dantheme\n",
    "\n",
    "ggsave(plot=heatmap+dantheme,\"./Output/DOX_heatmap_PhyloOrder_Sel3CompScore.pdf\", width=unit(8,\"cm\"),height=unit(8,\"cm\"), device = cairo_pdf)\n"
   ]
  },
  {
   "cell_type": "code",
   "execution_count": null,
   "id": "38f9a049-e160-48d3-95b3-92c1b90a22a7",
   "metadata": {},
   "outputs": [],
   "source": []
  }
 ],
 "metadata": {
  "kernelspec": {
   "display_name": "R",
   "language": "R",
   "name": "ir"
  },
  "language_info": {
   "codemirror_mode": "r",
   "file_extension": ".r",
   "mimetype": "text/x-r-source",
   "name": "R",
   "pygments_lexer": "r",
   "version": "4.2.2"
  }
 },
 "nbformat": 4,
 "nbformat_minor": 5
}
