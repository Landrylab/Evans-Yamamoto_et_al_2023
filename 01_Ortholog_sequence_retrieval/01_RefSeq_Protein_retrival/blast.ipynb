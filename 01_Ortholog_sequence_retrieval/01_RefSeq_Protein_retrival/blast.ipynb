{
 "cells": [
  {
   "cell_type": "code",
   "execution_count": 1,
   "id": "6794a5e0-9537-4f31-9a4b-591d876fc053",
   "metadata": {},
   "outputs": [],
   "source": [
    "import os\n",
    "from pprint import pprint"
   ]
  },
  {
   "cell_type": "code",
   "execution_count": 2,
   "id": "d600a138-c0cf-402f-8347-2b3f13edeca8",
   "metadata": {},
   "outputs": [],
   "source": [
    "def get_f(directory,suffix):\n",
    "    files = []\n",
    "    lis = os.listdir(\"%s\" %directory)\n",
    "    for i in lis:\n",
    "        if i[-(len(suffix)+1):] == \".%s\"%(suffix) :\n",
    "            files.append(i)\n",
    "    return files\n",
    "\n",
    "def LL2csv(LL,name):\n",
    "    with open(name,\"w\") as F:\n",
    "        for L in LL:\n",
    "            F.write(\"%s\\n\" %  (\",\").join( [str(i) for i in L]))\n",
    "    F.close()\n",
    "\n"
   ]
  },
  {
   "cell_type": "code",
   "execution_count": 3,
   "id": "c308a3ae-4824-4d1a-8390-0f35a4d0ddeb",
   "metadata": {},
   "outputs": [
    {
     "name": "stderr",
     "output_type": "stream",
     "text": [
      "mkdir: blast: File exists\n"
     ]
    },
    {
     "data": {
      "text/plain": [
       "256"
      ]
     },
     "execution_count": 3,
     "metadata": {},
     "output_type": "execute_result"
    }
   ],
   "source": [
    "os.system(\"mkdir blast\")"
   ]
  },
  {
   "cell_type": "code",
   "execution_count": 4,
   "id": "637f8848-a038-4fca-a9a5-983cd7a7e8ba",
   "metadata": {},
   "outputs": [],
   "source": [
    "c = 0\n",
    "l = []\n",
    "with open(\"NCBI_download_summary.csv\",\"r\") as F:\n",
    "    for line in F:\n",
    "        cols = line.split(\"\\n\")[0].split(\",\")\n",
    "        #print(cols)\n",
    "        if c == 0:\n",
    "            pass\n",
    "        else:\n",
    "            genus     = cols[0]\n",
    "            species   = cols[1]\n",
    "            taxonid   = cols[2]\n",
    "            genome    = cols[3]\n",
    "            genome_f  = cols[4]\n",
    "            protein   = cols[5]\n",
    "            protein_f = cols[6]\n",
    "            \n",
    "            if genome == \"Yes\":\n",
    "                f = \"%s/%s\"%(taxonid,genome_f)\n",
    "                if f[-3:]==\".gz\":\n",
    "                    os.system(\"gunzip -f %s\"%(f))\n",
    "                    f = \"%s/%s\"%(taxonid,f.split(\".gz\")[0])\n",
    "                #os.system(\"mkdir blast/%s\"%(taxonid))\n",
    "                command = \"makeblastdb -in %s -dbtype nucl -parse_seqids -taxid %s -out blast/%s\"%(f,taxonid,f)\n",
    "                #os.system(command)\n",
    "                l.append(\"./blast/%s\"%(f))\n",
    "            \n",
    "        c+=1\n",
    "    F.close()\n"
   ]
  },
  {
   "cell_type": "code",
   "execution_count": 5,
   "id": "8ab9ed8b-75ea-4158-8c68-fc20530947c6",
   "metadata": {},
   "outputs": [
    {
     "name": "stdout",
     "output_type": "stream",
     "text": [
      "['./blast/48255/GCA_003671575.2_ASM367157v2_genomic.fna', './blast/42260/GCA_013402915.1_ASM1340291v1_genomic.fna', './blast/4954/GCA_900162805.1_version_1_genomic.fna', './blast/4957/GCA_003707595.1_ASM370759v1_genomic.fna', './blast/166050/GCA_003705955.1_ASM370595v1_genomic.fna', './blast/42258/GCA_007556495.1_ASM755649v1_genomic.fna', './blast/1365886/GCA_001984395.2_ASM198439v2_genomic.fna', './blast/1365887/GCA_900408955.1_Zpse1_genomic.fna', './blast/4956/GCA_000026365.1_ASM2636v1_genomic.fna', './blast/1461763/GCA_900465325.1_ABT301_genomic.fna', './blast/1074906/GCA_013423405.1_Zsiamensis_assembly01_genomic.fna', './blast/58632/GCA_003707995.1_ASM370799v1_genomic.fna', './blast/36033/GCA_000150035.1_ASM15003v1_genomic.fna', './blast/4950/GCA_000243375.1_ASM24337v1_genomic.fna', './blast/53488/GCA_003705175.2_ASM370517v2_genomic.fna', './blast/48254/GCA_014133895.1_ASM1413389v1_genomic.fna', './blast/1056991/GCA_931305995.1_CBS12408_genomic.fna', './blast/200334/GCA_003708055.2_ASM370805v2_genomic.fna', './blast/1136883/GCA_900186055.1_TOMI_genomic.fna', './blast/35629/GCA_012851205.1_ASM1285120v1_genomic.fna', './blast/1143185/GCA_946403475.1_Wolfe_Tque_UCD657_genomic.fna', './blast/1071379/GCA_000315915.1_ASM31591v1_genomic.fna', './blast/300277/GCA_003707605.1_ASM370760v1_genomic.fna', './blast/113606/GCA_003705975.1_ASM370597v1_genomic.fna', './blast/279732/GCA_003705985.1_ASM370598v1_genomic.fna', './blast/113608/GCA_000236905.1_ASM23690v1_genomic.fna', './blast/4931/GCA_019431265.1_ASM1943126v1_genomic.fna', './blast/4932/GCA_000146045.2_R64_genomic.fna', './blast/1080349/GCA_001298625.1_SEUB3.0_genomic.fna', './blast/1987369/GCA_900290405.1_SacJureiUoM1_genomic.fna', './blast/27291/GCA_002079055.1_ASM207905v1_genomic.fna', './blast/27292/GCA_011022315.1_ASM1102231v1_genomic.fna', './blast/230603/GCA_947243795.1_Suva-ZP964_genomic.fna', './blast/27288/GCA_000237345.1_ASM23734v1_genomic.fna', './blast/27289/GCA_000227115.2_ASM22711v2_genomic.fna', './blast/51660/GCA_001046975.1_ASM104697v1_genomic.fna', './blast/273131/GCA_001077315.1_ASM107731v1_genomic.fna', './blast/51914/GCA_001046935.1_ASM104693v1_genomic.fna', './blast/51657/GCA_001039675.1_AGH_PRJEB150_V1_genomic.fna', './blast/5478/GCA_000002545.2_ASM254v2_genomic.fna', './blast/418086/GCA_017309295.1_JHU_Cniv_v1_genomic.fna', './blast/29831/GCA_947297695.1_2875_Lachancea_cidri_genomic.fna', './blast/1072105/GCA_900074725.1_LADA0_genomic.fna', './blast/4955/GCA_900074765.1_LAFE0_genomic.fna', './blast/4934/GCA_000149225.2_ASM14922v2_genomic.fna', './blast/1245769/GCA_000938715.1_LALA0_genomic.fna', './blast/300276/GCA_900074715.1_LAME0_genomic.fna', './blast/1230905/GCA_900074745.1_LAMI0_genomic.fna', './blast/679534/GCA_900074755.1_LANO0_genomic.fna', './blast/1654605/GCA_002900925.1_ASM290092v1_genomic.fna', './blast/381046/GCA_000142805.1_ASM14280v1_genomic.fna', './blast/4914/GCA_000167115.1_ASM16711v1_genomic.fna', './blast/33165/GCA_003707555.1_ASM370755v1_genomic.fna', './blast/51656/GCA_003705805.2_ASM370580v2_genomic.fna', './blast/28985/GCA_000002515.1_ASM251v1_genomic.fna', './blast/4911/GCA_001417885.1_Kmar_1.0_genomic.fna', './blast/74104/GCA_003670155.1_ASM367015v1_genomic.fna', './blast/2613904/GCA_008973615.1_ASM897361v1_genomic.fna', './blast/51658/GCA_000179415.1_ASM17941v1_genomic.fna', './blast/271218/GCA_028408415.1_UA_PF_8_W29_2021_genomic.fna', './blast/432096/GCA_000304475.1_Ka_CBS2517_genomic.fna', './blast/61262/GCA_903064755.1_KABA2_genomic.fna', './blast/1006466/GCA_003708535.2_ASM370853v2_genomic.fna', './blast/112263/GCA_933962305.1_KABU0_CLIB596v1_genomic.fna', './blast/34358/GCA_016584175.1_ASM1658417v1_genomic.fna', './blast/51915/GCA_020313495.2_ASM2031349v2_genomic.fna', './blast/935788/GCA_003708845.2_ASM370884v2_genomic.fna', './blast/488016/GCA_003708465.1_ASM370846v1_genomic.fna', './blast/74404/GCA_003708925.2_ASM370892v2_genomic.fna', './blast/588726/GCA_000348985.1_ASM34898v1_genomic.fna', './blast/56413/GCA_003708425.2_ASM370842v2_genomic.fna', './blast/1789683/GCA_900180425.1_ASM90018042v1_genomic.fna', './blast/27293/GCA_028408395.1_UA_PF_9_W20_2021_genomic.fna', './blast/382647/GCA_003708905.2_ASM370890v2_genomic.fna', './blast/1089532/GCA_003708835.2_ASM370883v2_genomic.fna', './blast/1089533/GCA_003708825.2_ASM370882v2_genomic.fna', './blast/655095/GCA_003708865.1_ASM370886v1_genomic.fna', './blast/278024/GCA_023309525.1_ASM2330952v1_genomic.fna', './blast/278027/GCA_017347545.2_ASM1734754v2_genomic.fna', './blast/36907/GCA_009394695.1_ASM939469v1_genomic.fna', './blast/432100/GCA_003708545.1_ASM370854v1_genomic.fna', './blast/27294/GCA_003708525.2_ASM370852v2_genomic.fna', './blast/71246/GCA_003708455.1_ASM370845v1_genomic.fna', './blast/1046750/GCA_003706345.1_ASM370634v1_genomic.fna', './blast/36909/GCA_003705165.1_ASM370516v1_genomic.fna', './blast/109331/GCA_003706365.1_ASM370636v1_genomic.fna', './blast/33173/GCA_000710315.1_Eremothecium_coryli_genomic.fna', './blast/45285/GCA_000235365.1_ASM23536v1_genomic.fna', './blast/33169/GCA_000091025.4_ASM9102v4_genomic.fna', './blast/36916/GCA_003708445.2_ASM370844v2_genomic.fna', './blast/432099/GCA_003709265.1_ASM370926v1_genomic.fna']\n"
     ]
    }
   ],
   "source": [
    "print(l)"
   ]
  },
  {
   "cell_type": "code",
   "execution_count": 6,
   "id": "5e0dbfbe-ce28-4370-b27e-eea23c841ce4",
   "metadata": {},
   "outputs": [],
   "source": [
    "with open(\"dblist_nuc.txt\",\"w\") as F:\n",
    "    for i in l:\n",
    "        F.write(\"%s\\n\"%(i))\n",
    "    F.close()"
   ]
  },
  {
   "cell_type": "code",
   "execution_count": 7,
   "id": "8c1c0a49-bb61-4c3c-a5e0-071a8d1898df",
   "metadata": {},
   "outputs": [
    {
     "name": "stderr",
     "output_type": "stream",
     "text": [
      "Created nucleotide BLAST (alias) database Saccharomycetaceae with 39698 sequences\n"
     ]
    },
    {
     "data": {
      "text/plain": [
       "0"
      ]
     },
     "execution_count": 7,
     "metadata": {},
     "output_type": "execute_result"
    }
   ],
   "source": [
    "command = \"blastdb_aliastool -dblist_file dblist_nuc.txt -out Saccharomycetaceae -title 'Saccharomycetaceae RefSeq' -dbtype nucl\"\n",
    "os.system(command)"
   ]
  },
  {
   "cell_type": "code",
   "execution_count": 8,
   "id": "67590f28-9a65-4f86-b1aa-7845b328d833",
   "metadata": {},
   "outputs": [],
   "source": [
    "\n",
    "for i in l:\n",
    "    command = \"blastn -query hrr25.fna -db %s -outfmt 10 -evalue 1e-10 > ./ScerHRR25_blast/%s.csv\"%(i,i.split(\"/\")[-1].split(\".fna\")[0])\n",
    "    #print(command)\n",
    "    os.system(command)\n",
    "    "
   ]
  },
  {
   "cell_type": "code",
   "execution_count": 9,
   "id": "6359bb9d-56f8-49ad-b1a6-0ced3e55e0ae",
   "metadata": {},
   "outputs": [
    {
     "name": "stderr",
     "output_type": "stream",
     "text": [
      "mkdir: blastp: File exists\n",
      "mkdir: blastp/db: File exists\n",
      "mkdir: blastp/db/42260: File exists\n",
      "mkdir: blastp/db/4954: File exists\n",
      "mkdir: blastp/db/1365886: File exists\n",
      "mkdir: blastp/db/4956: File exists\n",
      "mkdir: blastp/db/36033: File exists\n",
      "mkdir: blastp/db/4950: File exists\n",
      "mkdir: blastp/db/48254: File exists\n",
      "mkdir: blastp/db/1071379: File exists\n",
      "mkdir: blastp/db/113608: File exists\n",
      "mkdir: blastp/db/4932: File exists\n",
      "mkdir: blastp/db/1080349: File exists\n",
      "mkdir: blastp/db/27291: File exists\n",
      "mkdir: blastp/db/27292: File exists\n",
      "mkdir: blastp/db/230603: File exists\n",
      "mkdir: blastp/db/27288: File exists\n",
      "mkdir: blastp/db/27289: File exists\n",
      "mkdir: blastp/db/5478: File exists\n",
      "mkdir: blastp/db/1072105: File exists\n",
      "mkdir: blastp/db/4955: File exists\n",
      "mkdir: blastp/db/1245769: File exists\n",
      "mkdir: blastp/db/300276: File exists\n",
      "mkdir: blastp/db/1230905: File exists\n",
      "mkdir: blastp/db/679534: File exists\n",
      "mkdir: blastp/db/1654605: File exists\n",
      "mkdir: blastp/db/381046: File exists\n",
      "mkdir: blastp/db/28985: File exists\n",
      "mkdir: blastp/db/4911: File exists\n",
      "mkdir: blastp/db/432096: File exists\n",
      "mkdir: blastp/db/61262: File exists\n",
      "mkdir: blastp/db/34358: File exists\n",
      "mkdir: blastp/db/588726: File exists\n",
      "mkdir: blastp/db/1789683: File exists\n",
      "mkdir: blastp/db/45285: File exists\n",
      "mkdir: blastp/db/33169: File exists\n"
     ]
    }
   ],
   "source": [
    "c = 0\n",
    "l = []\n",
    "os.system(\"mkdir blastp\")\n",
    "os.system(\"mkdir blastp/db\")\n",
    "\n",
    "with open(\"NCBI_download_summary.csv\",\"r\") as F:\n",
    "    for line in F:\n",
    "        cols = line.split(\"\\n\")[0].split(\",\")\n",
    "        #print(cols)\n",
    "        if c == 0:\n",
    "            pass\n",
    "        else:\n",
    "            genus     = cols[0]\n",
    "            species   = cols[1]\n",
    "            taxonid   = cols[2]\n",
    "            genome    = cols[3]\n",
    "            genome_f  = cols[4]\n",
    "            protein   = cols[5]\n",
    "            protein_f = cols[6]\n",
    "            \n",
    "            if protein == \"Yes\":\n",
    "                os.system(\"mkdir blastp/db/%s\"%(taxonid))\n",
    "                f = \"%s\"%(protein_f)\n",
    "                #os.system(\"gunzip -f ./genomes/%s\"%(f))\n",
    "                f = \"%s\"%(f.split(\".gz\")[0])                \n",
    "                command = \"makeblastdb -in ./genomes/%s/%s -dbtype prot -parse_seqids -taxid %s -out ./blastp/db/%s/%s\"%(taxonid,f,taxonid,taxonid,f)\n",
    "                #os.system(command)\n",
    "                l.append(\"./blastp/db/%s/%s\"%(taxonid,f))\n",
    "        c+=1\n",
    "    F.close()\n"
   ]
  },
  {
   "cell_type": "code",
   "execution_count": 10,
   "id": "a7e734e6-c867-428d-b25d-8731201fb52c",
   "metadata": {},
   "outputs": [
    {
     "name": "stderr",
     "output_type": "stream",
     "text": [
      "mkdir: blastp/out: File exists\n"
     ]
    },
    {
     "data": {
      "text/plain": [
       "256"
      ]
     },
     "execution_count": 10,
     "metadata": {},
     "output_type": "execute_result"
    }
   ],
   "source": [
    "os.system(\"mkdir blastp/out\")"
   ]
  },
  {
   "cell_type": "code",
   "execution_count": 11,
   "id": "10ed25fe-f04c-48b5-bf90-33f9b464bcaa",
   "metadata": {},
   "outputs": [],
   "source": [
    "out_p = []\n",
    "for i in l:\n",
    "    command = \"blastp -query hrr25.faa -db %s -outfmt 10 -evalue 1e-10 > ./blastp/out/ScerHRR25_blast_%s.csv\"%(i,i.split(\"/\")[-1].split(\".faa\")[0])\n",
    "    out_p.append((i,\"./blastp/out/ScerHRR25_blast_%s.csv\"%(i.split(\"/\")[-1].split(\".faa\")[0])))\n",
    "    print(command)\n",
    "    os.system(command)\n",
    "    "
   ]
  },
  {
   "cell_type": "code",
   "execution_count": 19,
   "id": "90371389-889c-4609-8caf-03c1d27839e5",
   "metadata": {},
   "outputs": [],
   "source": [
    "def fasta2dict(f):\n",
    "    d = {}\n",
    "    with  open(f,\"r\") as F:\n",
    "        for line in F:\n",
    "            if line[0]==\">\":\n",
    "                name = line[1:].split(\"\\n\")[0].replace(\",\",\";\")\n",
    "                ID   = name.split(\" \")[0] \n",
    "                d[ID] = {\"Name\":name,\"Seq\":''}\n",
    "            else:\n",
    "                #print(name)\n",
    "                d[ID][\"Seq\"]+= line.split(\"\\n\")[0]\n",
    "    F.close()\n",
    "\n",
    "    return d\n",
    "\n",
    "\n",
    "\n",
    "def csv2LL(f_name):\n",
    "    LL = []\n",
    "    with open(f_name,\"r\") as F:\n",
    "\n",
    "        for line in F:\n",
    "            cols = line.split(\"\\n\")[0].split(\",\")\n",
    "            LL.append(cols)\n",
    "    return LL\n",
    "\n",
    "def parse_blast(f):\n",
    "    d = {}\n",
    "    with open(f,\"r\") as F:\n",
    "        for line in F:\n",
    "            cols        =    line.split(\",\")\n",
    "\n",
    "            query       =    cols[0]\n",
    "            subject     =    cols[1]\n",
    "            identity    =    float(cols[2])\n",
    "            align_len   =    int(cols[3])\n",
    "            \n",
    "            strt_on_q    =    int(cols[6])\n",
    "            end_on_q    =    int(cols[7])\n",
    "            strt_on_s   =    int(cols[8])\n",
    "            end_on_s    =    int(cols[9])\n",
    "            evalue      =    float(cols[10])\n",
    "            bit_score   =    float(cols[11])\n",
    "            \n",
    "            \n",
    "            d[(query,subject)] = {\n",
    "                \"bit_score\"   : bit_score   ,\n",
    "                \"identity\"   : identity   ,\n",
    "                \"strt_on_q\"   : strt_on_q   ,\n",
    "                \"end_on_q\"    : end_on_q   ,\n",
    "                \"strt_on_s\"   : strt_on_s   ,\n",
    "                \"end_on_s\"    : end_on_s   ,\n",
    "                \"evalue\"      : evalue   \n",
    "            }\n",
    "\n",
    "            \n",
    "        F.close()\n",
    "        \n",
    "    return d\n",
    "\n"
   ]
  },
  {
   "cell_type": "code",
   "execution_count": 20,
   "id": "e2ed8fd7-8ce5-4f86-856d-22e41f983dfc",
   "metadata": {},
   "outputs": [],
   "source": [
    "out_l = [[\"Taxon_ID\",\"Protein_f\",\"Protein_ID\",\"Protein_Info\",\"Protein_Seq\",\"Identity\",\"Start_on_q\",\"End_on_q\",\"Start_on_s\",\"End_on_s\",\"evalue\"]]\n",
    "for entry in out_p:\n",
    "    blastdb = entry[0]\n",
    "    blastout= entry[1]\n",
    "\n",
    "    faa     = blastdb.replace(\"./blastp/db\",\"./genomes\")\n",
    "    faa_d       = fasta2dict(faa)\n",
    "    #pprint(faa_d)\n",
    "    blast_d = parse_blast(blastout)\n",
    "    #print(entry)\n",
    "    \n",
    "    taxon = blastdb.split(\"/\")[3]\n",
    "    \n",
    "    for hit in blast_d:\n",
    "        subject = hit[1]\n",
    "        #print(subject)\n",
    "        \n",
    "        protein_info = faa_d[subject][\"Name\"]\n",
    "        seq          = faa_d[subject][\"Seq\"]\n",
    "        identity     = blast_d[hit][\"identity\"]\n",
    "        strt_on_q    = blast_d[hit][\"strt_on_q\"]\n",
    "        end_on_q     = blast_d[hit][\"end_on_q\"]\n",
    "        strt_on_s    = blast_d[hit][\"strt_on_s\"]\n",
    "        end_on_s     = blast_d[hit][\"end_on_s\"]\n",
    "        evalue     = blast_d[hit][\"evalue\"]\n",
    "        \n",
    "                \n",
    "        l_hit = [taxon,blastdb.split(\"/\")[-1],subject, protein_info,seq,identity,strt_on_q,end_on_q,strt_on_s,end_on_s,evalue ]\n",
    "        \n",
    "        out_l.append(l_hit)\n",
    "        \n",
    "    \n",
    "    "
   ]
  },
  {
   "cell_type": "code",
   "execution_count": 21,
   "id": "67606ade-2cc7-4025-9398-fa441595d383",
   "metadata": {},
   "outputs": [],
   "source": [
    "LL2csv(out_l,\"2023-03-02_BLASTp_parsed.csv\")"
   ]
  },
  {
   "cell_type": "code",
   "execution_count": null,
   "id": "da6c7139-1529-4912-83c9-fbc3570d7358",
   "metadata": {},
   "outputs": [],
   "source": []
  },
  {
   "cell_type": "code",
   "execution_count": null,
   "id": "2746ed25-0f32-490a-b848-4c0f6e90b1b8",
   "metadata": {},
   "outputs": [],
   "source": []
  }
 ],
 "metadata": {
  "kernelspec": {
   "display_name": "Python 3 (ipykernel)",
   "language": "python",
   "name": "python3"
  },
  "language_info": {
   "codemirror_mode": {
    "name": "ipython",
    "version": 3
   },
   "file_extension": ".py",
   "mimetype": "text/x-python",
   "name": "python",
   "nbconvert_exporter": "python",
   "pygments_lexer": "ipython3",
   "version": "3.9.7"
  }
 },
 "nbformat": 4,
 "nbformat_minor": 5
}
