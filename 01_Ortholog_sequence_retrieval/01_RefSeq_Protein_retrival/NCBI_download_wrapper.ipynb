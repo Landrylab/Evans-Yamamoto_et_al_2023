{
 "cells": [
  {
   "cell_type": "code",
   "execution_count": 2,
   "id": "17c27941-8a5c-466e-ae2d-d010f9214306",
   "metadata": {},
   "outputs": [],
   "source": [
    "import os"
   ]
  },
  {
   "cell_type": "code",
   "execution_count": 3,
   "id": "60a05c59-c157-46f6-a53c-84bb866b68c0",
   "metadata": {},
   "outputs": [],
   "source": [
    "def get_f(directory,suffix):\n",
    "    files = []\n",
    "    lis = os.listdir(\"%s\" %directory)\n",
    "    for i in lis:\n",
    "        if i[-(len(suffix)+1):] == \".%s\"%(suffix) :\n",
    "            files.append(i)\n",
    "    return files\n",
    "\n",
    "def LL2csv(LL,name):\n",
    "    with open(name,\"w\") as F:\n",
    "        for L in LL:\n",
    "            F.write(\"%s\\n\" %  (\",\").join( [str(i) for i in L]))\n",
    "    F.close()\n",
    "\n"
   ]
  },
  {
   "cell_type": "code",
   "execution_count": 5,
   "id": "f719e7a6-f128-47b3-8a02-03f57c0be1aa",
   "metadata": {},
   "outputs": [],
   "source": [
    "c = 0\n",
    "LL = []\n",
    "with open(\"Saccharomycetaceae_species.csv\",\"r\") as F:\n",
    "    for line in F:\n",
    "        cols = line.split(\"\\n\")[0].split(\",\")\n",
    "        #print(cols)\n",
    "        if c == 0:\n",
    "            cols.append(\"Genome\")\n",
    "            cols.append(\"Genome.Accession\")\n",
    "            cols.append(\"Protein\")\n",
    "            cols.append(\"Protein.Accession\")\n",
    "            LL.append(cols)\n",
    "        else:\n",
    "            command= \"sh download_ncbi_genomes.sh %s\"%(cols[2])\n",
    "            os.system(command)\n",
    "            \n",
    "            genome = get_f(\"./genomes/%s\"%(cols[2]),\"fna\")\n",
    "            protein = get_f(\"./genomes/%s\"%(cols[2]),\"faa\")\n",
    "            \n",
    "            if len(genome) >0:\n",
    "                cols.append(\"Yes\")\n",
    "                cols.append((\";\").join(genome))\n",
    "            else:\n",
    "                cols.append(\"No\")\n",
    "                cols.append(\"\")\n",
    "                \n",
    "            if len(protein) >0:\n",
    "                cols.append(\"Yes\")\n",
    "                cols.append((\";\").join(protein))\n",
    "            else:\n",
    "                cols.append(\"No\")\n",
    "                cols.append(\"\")\n",
    "            LL.append(cols)\n",
    "        \n",
    "                    \n",
    "        c+=1\n",
    "    F.close()\n",
    "LL2csv(LL,\"2023-03-01_NCBI_download_summary.csv\")"
   ]
  },
  {
   "cell_type": "code",
   "execution_count": null,
   "id": "d8bab110-b64d-46a2-921b-7eba51188e1d",
   "metadata": {},
   "outputs": [],
   "source": []
  }
 ],
 "metadata": {
  "kernelspec": {
   "display_name": "Python 3 (ipykernel)",
   "language": "python",
   "name": "python3"
  },
  "language_info": {
   "codemirror_mode": {
    "name": "ipython",
    "version": 3
   },
   "file_extension": ".py",
   "mimetype": "text/x-python",
   "name": "python",
   "nbconvert_exporter": "python",
   "pygments_lexer": "ipython3",
   "version": "3.9.7"
  }
 },
 "nbformat": 4,
 "nbformat_minor": 5
}
