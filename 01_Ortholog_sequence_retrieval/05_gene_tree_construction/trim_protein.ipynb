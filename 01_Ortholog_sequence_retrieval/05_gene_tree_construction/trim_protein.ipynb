{
 "cells": [
  {
   "cell_type": "code",
   "execution_count": 4,
   "id": "07980458-f72b-48a7-a309-870cf55e199b",
   "metadata": {},
   "outputs": [],
   "source": [
    "import os,sys,re\n",
    "\n",
    "def fasta2dict(f):\n",
    "    d = {}\n",
    "    with  open(f,\"r\") as F:\n",
    "        for line in F:\n",
    "            if line[0]==\">\":\n",
    "                name = line[1:].split(\"\\n\")[0].split(\"|\")[0]\n",
    "                d[name] = ''\n",
    "            else:\n",
    "                #print(name)\n",
    "                d[name]+= line.split(\"\\n\")[0]\n",
    "    F.close()\n",
    "\n",
    "    return d\n",
    "\n",
    "def make_fasta_from_listoftups(L,name):\n",
    "    with open(\"%s\"%name,\"w\") as f:\n",
    "        for I in L:\n",
    "            #print I\n",
    "            f.write('>%s\\n'%(str(I[0])))\n",
    "            f.write('%s\\n'%(str(I[1])))\n",
    "        f.close()\n",
    "        #print(\"Made fna file : %s\"%(name))\n",
    "\n",
    "        \n",
    "def make_csv_from_listoftups(L,name):\n",
    "    with open(\"%s\"%name,\"w\") as f:\n",
    "        for I in L:\n",
    "            #print I\n",
    "            f.write('%s,%s\\n'%(str(I[0]),str(I[1])))\n",
    "        f.close()\n",
    "        #print(\"Made fna file : %s\"%(name))\n",
    "\n",
    "        "
   ]
  },
  {
   "cell_type": "code",
   "execution_count": 2,
   "id": "efac516a-7cb4-48fb-82ba-f7c98aad7daf",
   "metadata": {},
   "outputs": [],
   "source": [
    "aa_d = fasta2dict(\"HRR25_geneanalysis_aa.fna\")\n",
    "nt_d = fasta2dict(\"HRR25_geneanalysis_nt.fna\")\n",
    "\n",
    "for prot in aa_d:\n",
    "    trim_seq  = aa_d[prot].split(\"*\")[0]\n",
    "    aa_d[prot]=trim_seq\n",
    "    \n",
    "    trim_len = len(trim_seq)\n",
    "    dna_len  = trim_len*3\n",
    "    nt_d[prot]=nt_d[prot][0:dna_len]\n",
    "    "
   ]
  },
  {
   "cell_type": "code",
   "execution_count": 3,
   "id": "4c38a498-135e-4995-8c6d-ff0cc1ccba3d",
   "metadata": {},
   "outputs": [],
   "source": [
    "aa_tup = [(i,aa_d[i]) for i in aa_d]\n",
    "nt_tup = [(i,nt_d[i]) for i in nt_d]\n",
    "\n",
    "make_fasta_from_listoftups(aa_tup,\"HRR25_geneanalysis_aa_trimmed.fna\")\n",
    "make_fasta_from_listoftups(nt_tup,\"HRR25_geneanalysis_nt_translatorXinput.fna\")"
   ]
  },
  {
   "cell_type": "code",
   "execution_count": 5,
   "id": "637a0450-c07a-4b02-a976-1fba6f202d9b",
   "metadata": {},
   "outputs": [],
   "source": [
    "\n",
    "\n",
    "make_csv_from_listoftups(aa_tup,\"HRR25_geneanalysis_aa_trimmed.csv\")\n",
    "make_csv_from_listoftups(nt_tup,\"HRR25_geneanalysis_nt_translatorXinput.csv\")"
   ]
  },
  {
   "cell_type": "code",
   "execution_count": null,
   "id": "5659a5a0-694c-4206-b3be-39355201fa63",
   "metadata": {},
   "outputs": [],
   "source": []
  }
 ],
 "metadata": {
  "kernelspec": {
   "display_name": "Python 3 (ipykernel)",
   "language": "python",
   "name": "python3"
  },
  "language_info": {
   "codemirror_mode": {
    "name": "ipython",
    "version": 3
   },
   "file_extension": ".py",
   "mimetype": "text/x-python",
   "name": "python",
   "nbconvert_exporter": "python",
   "pygments_lexer": "ipython3",
   "version": "3.9.7"
  }
 },
 "nbformat": 4,
 "nbformat_minor": 5
}
