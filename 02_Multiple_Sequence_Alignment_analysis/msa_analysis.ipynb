{
 "cells": [
  {
   "cell_type": "code",
   "execution_count": 17,
   "id": "a63b4332-4058-4578-9810-b6b3d58e4fa9",
   "metadata": {},
   "outputs": [],
   "source": [
    "import os\n",
    "import glob\n",
    "from pprint import pprint\n",
    "import numpy as np\n",
    "import pandas as pd\n",
    "\n",
    "from Bio import SeqIO\n",
    "from Bio import pairwise2\n",
    "from Bio.pairwise2 import format_alignment\n",
    "import Bio.Align.substitution_matrices as matlist\n",
    "BLOSUM62 = matlist.load(\"BLOSUM62\")\n",
    "\n",
    "import functions as fun\n"
   ]
  },
  {
   "cell_type": "code",
   "execution_count": 18,
   "id": "2a16df75-ce04-4e7f-96f8-436088d45f71",
   "metadata": {},
   "outputs": [],
   "source": [
    "#print(BLOSUM62)"
   ]
  },
  {
   "cell_type": "code",
   "execution_count": 19,
   "id": "a4b1e70e-0d4c-49d0-8628-aeac6e21912c",
   "metadata": {},
   "outputs": [],
   "source": [
    "# Read MSA file as fasta\n",
    "mafft_f = \"./input/mafft_translatorx.aa_ali.fasta\"\n",
    "\n",
    "msa = fun.fasta2dict(mafft_f)\n",
    "#pprint(msa)"
   ]
  },
  {
   "cell_type": "code",
   "execution_count": 20,
   "id": "d1578b99-81cd-4ef5-8b14-994943937300",
   "metadata": {},
   "outputs": [],
   "source": [
    "l_ordered = sorted(list(msa.keys()))\n",
    "#l_ordered"
   ]
  },
  {
   "cell_type": "code",
   "execution_count": 21,
   "id": "269b8903-ca06-42b2-a7ef-93afc843eae7",
   "metadata": {},
   "outputs": [],
   "source": [
    "msa_data = [[\"ID\",\"Seq\"]]\n",
    "\n",
    "for i in l_ordered:\n",
    "    msa_data.append([i,msa[i]])"
   ]
  },
  {
   "cell_type": "code",
   "execution_count": 22,
   "id": "b29e8805-c397-472d-bde4-4037d15e80b4",
   "metadata": {},
   "outputs": [],
   "source": [
    "#pprint(phylo_info)"
   ]
  },
  {
   "cell_type": "code",
   "execution_count": 23,
   "id": "f73c6e4c-9c73-4a36-9b5c-25db9c624163",
   "metadata": {},
   "outputs": [],
   "source": [
    "wt_msa = msa[\"HRR25_20.1\"] # S.cerevisiae\n",
    "# Create empty list to fill Alignment data\n",
    "msa_data[0] += [i for i in range(1,len(wt_msa)+1)]\n",
    "for L in msa_data[1:]:\n",
    "    L += [0 for i in range(1,len(wt_msa)+1)]\n",
    "wt_msa_pos = [[\"MSA_pos\",\"Scer_HRR25\",\"Scer_Pos\"]]\n",
    "c = 0\n",
    "for i in range(0,len(wt_msa)):\n",
    "    if wt_msa[i] == \"-\":\n",
    "        l = [i+1,0]\n",
    "        wt_msa_pos.append(l)\n",
    "        \n",
    "    else:\n",
    "        c+=1\n",
    "        l = [i+1,1,c]\n",
    "        wt_msa_pos.append(l)\n",
    "fun.LL2csv(wt_msa_pos,\"./meta_data/MSApos2HRR25_ref_Scer.csv\")\n",
    "\n",
    "\n",
    "for position in range(0,len(wt_msa)):\n",
    "    for L in msa_data[1:]:\n",
    "        #print(L)\n",
    "        subject = wt_msa[position]\n",
    "        query = msa[L[0]][position]\n",
    "\n",
    "        try:\n",
    "            scoreWT= BLOSUM62[subject][subject]\n",
    "            score  = BLOSUM62[subject][query]/scoreWT*100\n",
    "        except IndexError:\n",
    "            if (subject == \"-\"):\n",
    "                if (query == \"-\"):\n",
    "                    score = 100.0\n",
    "                else:\n",
    "                    score = -100.0\n",
    "            else:\n",
    "                if (query == \"-\"):\n",
    "                    score = -100.0\n",
    "        L[2+position] = score         \n",
    "        \n",
    "fun.LL2csv(msa_data,\"./output/2023-08-06_HRR25_protein_alignment_parsed_ref_Scer.csv\")"
   ]
  },
  {
   "cell_type": "code",
   "execution_count": 29,
   "id": "a8ba2593-f615-4017-b4a9-0ad3a0e7f2bb",
   "metadata": {},
   "outputs": [
    {
     "name": "stdout",
     "output_type": "stream",
     "text": [
      "Generated : MSApos2HRR25_ref_Tdel.csv\n",
      "Generated : ./2023-08-06_HRR25_protein_alignment_parsed_ref_Tdel.csv\n"
     ]
    }
   ],
   "source": [
    "wt_msa = msa[\"HRR25_42.1\"] # T.del\n",
    "# Create empty list to fill Alignment data\n",
    "msa_data[0] += [i for i in range(1,len(wt_msa)+1)]\n",
    "for L in msa_data[1:]:\n",
    "    L += [0 for i in range(1,len(wt_msa)+1)]\n",
    "wt_msa_pos = [[\"MSA_pos\",\"T.del_HRR25\",\"Scer_Pos\"]]\n",
    "c = 0\n",
    "for i in range(0,len(wt_msa)):\n",
    "    if wt_msa[i] == \"-\":\n",
    "        l = [i+1,0]\n",
    "        wt_msa_pos.append(l)\n",
    "        \n",
    "    else:\n",
    "        c+=1\n",
    "        l = [i+1,1,c]\n",
    "        wt_msa_pos.append(l)\n",
    "fun.LL2csv(wt_msa_pos,\"./meta_data/MSApos2HRR25_ref_Tdel.csv\")\n",
    "\n",
    "\n",
    "for position in range(0,len(wt_msa)):\n",
    "    for L in msa_data[1:]:\n",
    "        #print(L)\n",
    "        subject = wt_msa[position]\n",
    "        query = msa[L[0]][position]\n",
    "\n",
    "        try:\n",
    "            scoreWT= BLOSUM62[subject][subject]\n",
    "            score  = BLOSUM62[subject][query]/scoreWT*100\n",
    "        except IndexError:\n",
    "            if (subject == \"-\"):\n",
    "                if (query == \"-\"):\n",
    "                    score = 100.0\n",
    "                else:\n",
    "                    score = -100.0\n",
    "            else:\n",
    "                if (query == \"-\"):\n",
    "                    score = -100.0\n",
    "        L[2+position] = score         \n",
    "        \n",
    "fun.LL2csv(msa_data,\"./output/2023-08-06_HRR25_protein_alignment_parsed_ref_Tdel.csv\")"
   ]
  },
  {
   "cell_type": "code",
   "execution_count": 37,
   "id": "9ddc6c6b-34f3-446d-9a55-f036e35076a5",
   "metadata": {},
   "outputs": [
    {
     "name": "stdout",
     "output_type": "stream",
     "text": [
      "Generated : ./2023-08-06_HRR25_protein_alignment_parsed_ref_Tdel_dup.csv\n"
     ]
    }
   ],
   "source": [
    "msa_data.append([\"a\"])\n",
    "new_msa = [msa_data[0]]\n",
    "for i in range(1,len(msa_data)-1):\n",
    "    new_msa.append(msa_data[i])\n",
    "    if msa_data[i][0].split(\".\")[1] ==\"1\":\n",
    "        if msa_data[i][0].split(\".\")[0] !=  msa_data[i+1][0].split(\".\")[0]:\n",
    "            new_entry = [msa_data[i][0].split(\".\")[0]+\".2\"]\n",
    "            new_entry += msa_data[i][1:]\n",
    "            new_msa.append(new_entry)\n",
    "\n",
    "            \n",
    "fun.LL2csv(new_msa,\"./output/2023-08-06_HRR25_protein_alignment_parsed_ref_Tdel_dup.csv\")"
   ]
  },
  {
   "cell_type": "code",
   "execution_count": null,
   "id": "feb9937a-c107-40e0-a708-991e3d5206e0",
   "metadata": {},
   "outputs": [],
   "source": []
  }
 ],
 "metadata": {
  "kernelspec": {
   "display_name": "Python 3 (ipykernel)",
   "language": "python",
   "name": "python3"
  },
  "language_info": {
   "codemirror_mode": {
    "name": "ipython",
    "version": 3
   },
   "file_extension": ".py",
   "mimetype": "text/x-python",
   "name": "python",
   "nbconvert_exporter": "python",
   "pygments_lexer": "ipython3",
   "version": "3.9.7"
  }
 },
 "nbformat": 4,
 "nbformat_minor": 5
}
